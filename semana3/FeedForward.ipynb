{
  "nbformat": 4,
  "nbformat_minor": 0,
  "metadata": {
    "colab": {
      "name": "semana3.1_RNs_FeedForward.ipynb",
      "provenance": [],
      "collapsed_sections": []
    },
    "kernelspec": {
      "name": "python3",
      "display_name": "Python 3"
    },
    "language_info": {
      "name": "python"
    }
  },
  "cells": [
    {
      "cell_type": "markdown",
      "source": [
        "[![Open In Colab](https://colab.research.google.com/assets/colab-badge.svg)](https://colab.research.google.com/github/MaxMitre/Redes_Neuronales_Scratch/blob/main/semana3/FeedForward.ipynb)"
      ],
      "metadata": {
        "id": "3nICodjfPoDP"
      }
    },
    {
      "cell_type": "code",
      "execution_count": null,
      "metadata": {
        "id": "9X5r06mPp_xV"
      },
      "outputs": [],
      "source": [
        "import numpy as np"
      ]
    },
    {
      "cell_type": "code",
      "source": [
        "from google.colab import drive\n",
        "drive.mount('/content/drive')"
      ],
      "metadata": {
        "id": "6r4TwefhrUrH",
        "colab": {
          "base_uri": "https://localhost:8080/"
        },
        "outputId": "2d10e4a2-9772-458d-8900-ce683ec15637"
      },
      "execution_count": null,
      "outputs": [
        {
          "output_type": "stream",
          "name": "stdout",
          "text": [
            "Mounted at /content/drive\n"
          ]
        }
      ]
    },
    {
      "cell_type": "markdown",
      "source": [
        "# Una sola neurona, la base de todo\n",
        "\n",
        "<center>\n",
        "  <img src='https://github.com/MaxMitre/Redes_Neuronales_Scratch/blob/main/semana3/images/without_dot.png?raw=true'>\n",
        "</center>"
      ],
      "metadata": {
        "id": "SQWarm4Tv-Jb"
      }
    },
    {
      "cell_type": "markdown",
      "source": [
        "[Respuesta](https://github.com/MaxMitre/Redes_Neuronales_Scratch/blob/main/semana3/images/with_dot.png?raw=true)"
      ],
      "metadata": {
        "id": "ZoqdCfgM_r0R"
      }
    },
    {
      "cell_type": "markdown",
      "source": [
        "# Una red neuronal con varias capas ocultas\n",
        "\n",
        "<center>\n",
        "  <img src='https://github.com/MaxMitre/Redes_Neuronales_Scratch/blob/main/semana3/images/3layer.png?raw=true' width=1000>\n",
        "</center>\n",
        "\n",
        "Los puntos en la imagen solo son para evitar poner todas las flechas, pero significa que todas las nueronas se conectan con todas las neuronas siguientes"
      ],
      "metadata": {
        "id": "hUNtW_J1wnha"
      }
    },
    {
      "cell_type": "markdown",
      "source": [
        "En esta red, los pesos (w, w prima, w bi-prima) son los algunos de los parámetros del modelo, estos influyen lo que entrará en la siguiente capa.\n",
        "\n",
        "La notación $N_{i,j}$ representa la neurona $i$-ésima de la capa $j$-ésima\n",
        "\n",
        "La notación $w_{i,j}$ representa el peso que va de la $i$-ésima entrada a la $j$-ésima neurona. Los pesos $w$ son de la primera capa, los $w^{\\prime}$ los de la siguiente y $w^{\\prime\\prime}$ los de la siguiente."
      ],
      "metadata": {
        "id": "aa-WZ7LGBqcs"
      }
    },
    {
      "cell_type": "markdown",
      "source": [
        "Preguntas:\n",
        "\n",
        "1. ¿Cuantas características tendrán nuestros datos con los que alimentaremos el modelo?\n",
        "2. ¿Cuantas capas ocultas tiene la red?\n",
        "3. ¿Cuantos parámetros a entrenar tiene TODA la red?\n",
        "4. Mencione 3 funciones de activación que conozca\n",
        "5. ¿Porque son importantes los distintos tipos de funciones de activación?"
      ],
      "metadata": {
        "id": "a9iCHAQRBWbj"
      }
    },
    {
      "cell_type": "markdown",
      "source": [
        "Hagamos los calculos para la red anterior, utilizando solo 2 datos (esto representaría 2 filas de alguna base de datos, posteriormente solo aumentarian la forma de esta matriz de 2x3 a Nx3, con N la cantidad de filas de su base de datos)"
      ],
      "metadata": {
        "id": "PVyWY938DB6Z"
      }
    },
    {
      "cell_type": "code",
      "source": [
        "np.random.seed(11)"
      ],
      "metadata": {
        "id": "EGZ0rBfRGzxd"
      },
      "execution_count": null,
      "outputs": []
    },
    {
      "cell_type": "code",
      "source": [
        "# Datos, matriz X\n",
        "X = np.array([[1,3,-1],[-1,1,4]]) \n",
        "X"
      ],
      "metadata": {
        "id": "ySeyBSRztoTZ",
        "colab": {
          "base_uri": "https://localhost:8080/"
        },
        "outputId": "aa8a3a13-35e3-448b-d0ae-1e73977c7af0"
      },
      "execution_count": null,
      "outputs": [
        {
          "output_type": "execute_result",
          "data": {
            "text/plain": [
              "array([[ 1,  3, -1],\n",
              "       [-1,  1,  4]])"
            ]
          },
          "metadata": {},
          "execution_count": 4
        }
      ]
    },
    {
      "cell_type": "code",
      "source": [
        "# Etiqueta de los datos, o valor que buscamos aproximar: Y\n",
        "Y = np.array([[3],[-1]])\n",
        "Y"
      ],
      "metadata": {
        "id": "f_QaaqeiD5eo",
        "colab": {
          "base_uri": "https://localhost:8080/"
        },
        "outputId": "fe7fed27-ff7e-4e79-f608-75e272d6fd76"
      },
      "execution_count": null,
      "outputs": [
        {
          "output_type": "execute_result",
          "data": {
            "text/plain": [
              "array([[ 3],\n",
              "       [-1]])"
            ]
          },
          "metadata": {},
          "execution_count": 5
        }
      ]
    },
    {
      "cell_type": "code",
      "source": [
        "# Matriz de pesos que alimentarian la primer capa, W_1\n",
        "W_1 = np.random.normal(0, 0.1, (3, 4)) # Jugaremos con este parametro\n",
        "W_1"
      ],
      "metadata": {
        "id": "2kbjas4RD9nY",
        "colab": {
          "base_uri": "https://localhost:8080/"
        },
        "outputId": "cb8e6a12-2e30-47e1-931c-5a2156d0546b"
      },
      "execution_count": null,
      "outputs": [
        {
          "output_type": "execute_result",
          "data": {
            "text/plain": [
              "array([[ 0.17494547, -0.0286073 , -0.04845651, -0.26533186],\n",
              "       [-0.00082846, -0.03196314, -0.05366294,  0.03154027],\n",
              "       [ 0.04210507, -0.1065603 , -0.08862397, -0.04757335]])"
            ]
          },
          "metadata": {},
          "execution_count": 8
        }
      ]
    },
    {
      "cell_type": "code",
      "source": [
        "X@W_1"
      ],
      "metadata": {
        "id": "iUF7IB8VFw5V",
        "colab": {
          "base_uri": "https://localhost:8080/"
        },
        "outputId": "acb21fde-5747-47b9-ff1f-93a32a9d6f66"
      },
      "execution_count": null,
      "outputs": [
        {
          "output_type": "execute_result",
          "data": {
            "text/plain": [
              "array([[ 0.13035501, -0.01793641, -0.12082135, -0.12313771],\n",
              "       [-0.00735365, -0.42959703, -0.35970229,  0.10657873]])"
            ]
          },
          "metadata": {},
          "execution_count": 9
        }
      ]
    },
    {
      "cell_type": "code",
      "source": [
        "# biases, sesgos o interceptos que alimentarán la primer capa\n",
        "b_1 = np.random.normal(0,0.1, 4)\n",
        "b_1"
      ],
      "metadata": {
        "id": "loJzsGTBFj4U",
        "colab": {
          "base_uri": "https://localhost:8080/"
        },
        "outputId": "ad74a796-985f-40f6-92e0-815f3b671ec2"
      },
      "execution_count": null,
      "outputs": [
        {
          "output_type": "execute_result",
          "data": {
            "text/plain": [
              "array([ 0.06896823,  0.05611922, -0.13055485, -0.11194753])"
            ]
          },
          "metadata": {},
          "execution_count": 10
        }
      ]
    },
    {
      "cell_type": "code",
      "source": [
        "X@W_1 + b_1"
      ],
      "metadata": {
        "id": "z9pLC6G7GZ6s",
        "colab": {
          "base_uri": "https://localhost:8080/"
        },
        "outputId": "9a2deaa1-d009-4101-9242-f84cada8efe5"
      },
      "execution_count": null,
      "outputs": [
        {
          "output_type": "execute_result",
          "data": {
            "text/plain": [
              "array([[ 0.19932324,  0.03818281, -0.25137621, -0.23508523],\n",
              "       [ 0.06161458, -0.37347781, -0.49025714, -0.0053688 ]])"
            ]
          },
          "metadata": {},
          "execution_count": 11
        }
      ]
    },
    {
      "cell_type": "markdown",
      "source": [
        "¿A quien representa esta salida (X@W_1 + b_1) ? ¿Que se hace con ella?"
      ],
      "metadata": {
        "id": "2v6cqs9EHw6z"
      }
    },
    {
      "cell_type": "markdown",
      "source": [
        "# Siguiente paso en la red"
      ],
      "metadata": {
        "id": "4FI4IvTxekff"
      }
    },
    {
      "cell_type": "code",
      "source": [
        "X_2 = X @ W_1 + b_1\n",
        "X_2"
      ],
      "metadata": {
        "id": "HIGGH05Me5Ug",
        "colab": {
          "base_uri": "https://localhost:8080/"
        },
        "outputId": "7641c1ca-bdd2-421e-bff0-ee8ac0973aaa"
      },
      "execution_count": null,
      "outputs": [
        {
          "output_type": "execute_result",
          "data": {
            "text/plain": [
              "array([[ 0.19932324,  0.03818281, -0.25137621, -0.23508523],\n",
              "       [ 0.06161458, -0.37347781, -0.49025714, -0.0053688 ]])"
            ]
          },
          "metadata": {},
          "execution_count": 18
        }
      ]
    },
    {
      "cell_type": "code",
      "source": [
        "W_2 = np.random.normal(0, 0.1, (4, 3))\n",
        "W_2"
      ],
      "metadata": {
        "id": "L3oAAbEuekBn",
        "colab": {
          "base_uri": "https://localhost:8080/"
        },
        "outputId": "a33ba7a0-c25d-4062-e98e-84eb4250b06a"
      },
      "execution_count": null,
      "outputs": [
        {
          "output_type": "execute_result",
          "data": {
            "text/plain": [
              "array([[ 0.07368374,  0.15746341, -0.00310751],\n",
              "       [-0.06834466,  0.10956297, -0.03095766],\n",
              "       [ 0.07257522,  0.15490716,  0.06300798],\n",
              "       [ 0.00734932,  0.07322714, -0.06425754]])"
            ]
          },
          "metadata": {},
          "execution_count": 12
        }
      ]
    },
    {
      "cell_type": "code",
      "source": [
        "b_2 = np.random.normal(0,0.1, 3)\n",
        "b_2"
      ],
      "metadata": {
        "id": "XMalNCx0eqwM",
        "colab": {
          "base_uri": "https://localhost:8080/"
        },
        "outputId": "9f276fef-4afb-4a81-ec2d-fc59e17af80c"
      },
      "execution_count": null,
      "outputs": [
        {
          "output_type": "execute_result",
          "data": {
            "text/plain": [
              "array([-0.01780932, -0.05739546, -0.02043753])"
            ]
          },
          "metadata": {},
          "execution_count": 13
        }
      ]
    },
    {
      "cell_type": "code",
      "source": [
        "X_3 = X_2 @ W_2 + b_2\n",
        "X_3"
      ],
      "metadata": {
        "id": "l9ITWsNlfBCu",
        "colab": {
          "base_uri": "https://localhost:8080/"
        },
        "outputId": "7e4e888d-17c3-438b-c195-31ddeef77f0d"
      },
      "execution_count": null,
      "outputs": [
        {
          "output_type": "execute_result",
          "data": {
            "text/plain": [
              "array([[-0.02570343, -0.07798051, -0.02297169],\n",
              "       [-0.02336409, -0.16495024, -0.03961213]])"
            ]
          },
          "metadata": {},
          "execution_count": 16
        }
      ]
    },
    {
      "cell_type": "markdown",
      "source": [
        "# Por último"
      ],
      "metadata": {
        "id": "zitZVaw-fLo0"
      }
    },
    {
      "cell_type": "markdown",
      "source": [
        "¿Como obtendrían la salida? (la y predicha)"
      ],
      "metadata": {
        "id": "DVeLwDnK6c3W"
      }
    },
    {
      "cell_type": "code",
      "source": [
        "# Entrada\n",
        "X_3\n",
        "\n",
        "# Matriz de pesos\n",
        "W_3 = np.random.normal(0, 0.1, (3,1))\n",
        "# Sesgos (bias)\n",
        "b_3 = np.random.normal(0, 0.1, 1)\n",
        "\n",
        "# Y predichas\n",
        "y_gorro = X_3 @ W_3 + b_3\n",
        "y_gorro"
      ],
      "metadata": {
        "colab": {
          "base_uri": "https://localhost:8080/"
        },
        "id": "AupP5qZaMQ95",
        "outputId": "2271297b-b8d5-4af8-adfc-9c5dde38dbdb"
      },
      "execution_count": null,
      "outputs": [
        {
          "output_type": "execute_result",
          "data": {
            "text/plain": [
              "array([[0.01247106],\n",
              "       [0.01460617]])"
            ]
          },
          "metadata": {},
          "execution_count": 19
        }
      ]
    },
    {
      "cell_type": "markdown",
      "source": [
        "**Ejercicio**: Realizar la composición de funciones que me daría las $y$ predichas ($\\hat{y}$) dados solo los valores de entrada y los pesos"
      ],
      "metadata": {
        "id": "RkoBpTFmf283"
      }
    },
    {
      "cell_type": "markdown",
      "source": [
        "# ¿Que faltó en la alimentación de la red anterior?"
      ],
      "metadata": {
        "id": "wFOQR01DgCCP"
      }
    },
    {
      "cell_type": "markdown",
      "source": [
        "Respuesta: - Funciones de activación"
      ],
      "metadata": {
        "id": "xiC_p3KSgRKv"
      }
    },
    {
      "cell_type": "code",
      "source": [
        "# Funciones de activación\n",
        "def step(x):\n",
        "    return np.where(x > 0, 1, 0)\n",
        "\n",
        "def linear(x):\n",
        "    return x\n",
        "\n",
        "def relu(x):\n",
        "    return np.where(x > 0, x, 0)\n",
        "\n",
        "def sigmoid(x):\n",
        "    return 1 / (1 + np.exp(-x))\n",
        "\n",
        "def tanh(x):\n",
        "    return (np.exp(x)-np.exp(-x))/(np.exp(x)+np.exp(-x))\n",
        "\n",
        "def leaky_relu(x):\n",
        "    return np.where(x > 0, x, 0.01 * x)"
      ],
      "metadata": {
        "id": "4gPAzs33gZAh"
      },
      "execution_count": null,
      "outputs": []
    },
    {
      "cell_type": "code",
      "source": [
        "x_coord = np.linspace(-3, 3, 30)"
      ],
      "metadata": {
        "id": "XUg35PudihLb"
      },
      "execution_count": null,
      "outputs": []
    },
    {
      "cell_type": "code",
      "source": [
        "import matplotlib.pyplot as plt"
      ],
      "metadata": {
        "id": "ZBCkd37zihIj"
      },
      "execution_count": null,
      "outputs": []
    },
    {
      "cell_type": "code",
      "source": [
        "plt.plot(x_coord, step(x_coord))\n",
        "plt.axvline(x=0, c='black', label=\"x=0\")\n",
        "plt.axhline(y=0, c='black', label=\"y=0\")\n",
        "plt.title('Activación Step (Escalonada)')"
      ],
      "metadata": {
        "id": "ipF_6IEYoHRD",
        "colab": {
          "base_uri": "https://localhost:8080/",
          "height": 298
        },
        "outputId": "5d111a51-9466-46fa-dbc3-4da5fd4efcdd"
      },
      "execution_count": null,
      "outputs": [
        {
          "output_type": "execute_result",
          "data": {
            "text/plain": [
              "Text(0.5, 1.0, 'Activación Step (Escalonada)')"
            ]
          },
          "metadata": {},
          "execution_count": 23
        },
        {
          "output_type": "display_data",
          "data": {
            "text/plain": [
              "<Figure size 432x288 with 1 Axes>"
            ],
            "image/png": "[encoded data removed]"
          },
          "metadata": {
            "needs_background": "light"
          }
        }
      ]
    },
    {
      "cell_type": "code",
      "source": [
        "plt.plot(x_coord, linear(x_coord))\n",
        "plt.axvline(x=0, c='black', label=\"x=0\")\n",
        "plt.axhline(y=0, c='black', label=\"y=0\")\n",
        "plt.title('Activación Lineal')"
      ],
      "metadata": {
        "id": "SOvn3xNHig3z",
        "colab": {
          "base_uri": "https://localhost:8080/",
          "height": 298
        },
        "outputId": "39c0b9c3-8b01-4f9f-9de7-5b23e0050f8d"
      },
      "execution_count": null,
      "outputs": [
        {
          "output_type": "execute_result",
          "data": {
            "text/plain": [
              "Text(0.5, 1.0, 'Activación Lineal')"
            ]
          },
          "metadata": {},
          "execution_count": 24
        },
        {
          "output_type": "display_data",
          "data": {
            "text/plain": [
              "<Figure size 432x288 with 1 Axes>"
            ],
            "image/png": "[encoded data removed]"
          },
          "metadata": {
            "needs_background": "light"
          }
        }
      ]
    },
    {
      "cell_type": "code",
      "source": [
        "plt.plot(x_coord, relu(x_coord))\n",
        "plt.axvline(x=0, c='black', label=\"x=0\")\n",
        "plt.axhline(y=0, c='black', label=\"y=0\")\n",
        "plt.title('Activación ReLu')"
      ],
      "metadata": {
        "id": "jn6IA-1jj715",
        "colab": {
          "base_uri": "https://localhost:8080/",
          "height": 298
        },
        "outputId": "f38d90d5-1094-45cf-d373-553381a0e23c"
      },
      "execution_count": null,
      "outputs": [
        {
          "output_type": "execute_result",
          "data": {
            "text/plain": [
              "Text(0.5, 1.0, 'Activación ReLu')"
            ]
          },
          "metadata": {},
          "execution_count": 25
        },
        {
          "output_type": "display_data",
          "data": {
            "text/plain": [
              "<Figure size 432x288 with 1 Axes>"
            ],
            "image/png": "[encoded data removed]"
          },
          "metadata": {
            "needs_background": "light"
          }
        }
      ]
    },
    {
      "cell_type": "code",
      "source": [
        "plt.plot(x_coord, sigmoid(x_coord))\n",
        "plt.axvline(x=0, c='black', label=\"x=0\")\n",
        "plt.axhline(y=0, c='black', label=\"y=0\")\n",
        "plt.title('Activación Sigmoide')"
      ],
      "metadata": {
        "id": "yo1dqGYaj8F6",
        "colab": {
          "base_uri": "https://localhost:8080/",
          "height": 298
        },
        "outputId": "b33d835e-7fd5-49f1-f46e-23f8d7680719"
      },
      "execution_count": null,
      "outputs": [
        {
          "output_type": "execute_result",
          "data": {
            "text/plain": [
              "Text(0.5, 1.0, 'Activación Sigmoide')"
            ]
          },
          "metadata": {},
          "execution_count": 26
        },
        {
          "output_type": "display_data",
          "data": {
            "text/plain": [
              "<Figure size 432x288 with 1 Axes>"
            ],
            "image/png": "[encoded data removed]"
          },
          "metadata": {
            "needs_background": "light"
          }
        }
      ]
    },
    {
      "cell_type": "code",
      "source": [
        "plt.plot(x_coord, tanh(x_coord))\n",
        "plt.axvline(x=0, c='black', label=\"x=0\")\n",
        "plt.axhline(y=0, c='black', label=\"y=0\")\n",
        "plt.title('Activación TanH')"
      ],
      "metadata": {
        "id": "-lFZO8AFlqlJ",
        "colab": {
          "base_uri": "https://localhost:8080/",
          "height": 298
        },
        "outputId": "878d455a-12a7-4bfa-b9f7-f9e0ef5b7890"
      },
      "execution_count": null,
      "outputs": [
        {
          "output_type": "execute_result",
          "data": {
            "text/plain": [
              "Text(0.5, 1.0, 'Activación TanH')"
            ]
          },
          "metadata": {},
          "execution_count": 27
        },
        {
          "output_type": "display_data",
          "data": {
            "text/plain": [
              "<Figure size 432x288 with 1 Axes>"
            ],
            "image/png": "[encoded data removed]"
          },
          "metadata": {
            "needs_background": "light"
          }
        }
      ]
    },
    {
      "cell_type": "code",
      "source": [
        "plt.plot(x_coord, leaky_relu(x_coord))\n",
        "plt.axvline(x=0, c='black', label=\"x=0\")\n",
        "plt.axhline(y=0, c='black', label=\"y=0\")\n",
        "plt.title('Activación Leaky ReLu')"
      ],
      "metadata": {
        "id": "Y425qL_GmwnY",
        "colab": {
          "base_uri": "https://localhost:8080/",
          "height": 298
        },
        "outputId": "0760b43b-8a67-4db5-ba7e-28fc2447d8a0"
      },
      "execution_count": null,
      "outputs": [
        {
          "output_type": "execute_result",
          "data": {
            "text/plain": [
              "Text(0.5, 1.0, 'Activación Leaky ReLu')"
            ]
          },
          "metadata": {},
          "execution_count": 28
        },
        {
          "output_type": "display_data",
          "data": {
            "text/plain": [
              "<Figure size 432x288 with 1 Axes>"
            ],
            "image/png": "[encoded data removed]"
          },
          "metadata": {
            "needs_background": "light"
          }
        }
      ]
    },
    {
      "cell_type": "markdown",
      "source": [
        "# Características de las funciones de activación:\n",
        "\n",
        "\n",
        "- Step:\n",
        "  - Se basa en activarse o no dado un valor limite (threshold)\n",
        "  - Solo soporta clasificadores binarios\n",
        "\n",
        "- Lineal:\n",
        "  - Derivada fácil de calcular\n",
        "  - Al ser de derivada constante, interfiere con BackPropagation\n",
        "  - Si solo utilizamos ésta como activación, nuestro problema es completamente lineal (usada en modelos de regresión simple) [No permite encontrar patrones complejos]\n",
        "\n",
        "- ReLu (Rectified Linear Unit):\n",
        "  - La más utilizada\n",
        "  - Fácil de calcular, la red converge rapidamente\n",
        "  - Sufre saturación para valores negativos (el gradiente no permite actualizar)\n",
        "\n",
        "- Sigmoide:\n",
        "  - Muy útil para clasificadores binarios\n",
        "  - Problema de desvanecimiento de gradiente (Gradient Vanishing)\n",
        "  - Optimizar la función de perdida es un poco mas duro (los pesos solo se mueven en una dirección)\n",
        "\n",
        "- tanH:\n",
        "  - Estandariza la salida entre -1 y 1\n",
        "  - Función centrada en cero (a diferencia de sigmoide) lo que hace la optimización un poco menos difícil\n",
        "  - Sufre el problema de desvanecimiento de gradiente\n",
        "\n",
        "- Leaky ReLu:\n",
        "  - Fácil de calcular\n",
        "  - Trada de solucionar los problema de ReLu para los valores negativos"
      ],
      "metadata": {
        "id": "G6h-A8d_pSFB"
      }
    },
    {
      "cell_type": "markdown",
      "source": [
        "¿Recuerdan la función de activación de la semana pasada? ¿Cual era la mayor diferencia con estas funciones?"
      ],
      "metadata": {
        "id": "hCFQmL0RkPe7"
      }
    },
    {
      "cell_type": "markdown",
      "source": [
        "# Implementación con función de activación en cada neurona"
      ],
      "metadata": {
        "id": "EPpM3TxakbtU"
      }
    },
    {
      "cell_type": "markdown",
      "source": [
        "Este paso lo realizarán como ejercicio durante la clase para asegurarnos de la correcta comprensión de las cosas."
      ],
      "metadata": {
        "id": "7Dt56i2zkqEr"
      }
    },
    {
      "cell_type": "code",
      "source": [
        "# Espacio para respuesta del ejercicio y tiempo de comentar respuestas\n",
        "\n",
        "\n",
        "\n",
        "\n",
        "\n",
        "\n"
      ],
      "metadata": {
        "id": "_EG_v90vkgQl"
      },
      "execution_count": null,
      "outputs": []
    },
    {
      "cell_type": "markdown",
      "source": [
        "# Caso práctico"
      ],
      "metadata": {
        "id": "l5bvuUOUtEPk"
      }
    },
    {
      "cell_type": "markdown",
      "source": [
        "Tenemos 2 modos de leerlo, usando \"np.loadtxt\" o \"pd.read_csv\""
      ],
      "metadata": {
        "id": "0UX_HQpNUMtM"
      }
    },
    {
      "cell_type": "code",
      "source": [
        "import pandas as pd"
      ],
      "metadata": {
        "id": "bOiTl8OztI6T"
      },
      "execution_count": null,
      "outputs": []
    },
    {
      "cell_type": "code",
      "source": [
        "df = pd.read_csv('/content/drive/MyDrive/Curso-NN-de-Cero/semana2/precios_casas_3.csv')"
      ],
      "metadata": {
        "id": "h2oC4nG5tKzj"
      },
      "execution_count": null,
      "outputs": []
    },
    {
      "cell_type": "code",
      "source": [
        "df"
      ],
      "metadata": {
        "id": "Dw1v0OVPvpTO",
        "colab": {
          "base_uri": "https://localhost:8080/",
          "height": 423
        },
        "outputId": "322a9ba5-9e01-4f4a-e228-85cf4fcec445"
      },
      "execution_count": null,
      "outputs": [
        {
          "output_type": "execute_result",
          "data": {
            "text/plain": [
              "      LotArea  YearBuilt  GarageArea  SalePrice\n",
              "0        8450       2003         548     208500\n",
              "1        9600       1976         460     181500\n",
              "2       11250       2001         608     223500\n",
              "3        9550       1915         642     140000\n",
              "4       14260       2000         836     250000\n",
              "...       ...        ...         ...        ...\n",
              "1455     7917       1999         460     175000\n",
              "1456    13175       1978         500     210000\n",
              "1457     9042       1941         252     266500\n",
              "1458     9717       1950         240     142125\n",
              "1459     9937       1965         276     147500\n",
              "\n",
              "[1460 rows x 4 columns]"
            ],
            "text/html": [
              "\n",
              "  <div id=\"df-fea19d74-1663-4570-aec3-047e79fdf051\">\n",
              "    <div class=\"colab-df-container\">\n",
              "      <div>\n",
              "<style scoped>\n",
              "    .dataframe tbody tr th:only-of-type {\n",
              "        vertical-align: middle;\n",
              "    }\n",
              "\n",
              "    .dataframe tbody tr th {\n",
              "        vertical-align: top;\n",
              "    }\n",
              "\n",
              "    .dataframe thead th {\n",
              "        text-align: right;\n",
              "    }\n",
              "</style>\n",
              "<table border=\"1\" class=\"dataframe\">\n",
              "  <thead>\n",
              "    <tr style=\"text-align: right;\">\n",
              "      <th></th>\n",
              "      <th>LotArea</th>\n",
              "      <th>YearBuilt</th>\n",
              "      <th>GarageArea</th>\n",
              "      <th>SalePrice</th>\n",
              "    </tr>\n",
              "  </thead>\n",
              "  <tbody>\n",
              "    <tr>\n",
              "      <th>0</th>\n",
              "      <td>8450</td>\n",
              "      <td>2003</td>\n",
              "      <td>548</td>\n",
              "      <td>208500</td>\n",
              "    </tr>\n",
              "    <tr>\n",
              "      <th>1</th>\n",
              "      <td>9600</td>\n",
              "      <td>1976</td>\n",
              "      <td>460</td>\n",
              "      <td>181500</td>\n",
              "    </tr>\n",
              "    <tr>\n",
              "      <th>2</th>\n",
              "      <td>11250</td>\n",
              "      <td>2001</td>\n",
              "      <td>608</td>\n",
              "      <td>223500</td>\n",
              "    </tr>\n",
              "    <tr>\n",
              "      <th>3</th>\n",
              "      <td>9550</td>\n",
              "      <td>1915</td>\n",
              "      <td>642</td>\n",
              "      <td>140000</td>\n",
              "    </tr>\n",
              "    <tr>\n",
              "      <th>4</th>\n",
              "      <td>14260</td>\n",
              "      <td>2000</td>\n",
              "      <td>836</td>\n",
              "      <td>250000</td>\n",
              "    </tr>\n",
              "    <tr>\n",
              "      <th>...</th>\n",
              "      <td>...</td>\n",
              "      <td>...</td>\n",
              "      <td>...</td>\n",
              "      <td>...</td>\n",
              "    </tr>\n",
              "    <tr>\n",
              "      <th>1455</th>\n",
              "      <td>7917</td>\n",
              "      <td>1999</td>\n",
              "      <td>460</td>\n",
              "      <td>175000</td>\n",
              "    </tr>\n",
              "    <tr>\n",
              "      <th>1456</th>\n",
              "      <td>13175</td>\n",
              "      <td>1978</td>\n",
              "      <td>500</td>\n",
              "      <td>210000</td>\n",
              "    </tr>\n",
              "    <tr>\n",
              "      <th>1457</th>\n",
              "      <td>9042</td>\n",
              "      <td>1941</td>\n",
              "      <td>252</td>\n",
              "      <td>266500</td>\n",
              "    </tr>\n",
              "    <tr>\n",
              "      <th>1458</th>\n",
              "      <td>9717</td>\n",
              "      <td>1950</td>\n",
              "      <td>240</td>\n",
              "      <td>142125</td>\n",
              "    </tr>\n",
              "    <tr>\n",
              "      <th>1459</th>\n",
              "      <td>9937</td>\n",
              "      <td>1965</td>\n",
              "      <td>276</td>\n",
              "      <td>147500</td>\n",
              "    </tr>\n",
              "  </tbody>\n",
              "</table>\n",
              "<p>1460 rows × 4 columns</p>\n",
              "</div>\n",
              "      <button class=\"colab-df-convert\" onclick=\"convertToInteractive('df-fea19d74-1663-4570-aec3-047e79fdf051')\"\n",
              "              title=\"Convert this dataframe to an interactive table.\"\n",
              "              style=\"display:none;\">\n",
              "        \n",
              "  <svg xmlns=\"http://www.w3.org/2000/svg\" height=\"24px\"viewBox=\"0 0 24 24\"\n",
              "       width=\"24px\">\n",
              "    <path d=\"M0 0h24v24H0V0z\" fill=\"none\"/>\n",
              "    <path d=\"M18.56 5.44l.94 2.06.94-2.06 2.06-.94-2.06-.94-.94-2.06-.94 2.06-2.06.94zm-11 1L8.5 8.5l.94-2.06 2.06-.94-2.06-.94L8.5 2.5l-.94 2.06-2.06.94zm10 10l.94 2.06.94-2.06 2.06-.94-2.06-.94-.94-2.06-.94 2.06-2.06.94z\"/><path d=\"M17.41 7.96l-1.37-1.37c-.4-.4-.92-.59-1.43-.59-.52 0-1.04.2-1.43.59L10.3 9.45l-7.72 7.72c-.78.78-.78 2.05 0 2.83L4 21.41c.39.39.9.59 1.41.59.51 0 1.02-.2 1.41-.59l7.78-7.78 2.81-2.81c.8-.78.8-2.07 0-2.86zM5.41 20L4 18.59l7.72-7.72 1.47 1.35L5.41 20z\"/>\n",
              "  </svg>\n",
              "      </button>\n",
              "      \n",
              "  <style>\n",
              "    .colab-df-container {\n",
              "      display:flex;\n",
              "      flex-wrap:wrap;\n",
              "      gap: 12px;\n",
              "    }\n",
              "\n",
              "    .colab-df-convert {\n",
              "      background-color: #E8F0FE;\n",
              "      border: none;\n",
              "      border-radius: 50%;\n",
              "      cursor: pointer;\n",
              "      display: none;\n",
              "      fill: #1967D2;\n",
              "      height: 32px;\n",
              "      padding: 0 0 0 0;\n",
              "      width: 32px;\n",
              "    }\n",
              "\n",
              "    .colab-df-convert:hover {\n",
              "      background-color: #E2EBFA;\n",
              "      box-shadow: 0px 1px 2px rgba(60, 64, 67, 0.3), 0px 1px 3px 1px rgba(60, 64, 67, 0.15);\n",
              "      fill: #174EA6;\n",
              "    }\n",
              "\n",
              "    [theme=dark] .colab-df-convert {\n",
              "      background-color: #3B4455;\n",
              "      fill: #D2E3FC;\n",
              "    }\n",
              "\n",
              "    [theme=dark] .colab-df-convert:hover {\n",
              "      background-color: #434B5C;\n",
              "      box-shadow: 0px 1px 3px 1px rgba(0, 0, 0, 0.15);\n",
              "      filter: drop-shadow(0px 1px 2px rgba(0, 0, 0, 0.3));\n",
              "      fill: #FFFFFF;\n",
              "    }\n",
              "  </style>\n",
              "\n",
              "      <script>\n",
              "        const buttonEl =\n",
              "          document.querySelector('#df-fea19d74-1663-4570-aec3-047e79fdf051 button.colab-df-convert');\n",
              "        buttonEl.style.display =\n",
              "          google.colab.kernel.accessAllowed ? 'block' : 'none';\n",
              "\n",
              "        async function convertToInteractive(key) {\n",
              "          const element = document.querySelector('#df-fea19d74-1663-4570-aec3-047e79fdf051');\n",
              "          const dataTable =\n",
              "            await google.colab.kernel.invokeFunction('convertToInteractive',\n",
              "                                                     [key], {});\n",
              "          if (!dataTable) return;\n",
              "\n",
              "          const docLinkHtml = 'Like what you see? Visit the ' +\n",
              "            '<a target=\"_blank\" href=https://colab.research.google.com/notebooks/data_table.ipynb>data table notebook</a>'\n",
              "            + ' to learn more about interactive tables.';\n",
              "          element.innerHTML = '';\n",
              "          dataTable['output_type'] = 'display_data';\n",
              "          await google.colab.output.renderOutput(dataTable, element);\n",
              "          const docLink = document.createElement('div');\n",
              "          docLink.innerHTML = docLinkHtml;\n",
              "          element.appendChild(docLink);\n",
              "        }\n",
              "      </script>\n",
              "    </div>\n",
              "  </div>\n",
              "  "
            ]
          },
          "metadata": {},
          "execution_count": 5
        }
      ]
    },
    {
      "cell_type": "code",
      "source": [
        "matriz = np.array(df)\n",
        "matriz"
      ],
      "metadata": {
        "colab": {
          "base_uri": "https://localhost:8080/"
        },
        "id": "JhUWl4OPXVz4",
        "outputId": "d581d0f5-bea9-45d4-8610-ee014694b6fc"
      },
      "execution_count": null,
      "outputs": [
        {
          "output_type": "execute_result",
          "data": {
            "text/plain": [
              "array([[  8450,   2003,    548, 208500],\n",
              "       [  9600,   1976,    460, 181500],\n",
              "       [ 11250,   2001,    608, 223500],\n",
              "       ...,\n",
              "       [  9042,   1941,    252, 266500],\n",
              "       [  9717,   1950,    240, 142125],\n",
              "       [  9937,   1965,    276, 147500]])"
            ]
          },
          "metadata": {},
          "execution_count": 6
        }
      ]
    },
    {
      "cell_type": "markdown",
      "source": [
        "# Instrucciones:\n",
        "\n",
        "- Convertir el DataFrame a matriz de numpy\n",
        "- Separar características de la variable objetivo\n",
        "- Estandarizar los datos (utilizando la media de los datos y los valores máximo y mínimos en cada columna)\n",
        "- Crear la estructura de una red con 2 capas ocultas (la primer capa de tamaño 4, la segunda de tamaño 5 y 1 sola salida)\n",
        "- En cada etapa utilizar una función de activación (al menos usar 2 variables de activación y justificar el porqué)\n",
        "- Ver los resultados predichos de cada dato y compararlos con el original (la predicción no será buena, ¿Porque?)"
      ],
      "metadata": {
        "id": "vZlgILs1yhl0"
      }
    },
    {
      "cell_type": "code",
      "source": [
        "# La parte de características\n",
        "X = matriz[:,:3]\n",
        "# La parte de variables objetivos\n",
        "Y = matriz[:,3]"
      ],
      "metadata": {
        "colab": {
          "base_uri": "https://localhost:8080/"
        },
        "id": "Qu3O9wkVqYJ0",
        "outputId": "7acae4b1-a05d-4706-8f71-be4a360dd128"
      },
      "execution_count": null,
      "outputs": [
        {
          "output_type": "execute_result",
          "data": {
            "text/plain": [
              "array([208500, 181500, 223500, ..., 266500, 142125, 147500])"
            ]
          },
          "metadata": {},
          "execution_count": 16
        }
      ]
    },
    {
      "cell_type": "code",
      "source": [
        "media_por_columna = X.mean(axis=0, keepdims=True)\n",
        "std_por_columna = X.std(axis=0, keepdims=True)\n",
        "procesada = (X - media_por_columna)/std_por_columna"
      ],
      "metadata": {
        "id": "UU62h_Ayog0W"
      },
      "execution_count": null,
      "outputs": []
    },
    {
      "cell_type": "code",
      "source": [
        "print(procesada)"
      ],
      "metadata": {
        "colab": {
          "base_uri": "https://localhost:8080/"
        },
        "id": "3RZJhbP4ovcD",
        "outputId": "26c689e2-47ce-4905-e46e-951ddf31c15e"
      },
      "execution_count": null,
      "outputs": [
        {
          "output_type": "stream",
          "name": "stdout",
          "text": [
            "[[-0.20714171  1.05099379  0.35100032]\n",
            " [-0.09188637  0.15673371 -0.06073101]\n",
            " [ 0.07347998  0.9847523   0.63172623]\n",
            " ...\n",
            " [-0.14781027 -1.00249232 -1.03391416]\n",
            " [-0.08016039 -0.70440562 -1.09005935]\n",
            " [-0.05811155 -0.20759447 -0.9216238 ]]\n"
          ]
        }
      ]
    }
  ]
}