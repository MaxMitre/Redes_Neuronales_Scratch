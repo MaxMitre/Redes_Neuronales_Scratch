{
  "nbformat": 4,
  "nbformat_minor": 0,
  "metadata": {
    "colab": {
      "name": "semana6.1_RNs_classRed_RecurrenteForward.ipynb",
      "provenance": [],
      "collapsed_sections": []
    },
    "kernelspec": {
      "name": "python3",
      "display_name": "Python 3"
    },
    "language_info": {
      "name": "python"
    }
  },
  "cells": [
    {
      "cell_type": "markdown",
      "source": [
        "[![Open In Colab](https://colab.research.google.com/assets/colab-badge.svg)](https://colab.research.google.com/github/MaxMitre/Redes_Neuronales_Scratch/blob/main/semana6/Solucion_Ejercicio.ipynb)"
      ],
      "metadata": {
        "id": "sCXHDszl82vo"
      }
    },
    {
      "cell_type": "markdown",
      "source": [
        "# Solucion a Ejercicio\n",
        "\n",
        "Se muestra un objeto de clase red neuronal recurrente que supone que empezamos con una capa LSTM para despues utilizar capas densas en la red neuronal."
      ],
      "metadata": {
        "id": "UzC74MH775cu"
      }
    },
    {
      "cell_type": "code",
      "execution_count": null,
      "metadata": {
        "id": "_Opkn-cpGMA_"
      },
      "outputs": [],
      "source": [
        "import numpy as np\n",
        "import pandas as pd"
      ]
    },
    {
      "cell_type": "code",
      "source": [
        "from google.colab import drive\n",
        "drive.mount('/content/drive')"
      ],
      "metadata": {
        "colab": {
          "base_uri": "https://localhost:8080/"
        },
        "id": "IxBmCXU2cM0e",
        "outputId": "751859fa-21d6-41a9-df8b-57545a389ef8"
      },
      "execution_count": null,
      "outputs": [
        {
          "output_type": "stream",
          "name": "stdout",
          "text": [
            "Mounted at /content/drive\n"
          ]
        }
      ]
    },
    {
      "cell_type": "code",
      "source": [
        "X_raw = pd.read_csv('/content/drive/MyDrive/Curso-NN-de-Cero/semana5/input_training_IrTAw7w.csv').set_index('ID')\n",
        "X_raw"
      ],
      "metadata": {
        "id": "x20PPm-uf29p"
      },
      "execution_count": null,
      "outputs": []
    },
    {
      "cell_type": "code",
      "source": [
        "y_raw = pd.read_csv('/content/drive/MyDrive/Curso-NN-de-Cero/semana5/output_training_F2dZW38.csv').set_index('ID')\n",
        "y_raw"
      ],
      "metadata": {
        "id": "29-SdvrDk-lz"
      },
      "execution_count": null,
      "outputs": []
    },
    {
      "cell_type": "code",
      "execution_count": null,
      "metadata": {
        "id": "1Fua1LbPRVnj"
      },
      "outputs": [],
      "source": [
        "# Nuestra función de perdida (Error cuadrátio medio)\n",
        "def mse(y_hat, y):\n",
        "    return np.mean((y - y_hat)**2)\n",
        "\n",
        "def d_mse(y_hat, y):\n",
        "    return (1 / y_hat.shape[0]) * (1/y_hat.shape[-1]) * -2 * np.sum(y - y_hat, axis=0)"
      ]
    },
    {
      "cell_type": "code",
      "execution_count": null,
      "metadata": {
        "id": "p2imCJxKRVnj"
      },
      "outputs": [],
      "source": [
        "def linear(x):\n",
        "    return x\n",
        "\n",
        "\n",
        "def d_linear(x):\n",
        "    return np.ones_like(x)\n",
        "\n",
        "\n",
        "def relu(x):\n",
        "    return np.where(x > 0, x, 0)\n",
        "\n",
        "\n",
        "def d_relu(x):\n",
        "    return np.where(x > 0, 1, 0)\n",
        "\n",
        "\n",
        "def sigmoid(x):\n",
        "    return 1 / (1 + np.exp(-x))\n",
        "\n",
        "\n",
        "def d_sigmoid(x):\n",
        "    return sigmoid(x) * (1 - sigmoid(x))\n",
        "\n",
        "def softmax(X):\n",
        "    X_exp = np.exp(X)\n",
        "    partition = X_exp.sum(1, keepdims=True)\n",
        "    return X_exp / partition"
      ]
    },
    {
      "cell_type": "code",
      "source": [
        "np.random.seed(10)\n",
        "\n",
        "class Red:\n",
        "    def __init__(self, input_size, lstm, hidden_layers, output_size, hidden_state = 7): # Hidden layers una lista de diccionarios para saber orden\n",
        "        \n",
        "        self.input_size = input_size\n",
        "        \n",
        "        dense_sizes = [lstm] + hidden_layers + [output_size]\n",
        "        self.weights = []\n",
        "        self.biases = []\n",
        "        for i in range(len(dense_sizes) - 1):\n",
        "            n_in = dense_sizes[i]\n",
        "            n_out = dense_sizes[i + 1]\n",
        "            self.weights.append(np.random.randn(n_in, n_out))\n",
        "            self.biases.append(np.random.randn(1, n_out))\n",
        "\n",
        "        W_x = np.random.randn(1, hidden_state)\n",
        "        W_h = np.random.randn(hidden_state, hidden_state)\n",
        "\n",
        "        self.weights = [[W_x,W_h]] + self.weights\n",
        "        self.biases = [np.random.randn(1, hidden_state)] + self.biases\n",
        "\n",
        "        self.activations = [linear] + [relu for _ in range(len(self.weights) - 1)] + [linear]\n",
        "        self.d_activations = [d_linear] + [d_relu for _ in range(len(self.weights) - 1)] + [d_linear]\n",
        "\n",
        "        self.hidden_state = hidden_state\n",
        "        self.h_0 = np.random.randn(1, hidden_state)\n",
        "\n",
        "\n",
        "    def forward(self, x):\n",
        "        h_aux = self.h_0.copy()\n",
        "        for i in range(self.input_size[0]):\n",
        "            h_aux = linear(x[i] @ self.weights[0][0] + h_aux @ self.weights[0][1] + self.biases[0])  \n",
        "\n",
        "        x = h_aux\n",
        "        for i in range(1, len(self.weights)):\n",
        "\n",
        "            x_hat = x @ self.weights[i] + self.biases[i]\n",
        "            x = self.activations[i + 1](x_hat)\n",
        "        return softmax(x)"
      ],
      "metadata": {
        "id": "1S8jhYFMeaDe"
      },
      "execution_count": null,
      "outputs": []
    },
    {
      "cell_type": "code",
      "source": [
        "model = Red((5,1), 7, [8,7,7], 3)"
      ],
      "metadata": {
        "id": "8Tp5TsRIjnze"
      },
      "execution_count": null,
      "outputs": []
    },
    {
      "cell_type": "code",
      "source": [
        "model.weights[0].shape"
      ],
      "metadata": {
        "id": "SMkX3JW7wzbV"
      },
      "execution_count": null,
      "outputs": []
    },
    {
      "cell_type": "code",
      "source": [
        "model.forward(np.random.randn(5,1))"
      ],
      "metadata": {
        "id": "eBhAR2uEt1KQ"
      },
      "execution_count": null,
      "outputs": []
    }
  ]
}