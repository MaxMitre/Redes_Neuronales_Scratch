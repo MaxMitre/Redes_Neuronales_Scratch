{
  "nbformat": 4,
  "nbformat_minor": 0,
  "metadata": {
    "colab": {
      "name": "semana6.1_RNs_EJERCICIO.ipynb",
      "provenance": []
    },
    "kernelspec": {
      "name": "python3",
      "display_name": "Python 3"
    },
    "language_info": {
      "name": "python"
    }
  },
  "cells": [
    {
      "cell_type": "markdown",
      "source": [
        "[![Open In Colab](https://colab.research.google.com/assets/colab-badge.svg)](https://colab.research.google.com/github/MaxMitre/Redes_Neuronales_Scratch/blob/main/semana6/Ejercicio.ipynb)"
      ],
      "metadata": {
        "id": "TdZeEJxl81bd"
      }
    },
    {
      "cell_type": "markdown",
      "source": [
        "# Ejercicio\n",
        "\n",
        "Implementar el Feedforward de una red neuronal recurrente."
      ],
      "metadata": {
        "id": "_A8HuL3T7m25"
      }
    },
    {
      "cell_type": "code",
      "execution_count": null,
      "metadata": {
        "id": "_Opkn-cpGMA_"
      },
      "outputs": [],
      "source": [
        "import numpy as np\n",
        "import pandas as pd"
      ]
    },
    {
      "cell_type": "code",
      "source": [
        "from google.colab import drive\n",
        "drive.mount('/content/drive')"
      ],
      "metadata": {
        "colab": {
          "base_uri": "https://localhost:8080/"
        },
        "id": "IxBmCXU2cM0e",
        "outputId": "751859fa-21d6-41a9-df8b-57545a389ef8"
      },
      "execution_count": null,
      "outputs": [
        {
          "output_type": "stream",
          "name": "stdout",
          "text": [
            "Mounted at /content/drive\n"
          ]
        }
      ]
    },
    {
      "cell_type": "markdown",
      "source": [
        "Con estos datos alimentaremos una red que construiremos (lo principal es construir la red) y despues limpiar el dataset para que nos de series de tiempo de tamaño (5,1) para poder alimentar la red"
      ],
      "metadata": {
        "id": "mZ43D-QC53B6"
      }
    },
    {
      "cell_type": "code",
      "source": [
        "X_raw = pd.read_csv('/content/drive/MyDrive/Curso-NN-de-Cero/semana5/input_training_IrTAw7w.csv').set_index('ID')\n",
        "X_raw"
      ],
      "metadata": {
        "id": "x20PPm-uf29p"
      },
      "execution_count": null,
      "outputs": []
    },
    {
      "cell_type": "code",
      "source": [
        "y_raw = pd.read_csv('/content/drive/MyDrive/Curso-NN-de-Cero/semana5/output_training_F2dZW38.csv').set_index('ID')\n",
        "y_raw"
      ],
      "metadata": {
        "id": "29-SdvrDk-lz"
      },
      "execution_count": null,
      "outputs": []
    },
    {
      "cell_type": "markdown",
      "source": [
        "Crear una red neuronal que conste de lo siguiente:\n",
        "\n",
        "- Crear una clase con nombre \"RedRecyDensa\"\n",
        "- Que esta tenga un método de forward\n",
        "\n",
        "- Podamos ingresarle (input) series de tiempo de dimension (5,1)\n",
        "- Una primer capa recurrente con estado oculto de tamaño 7 (que pueda ser cambiable facilmente), este estado de tamaño 7 saldrá de esta capa y alimentara la siguiente\n",
        "- Un conjunto de capas densas despues (puede ser solo 1 capa, o 2 o las que el usuario quiera\n",
        "- 3 Salidas (para clasificar)\n",
        "\n"
      ],
      "metadata": {
        "id": "LX9xT-il4sXT"
      }
    },
    {
      "cell_type": "markdown",
      "source": [
        "Les pueden ser útiles las siguientes celdas"
      ],
      "metadata": {
        "id": "SynNYRX55t1H"
      }
    },
    {
      "cell_type": "code",
      "execution_count": null,
      "metadata": {
        "id": "p2imCJxKRVnj"
      },
      "outputs": [],
      "source": [
        "def linear(x):\n",
        "    return x\n",
        "\n",
        "\n",
        "def d_linear(x):\n",
        "    return np.ones_like(x)\n",
        "\n",
        "\n",
        "def relu(x):\n",
        "    return np.where(x > 0, x, 0)\n",
        "\n",
        "\n",
        "def d_relu(x):\n",
        "    return np.where(x > 0, 1, 0)\n",
        "\n",
        "\n",
        "def sigmoid(x):\n",
        "    return 1 / (1 + np.exp(-x))\n",
        "\n",
        "\n",
        "def d_sigmoid(x):\n",
        "    return sigmoid(x) * (1 - sigmoid(x))\n",
        "\n",
        "def softmax(X):\n",
        "    X_exp = np.exp(X)\n",
        "    partition = X_exp.sum(1, keepdims=True)\n",
        "    return X_exp / partition"
      ]
    },
    {
      "cell_type": "code",
      "source": [
        "np.random.seed(10)\n",
        "\n",
        "class RedRecyDensa:\n",
        "    # AQUI CONTINUEN"
      ],
      "metadata": {
        "id": "1S8jhYFMeaDe"
      },
      "execution_count": null,
      "outputs": []
    }
  ]
}