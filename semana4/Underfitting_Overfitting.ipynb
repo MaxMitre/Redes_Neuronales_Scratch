{
  "nbformat": 4,
  "nbformat_minor": 0,
  "metadata": {
    "colab": {
      "name": "semana4.1_RNs_Underfitting_Overfitting.ipynb",
      "provenance": [],
      "collapsed_sections": []
    },
    "kernelspec": {
      "name": "python3",
      "display_name": "Python 3"
    },
    "language_info": {
      "name": "python"
    }
  },
  "cells": [
    {
      "cell_type": "markdown",
      "source": [
        "[![Open In Colab](https://colab.research.google.com/assets/colab-badge.svg)](https://colab.research.google.com/github/MaxMitre/Redes_Neuronales_Scratch/blob/main/semana4/Underfitting_Overfitting.ipynb)"
      ],
      "metadata": {
        "id": "V2ojLYEsEhdl"
      }
    },
    {
      "cell_type": "markdown",
      "source": [
        "# Módulos (Dependencias)"
      ],
      "metadata": {
        "id": "X_zwmNJdX0rt"
      }
    },
    {
      "cell_type": "code",
      "source": [
        "import math\n",
        "import numpy as np"
      ],
      "metadata": {
        "id": "-h7gkHNuX4Mu"
      },
      "execution_count": null,
      "outputs": []
    },
    {
      "cell_type": "markdown",
      "source": [
        "# Red de la clase pasada"
      ],
      "metadata": {
        "id": "fhlSg_JFKOaQ"
      }
    },
    {
      "cell_type": "code",
      "execution_count": null,
      "metadata": {
        "id": "1Fua1LbPRVnj"
      },
      "outputs": [],
      "source": [
        "# Nuestra función de perdida (Error cuadrátio medio)\n",
        "def mse(y_hat, y):\n",
        "    return np.mean((y - y_hat)**2)\n",
        "\n",
        "def d_mse(y_hat, y):\n",
        "    return (1 / y_hat.shape[0]) * (1/y_hat.shape[-1]) * -2 * np.sum(y - y_hat, axis=0)"
      ]
    },
    {
      "cell_type": "code",
      "execution_count": null,
      "metadata": {
        "id": "p2imCJxKRVnj"
      },
      "outputs": [],
      "source": [
        "def linear(x):\n",
        "    return x\n",
        "\n",
        "\n",
        "def d_linear(x):\n",
        "    return np.ones_like(x)\n",
        "\n",
        "\n",
        "def relu(x):\n",
        "    return np.where(x > 0, x, 0)\n",
        "\n",
        "\n",
        "def d_relu(x):\n",
        "    return np.where(x > 0, 1, 0)\n",
        "\n",
        "\n",
        "def sigmoid(x):\n",
        "    return 1 / (1 + np.exp(-x))\n",
        "\n",
        "\n",
        "def d_sigmoid(x):\n",
        "    return sigmoid(x) * (1 - sigmoid(x))"
      ]
    },
    {
      "cell_type": "code",
      "execution_count": null,
      "metadata": {
        "id": "UoRTCSyvRVnj"
      },
      "outputs": [],
      "source": [
        "# Creación de nuestra clase red, con metodos \"forward\" para avanzar sobre nuestra red, \"backward\" para optimizar parámetros, \"predict\" para lo obvio\n",
        "class NeuralNetwork:\n",
        "    def __init__(self, input_size, hidden_sizes, output_size):\n",
        "        layer_sizes = [input_size] + hidden_sizes + [output_size]\n",
        "\n",
        "        self.weights = []\n",
        "        self.biases = []\n",
        "        for i in range(len(layer_sizes) - 1):\n",
        "            n_in = layer_sizes[i]\n",
        "            n_out = layer_sizes[i + 1]\n",
        "            self.weights.append(np.random.randn(n_in, n_out))\n",
        "            self.biases.append(np.random.randn(1, n_out))\n",
        "            self.tape = [None for _ in range(len(self.weights) + 1)]\n",
        "\n",
        "        if hidden_sizes:\n",
        "          self.activations = [linear] + [relu for _ in range(len(self.weights) - 1)] + [linear]\n",
        "          self.d_activations = [d_linear] + [d_relu for _ in range(len(self.weights) - 1)] + [d_linear]\n",
        "        else:\n",
        "          self.activations = [linear] + [linear]\n",
        "          self.d_activations = [d_linear] + [d_linear]\n",
        "\n",
        "    def forward(self, x, grad=False):\n",
        "        if grad and self.tape[0] is not None:\n",
        "            raise ValueError(\"Cannot call forward with grad without calling backwards\")\n",
        "\n",
        "        if grad:\n",
        "            self.tape[0] = x\n",
        "        \n",
        "        for i in range(len(self.weights)):\n",
        "            x_hat = x @ self.weights[i] + self.biases[i]\n",
        "            x = self.activations[i + 1](x_hat)\n",
        "            if grad:\n",
        "                self.tape[i + 1] = x_hat\n",
        "\n",
        "        return x\n",
        "\n",
        "    def backward(self, d_loss):\n",
        "        assert d_loss.shape == self.weights[-1].shape[-1:]\n",
        "\n",
        "        weights_grad = [None for w in self.weights]\n",
        "        biases_grad = [None for b in self.biases]\n",
        "\n",
        "        d_activation = self.d_activations[-1]\n",
        "        error = d_loss * d_activation(self.tape[-1]) # (n_out) * (n_out)\n",
        "        error = error.reshape(1, -1)\n",
        "\n",
        "        for i in reversed(range(len(self.weights))):\n",
        "            # error = (1, n_out)\n",
        "            # tape[i] = (n_in)\n",
        "            # weights[i] = (n_in, n_out)\n",
        "            x = self.tape[i]\n",
        "            activation = self.activations[i]\n",
        "            d_activation = self.d_activations[i]\n",
        "\n",
        "            weights_grad[i] = error * activation(x.reshape(-1, 1)) # (1, n_out) * (n_in, 1) -> (n_in, n_out) * (n_in, n_out) por broadcast -> (n_in, n_out)\n",
        "            biases_grad[i] = error * 1 # derivada de los sesgos es un vector de unos, lo representamos explicitamente como 1 (uso de broadcasting)\n",
        "            \n",
        "            error = error @ self.weights[i].T  # (1, n_out) @ (n_out, n_in) -> (1, n_in)\n",
        "            error = error * d_activation(x).reshape(1, -1) # (1, n_in) * (1, n_in)\n",
        "\n",
        "\n",
        "        self.tape = [None for _ in range(len(self.weights) + 1)]\n",
        "\n",
        "        return weights_grad, biases_grad\n",
        "\n",
        "    def predict(self, x):\n",
        "        y = self.forward(x)\n",
        "        return y # la salida sería \"y\""
      ]
    },
    {
      "cell_type": "code",
      "execution_count": null,
      "metadata": {
        "id": "Us8j0spsRVnm"
      },
      "outputs": [],
      "source": [
        "def compute_analytical_gradient(model, X, Y, batch_size, num_classes):\n",
        "    analytical_weights_grad = [np.zeros(w.shape) for w in model.weights]\n",
        "    analytical_biases_grad = [np.zeros(b.shape) for b in model.biases]\n",
        "\n",
        "    batches = list(zip(X, Y))\n",
        "    for i in range(0, len(batches), batch_size):\n",
        "        batch = batches[i : i + batch_size]\n",
        "        x, y = zip(*batch)\n",
        "        x = np.array(x)\n",
        "        y = np.array(y)\n",
        "        y_one_hot = y   # cuando no sea problema de clasificación  #  one_hot_encode(y, num_classes)   cuando sea clasificación\n",
        "        y_hat = model.forward(x, grad=True)\n",
        "\n",
        "        weights_grad, biases_grad = model.backward(d_mse(y_hat, y_one_hot))\n",
        "        for l in range(len(model.weights)):\n",
        "            analytical_weights_grad[l] += weights_grad[l]\n",
        "            analytical_biases_grad[l] += biases_grad[l]\n",
        "\n",
        "    for l in range(len(model.weights)):\n",
        "        analytical_weights_grad[l] /= len(X)\n",
        "        analytical_biases_grad[l] /= len(X)\n",
        "\n",
        "    return analytical_weights_grad, analytical_biases_grad"
      ]
    },
    {
      "cell_type": "code",
      "execution_count": null,
      "metadata": {
        "id": "LrSgY1C9RVnq"
      },
      "outputs": [],
      "source": [
        "def stochastic_gradient_descent(model, X, Y, lr, batch_size, num_classes):\n",
        "    analytical_weights_grad, analytical_biases_grad = compute_analytical_gradient(model, X, Y, batch_size, num_classes)\n",
        "\n",
        "    running_loss = 0\n",
        "    for x, y in zip(X, Y):\n",
        "        # one hot encode labels\n",
        "        x = x.reshape(1, -1)\n",
        "        y = y.reshape(1)\n",
        "        #  y_one_hot = one_hot_encode(y, num_classes)   # solo en problemas de clasificación\n",
        "\n",
        "        # feed forward\n",
        "        y_hat = model.forward(x, grad=True)\n",
        "\n",
        "        # compute loss and its derivative\n",
        "        loss = mse(y_hat, Y)\n",
        "        d_error = d_mse(y_hat, Y)\n",
        "        running_loss = loss\n",
        "\n",
        "        # backpropagate the error (update gradients)\n",
        "        model.backward(d_error)\n",
        "\n",
        "        # gradient descent step\n",
        "        for i in range(len(model.weights)):\n",
        "            # update weights\n",
        "            model.weights[i] += lr * -analytical_weights_grad[i]\n",
        "            model.biases[i] += lr * -analytical_biases_grad[i]\n",
        "\n",
        "            # reset gradients\n",
        "            # model.weights_grad[i].fill(0)\n",
        "            # model.biases_grad[i].fill(0)\n",
        "\n",
        "    return running_loss / len(X)"
      ]
    },
    {
      "cell_type": "code",
      "source": [
        "lista_1 = [1,2,3]\n",
        "lista_2 = []\n",
        "\n",
        "if lista_2:\n",
        "  print('Hola')"
      ],
      "metadata": {
        "id": "H12f-FLORf-t"
      },
      "execution_count": null,
      "outputs": []
    },
    {
      "cell_type": "markdown",
      "source": [
        "# ¿Como podemos probar si nuestra red funciona bien?"
      ],
      "metadata": {
        "id": "zUEkMwPeYCdP"
      }
    },
    {
      "cell_type": "code",
      "source": [
        "np.random.seed(20)"
      ],
      "metadata": {
        "id": "W08PUqGh7P5V"
      },
      "execution_count": null,
      "outputs": []
    },
    {
      "cell_type": "code",
      "source": [
        "def synthetic_data(w, b, num_examples):\n",
        "    \"\"\"Generar y = Xw + b + ruido\"\"\"\n",
        "    X = np.random.normal(0, 1, (num_examples, len(w)))\n",
        "    y = np.dot(X, w) + b\n",
        "    y += np.random.normal(0, 0.01, y.shape)\n",
        "    return X, y.reshape((-1, 1))"
      ],
      "metadata": {
        "id": "0617B9NF277W"
      },
      "execution_count": null,
      "outputs": []
    },
    {
      "cell_type": "code",
      "source": [
        "true_w = np.array([2, -3.4])\n",
        "true_b = 4.2\n",
        "features, labels = synthetic_data(true_w, true_b, 50)"
      ],
      "metadata": {
        "id": "Gf9jey0l3Pwe"
      },
      "execution_count": null,
      "outputs": []
    },
    {
      "cell_type": "code",
      "source": [
        "features.shape, labels.shape"
      ],
      "metadata": {
        "id": "N-vMn4r6OGyx",
        "colab": {
          "base_uri": "https://localhost:8080/"
        },
        "outputId": "68bd17b6-aa3d-4a3f-a4c4-9e7ecca9ecd8"
      },
      "execution_count": null,
      "outputs": [
        {
          "output_type": "execute_result",
          "data": {
            "text/plain": [
              "((50, 2), (50, 1))"
            ]
          },
          "metadata": {},
          "execution_count": 12
        }
      ]
    },
    {
      "cell_type": "code",
      "source": [
        "labels"
      ],
      "metadata": {
        "id": "_YnK8kSMSu_8"
      },
      "execution_count": null,
      "outputs": []
    },
    {
      "cell_type": "code",
      "source": [
        "model = NeuralNetwork(2, [], 1)"
      ],
      "metadata": {
        "id": "vdKwu7TWQRuY"
      },
      "execution_count": null,
      "outputs": []
    },
    {
      "cell_type": "code",
      "execution_count": null,
      "metadata": {
        "id": "0nwXzL5BRVnr",
        "colab": {
          "base_uri": "https://localhost:8080/"
        },
        "outputId": "6c4234c5-0b9e-40c1-e4f1-cc6e29e03cfc"
      },
      "outputs": [
        {
          "output_type": "stream",
          "name": "stdout",
          "text": [
            "epoch: 0 loss: 1.359942\n",
            "epoch: 10 loss: 1.320480\n",
            "epoch: 20 loss: 1.282133\n",
            "epoch: 30 loss: 1.245445\n",
            "epoch: 40 loss: 1.210766\n",
            "epoch: 50 loss: 1.178301\n",
            "epoch: 60 loss: 1.148143\n",
            "epoch: 70 loss: 1.120308\n",
            "epoch: 80 loss: 1.094753\n",
            "epoch: 90 loss: 1.071397\n",
            "epoch: 100 loss: 1.050132\n",
            "epoch: 110 loss: 1.030837\n",
            "epoch: 120 loss: 1.013380\n",
            "epoch: 130 loss: 0.997629\n",
            "epoch: 140 loss: 0.983452\n",
            "epoch: 150 loss: 0.970720\n",
            "epoch: 160 loss: 0.959312\n",
            "epoch: 170 loss: 0.949111\n",
            "epoch: 180 loss: 0.940008\n",
            "epoch: 190 loss: 0.931903\n",
            "epoch: 200 loss: 0.924702\n",
            "epoch: 210 loss: 0.918318\n",
            "epoch: 220 loss: 0.912672\n",
            "epoch: 230 loss: 0.907691\n",
            "epoch: 240 loss: 0.903309\n",
            "epoch: 250 loss: 0.899465\n",
            "epoch: 260 loss: 0.896103\n",
            "epoch: 270 loss: 0.893174\n",
            "epoch: 280 loss: 0.890632\n",
            "epoch: 290 loss: 0.888435\n",
            "epoch: 300 loss: 0.886547\n",
            "epoch: 310 loss: 0.884933\n",
            "epoch: 320 loss: 0.883562\n",
            "epoch: 330 loss: 0.882408\n",
            "epoch: 340 loss: 0.881446\n",
            "epoch: 350 loss: 0.880652\n",
            "epoch: 360 loss: 0.880007\n",
            "epoch: 370 loss: 0.879493\n",
            "epoch: 380 loss: 0.879094\n",
            "epoch: 390 loss: 0.878795\n",
            "epoch: 400 loss: 0.878582\n",
            "epoch: 410 loss: 0.878446\n",
            "epoch: 420 loss: 0.878374\n",
            "epoch: 430 loss: 0.878359\n",
            "epoch: 440 loss: 0.878391\n",
            "epoch: 450 loss: 0.878463\n",
            "epoch: 460 loss: 0.878570\n",
            "epoch: 470 loss: 0.878705\n",
            "epoch: 480 loss: 0.878863\n",
            "epoch: 490 loss: 0.879040\n"
          ]
        }
      ],
      "source": [
        "loss_history = []\n",
        "\n",
        "for epoch in range(500):\n",
        "    loss = stochastic_gradient_descent(model, features, labels, lr=0.0001, batch_size=1 ,num_classes=1)\n",
        "    loss_history.append(loss)\n",
        "    if epoch % 10 == 0:\n",
        "        print(f\"epoch: {epoch} loss: {loss:.6f}\")"
      ]
    },
    {
      "cell_type": "code",
      "source": [
        "model.weights"
      ],
      "metadata": {
        "id": "1uuEUQz5NhNV",
        "colab": {
          "base_uri": "https://localhost:8080/"
        },
        "outputId": "5169941a-a658-4b07-86ea-8f5a2821b042"
      },
      "execution_count": null,
      "outputs": [
        {
          "output_type": "execute_result",
          "data": {
            "text/plain": [
              "[array([[ 1.92754511],\n",
              "        [-3.39164459]])]"
            ]
          },
          "metadata": {},
          "execution_count": 17
        }
      ]
    },
    {
      "cell_type": "code",
      "source": [
        "model.biases"
      ],
      "metadata": {
        "id": "kaJ5P2s3Nqcs",
        "colab": {
          "base_uri": "https://localhost:8080/"
        },
        "outputId": "6d49e082-f94f-474e-b63d-0033ad863982"
      },
      "execution_count": null,
      "outputs": [
        {
          "output_type": "execute_result",
          "data": {
            "text/plain": [
              "[array([[4.16063694]])]"
            ]
          },
          "metadata": {},
          "execution_count": 18
        }
      ]
    },
    {
      "cell_type": "code",
      "source": [
        "true_w = np.array([2, -3.4])\n",
        "true_b = 4.2"
      ],
      "metadata": {
        "id": "V67yriYLTApP"
      },
      "execution_count": null,
      "outputs": []
    },
    {
      "cell_type": "markdown",
      "source": [
        "# Generando el DataSet"
      ],
      "metadata": {
        "id": "0Me3tQN41LWj"
      }
    },
    {
      "cell_type": "markdown",
      "source": [
        "Generemos 200 muestras (100 para entrenar, 100 para verificar) para adaptar una función."
      ],
      "metadata": {
        "id": "XnDncTDyDwLs"
      }
    },
    {
      "cell_type": "code",
      "source": [
        "max_degree = 20  # Maximo grado polinomico (ORIGINAL 20)\n",
        "n_train, n_test = 100, 100  # Tamaños de datos de entrenamiento y prueba (train y test)\n",
        "true_w = np.zeros(max_degree) \n",
        "true_w[0: 4] = np.array([5, 1.2, -3.4, 5.6])\n",
        "\n",
        "true_w"
      ],
      "metadata": {
        "id": "gxbbBCD10WQE",
        "colab": {
          "base_uri": "https://localhost:8080/"
        },
        "outputId": "1f1960b0-f3fe-4519-8ee5-20c77aae2f4c"
      },
      "execution_count": null,
      "outputs": [
        {
          "output_type": "execute_result",
          "data": {
            "text/plain": [
              "array([ 5. ,  1.2, -3.4,  5.6,  0. ,  0. ,  0. ,  0. ,  0. ,  0. ,  0. ,\n",
              "        0. ,  0. ,  0. ,  0. ,  0. ,  0. ,  0. ,  0. ,  0. ])"
            ]
          },
          "metadata": {},
          "execution_count": 34
        }
      ]
    },
    {
      "cell_type": "markdown",
      "source": [
        "El polinomio a ajustar lo tomaremos de la siguiente forma\n",
        "\n",
        "$$ y = 5 + 1.2x - 3.4\\frac{x^2}{2!} + 5.6 \\frac{x^3}{3!} + \\epsilon \\text{ where }\n",
        "\\epsilon \\sim \\mathcal{N}(0, 0.1^2) $$\n",
        "\n",
        "Estamos dividiendo por los factoriales para poder tomar en cuenta valores grandes de x en los exponentes grandes."
      ],
      "metadata": {
        "id": "ai34OxkcaYjf"
      }
    },
    {
      "cell_type": "code",
      "source": [
        "features = np.random.normal(0,1,size=(n_train + n_test, 1))\n",
        "np.random.shuffle(features)\n",
        "poly_features = np.power(features, np.arange(max_degree).reshape(1, -1))\n",
        "#for i in range(max_degree):\n",
        " #   poly_features[:, i] /= math.gamma(i + 1)  # Aqui utilizamos la función Gamma (como la función factorial)\n",
        "# Forma (shape) de etiquetas (nuestra Y): ((n_train + n_test),)\n",
        "labels = np.dot(poly_features, true_w)\n",
        "labels += np.random.normal(scale=0.1, size=labels.shape)\n",
        "\n",
        "labels = labels.reshape(-1,1)"
      ],
      "metadata": {
        "id": "5azkIn9MYfgg"
      },
      "execution_count": null,
      "outputs": []
    },
    {
      "cell_type": "code",
      "source": [
        "poly_features[0]"
      ],
      "metadata": {
        "colab": {
          "base_uri": "https://localhost:8080/"
        },
        "id": "2eMsh5WPYPiH",
        "outputId": "1030ca0e-93de-4e56-889e-86ed3c3b7b5d"
      },
      "execution_count": null,
      "outputs": [
        {
          "output_type": "execute_result",
          "data": {
            "text/plain": [
              "array([1.        , 0.12527645, 0.01569419, 0.00196611, 0.00024631,\n",
              "       0.00003086, 0.00000387, 0.00000048, 0.00000006, 0.00000001,\n",
              "       0.        , 0.        , 0.        , 0.        , 0.        ,\n",
              "       0.        , 0.        , 0.        , 0.        , 0.        ])"
            ]
          },
          "metadata": {},
          "execution_count": 64
        }
      ]
    },
    {
      "cell_type": "code",
      "source": [
        "poly_features[:5]"
      ],
      "metadata": {
        "colab": {
          "base_uri": "https://localhost:8080/"
        },
        "id": "usYF2JisWSQ-",
        "outputId": "c002a467-889a-430d-801b-18a711ccba74"
      },
      "execution_count": null,
      "outputs": [
        {
          "output_type": "execute_result",
          "data": {
            "text/plain": [
              "array([[1.        , 0.12527645, 0.01569419, 0.00196611, 0.00024631,\n",
              "        0.00003086, 0.00000387, 0.00000048, 0.00000006, 0.00000001,\n",
              "        0.        , 0.        , 0.        , 0.        , 0.        ,\n",
              "        0.        , 0.        , 0.        , 0.        , 0.        ],\n",
              "       [1.        , 0.9694624 , 0.93985735, 0.91115636, 0.88333183,\n",
              "        0.856357  , 0.83020592, 0.80485342, 0.78027513, 0.7564474 ,\n",
              "        0.73334731, 0.71095265, 0.68924186, 0.66819407, 0.64778903,\n",
              "        0.62800711, 0.60882928, 0.59023709, 0.57221267, 0.55473867],\n",
              "       [1.        , 1.09484953, 1.19869549, 1.31239118, 1.43687087,\n",
              "        1.57315739, 1.72237062, 1.88573666, 2.06459789, 2.26042402,\n",
              "        2.47482416, 2.70956006, 2.96656055, 3.24793742, 3.55600274,\n",
              "        3.89328792, 4.26256443, 4.66686665, 5.10951674, 5.59415198],\n",
              "       [1.        , 0.35501096, 0.12603278, 0.04474302, 0.01588426,\n",
              "        0.00563909, 0.00200194, 0.00071071, 0.00025231, 0.00008957,\n",
              "        0.0000318 , 0.00001129, 0.00000401, 0.00000142, 0.00000051,\n",
              "        0.00000018, 0.00000006, 0.00000002, 0.00000001, 0.        ],\n",
              "       [1.        , 0.29189438, 0.08520233, 0.02487008, 0.00725944,\n",
              "        0.00211899, 0.00061852, 0.00018054, 0.0000527 , 0.00001538,\n",
              "        0.00000449, 0.00000131, 0.00000038, 0.00000011, 0.00000003,\n",
              "        0.00000001, 0.        , 0.        , 0.        , 0.        ]])"
            ]
          },
          "metadata": {},
          "execution_count": 65
        }
      ]
    },
    {
      "cell_type": "code",
      "source": [
        "np.set_printoptions(suppress=True)"
      ],
      "metadata": {
        "id": "O5pNhmBSVTUj"
      },
      "execution_count": null,
      "outputs": []
    },
    {
      "cell_type": "code",
      "source": [
        "poly_features[0,:] # los polinomicos del primer elemento"
      ],
      "metadata": {
        "id": "ilm2NUsADAjz",
        "colab": {
          "base_uri": "https://localhost:8080/"
        },
        "outputId": "ea912866-82a7-4026-bd59-7f6b9f607395"
      },
      "execution_count": null,
      "outputs": [
        {
          "output_type": "execute_result",
          "data": {
            "text/plain": [
              "array([1.        , 0.12527645, 0.01569419, 0.00196611, 0.00024631,\n",
              "       0.00003086, 0.00000387, 0.00000048, 0.00000006, 0.00000001,\n",
              "       0.        , 0.        , 0.        , 0.        , 0.        ,\n",
              "       0.        , 0.        , 0.        , 0.        , 0.        ])"
            ]
          },
          "metadata": {},
          "execution_count": 67
        }
      ]
    },
    {
      "cell_type": "code",
      "source": [
        "poly_features = poly_features[:, 1:]\n",
        "poly_features"
      ],
      "metadata": {
        "id": "amHJ81UWjee7",
        "colab": {
          "base_uri": "https://localhost:8080/"
        },
        "outputId": "056f14b3-6e67-419c-9177-9818c8ce530a"
      },
      "execution_count": null,
      "outputs": [
        {
          "output_type": "execute_result",
          "data": {
            "text/plain": [
              "array([[ 0.12527645,  0.01569419,  0.00196611, ...,  0.        ,\n",
              "         0.        ,  0.        ],\n",
              "       [ 0.9694624 ,  0.93985735,  0.91115636, ...,  0.59023709,\n",
              "         0.57221267,  0.55473867],\n",
              "       [ 1.09484953,  1.19869549,  1.31239118, ...,  4.66686665,\n",
              "         5.10951674,  5.59415198],\n",
              "       ...,\n",
              "       [ 0.20995587,  0.04408147,  0.00925516, ...,  0.        ,\n",
              "         0.        ,  0.        ],\n",
              "       [-0.51922803,  0.26959775, -0.13998271, ..., -0.00001449,\n",
              "         0.00000752, -0.00000391],\n",
              "       [ 0.46036719,  0.21193795,  0.09756928, ...,  0.00000187,\n",
              "         0.00000086,  0.0000004 ]])"
            ]
          },
          "metadata": {},
          "execution_count": 68
        }
      ]
    },
    {
      "cell_type": "code",
      "source": [
        "# El primero es la X que utilizaremos,\n",
        "# El segundo son las potencias de X\n",
        "# El tercero es la Y de dicha X  (trataremos de aproximar polinomio f tal que f(X)=Y)\n",
        "features[:1], poly_features[:1, :], labels[:1]"
      ],
      "metadata": {
        "id": "Y1f2DBtj0WNx",
        "colab": {
          "base_uri": "https://localhost:8080/"
        },
        "outputId": "235e63f8-dc5e-47ff-f2ef-f815265bd7ff"
      },
      "execution_count": null,
      "outputs": [
        {
          "output_type": "execute_result",
          "data": {
            "text/plain": [
              "(array([[0.12527645]]),\n",
              " array([[0.12527645, 0.01569419, 0.00196611, 0.00024631, 0.00003086,\n",
              "         0.00000387, 0.00000048, 0.00000006, 0.00000001, 0.        ,\n",
              "         0.        , 0.        , 0.        , 0.        , 0.        ,\n",
              "         0.        , 0.        , 0.        , 0.        ]]),\n",
              " array([[5.12198602]]))"
            ]
          },
          "metadata": {},
          "execution_count": 69
        }
      ]
    },
    {
      "cell_type": "markdown",
      "source": [
        "# Entrenamiento y pruebas"
      ],
      "metadata": {
        "id": "ZshGFJ_z1QPb"
      }
    },
    {
      "cell_type": "markdown",
      "source": [
        "# Normal"
      ],
      "metadata": {
        "id": "TqxUaVGw0oQJ"
      }
    },
    {
      "cell_type": "markdown",
      "source": [
        "Escogeremos las características polinomiales de $1$, $\\,\\, x $, $\\,\\,x^{2}/2!$, $\\,\\, x^{3}/3!$."
      ],
      "metadata": {
        "id": "Xf7cgmOJn4W9"
      }
    },
    {
      "cell_type": "code",
      "source": [
        "model_grado3 = NeuralNetwork(3, [], 1)"
      ],
      "metadata": {
        "id": "WMTtB8ZjbvX1"
      },
      "execution_count": null,
      "outputs": []
    },
    {
      "cell_type": "code",
      "execution_count": null,
      "metadata": {
        "id": "AQvX9Gw1bvX2",
        "colab": {
          "base_uri": "https://localhost:8080/"
        },
        "outputId": "4020973c-aae0-49b0-b9bd-6ce2e949e817"
      },
      "outputs": [
        {
          "output_type": "stream",
          "name": "stdout",
          "text": [
            "epoch: 0 loss: 6.010069\n",
            "epoch: 100 loss: 5.923386\n",
            "epoch: 200 loss: 5.946611\n",
            "epoch: 300 loss: 5.958202\n",
            "epoch: 400 loss: 5.962274\n",
            "epoch: 500 loss: 5.963677\n",
            "epoch: 600 loss: 5.964190\n",
            "epoch: 700 loss: 5.964394\n",
            "epoch: 800 loss: 5.964483\n",
            "epoch: 900 loss: 5.964525\n"
          ]
        }
      ],
      "source": [
        "loss_history = []\n",
        "loss_test = []\n",
        "\n",
        "for epoch in range(1000):\n",
        "    loss = stochastic_gradient_descent(model_grado3, poly_features[:n_train, :3], labels[:n_train].reshape(-1,1), lr=0.0001, batch_size=1 ,num_classes=1)\n",
        "\n",
        "    loss_history.append(mse(labels[:n_train], model_grado3.predict(poly_features[:n_train, :3])))\n",
        "\n",
        "    loss_test.append(mse(labels[n_train:], model_grado3.predict(poly_features[n_train:, :3])))\n",
        "    if epoch % 100 == 0:\n",
        "        print(f\"epoch: {epoch} loss: {loss:.6f}\")"
      ]
    },
    {
      "cell_type": "code",
      "source": [
        "# Verdaderos pesos     [5, 1.2, -3.4, 5.6], el primero es el sesgo, el segundo el coeficiente de x, el tercero el de x^2,...\n",
        "model_grado3.weights, model_grado3.biases"
      ],
      "metadata": {
        "id": "agR-OOS9i_NU",
        "colab": {
          "base_uri": "https://localhost:8080/"
        },
        "outputId": "5384660c-a4d1-403e-950c-0b4de215590d"
      },
      "execution_count": null,
      "outputs": [
        {
          "output_type": "execute_result",
          "data": {
            "text/plain": [
              "([array([[ 1.18267969],\n",
              "         [-3.3905313 ],\n",
              "         [ 5.60287539]])], [array([[4.99909787]])])"
            ]
          },
          "metadata": {},
          "execution_count": 45
        }
      ]
    },
    {
      "cell_type": "code",
      "source": [
        "import matplotlib.pyplot as plt"
      ],
      "metadata": {
        "id": "Wbi0lOlsksOj"
      },
      "execution_count": null,
      "outputs": []
    },
    {
      "cell_type": "code",
      "source": [
        "plt.plot(loss_history[300:], label = \"train\")\n",
        "plt.plot(loss_test[300:], label = \"test\")\n",
        "plt.legend()"
      ],
      "metadata": {
        "id": "ZgXt-GGxkok6",
        "colab": {
          "base_uri": "https://localhost:8080/",
          "height": 282
        },
        "outputId": "a7baf31e-f9bc-4fce-d2fb-331b7c8974f8"
      },
      "execution_count": null,
      "outputs": [
        {
          "output_type": "execute_result",
          "data": {
            "text/plain": [
              "<matplotlib.legend.Legend at 0x7f9152a2a0d0>"
            ]
          },
          "metadata": {},
          "execution_count": 47
        },
        {
          "output_type": "display_data",
          "data": {
            "text/plain": [
              "<Figure size 432x288 with 1 Axes>"
            ],
            "image/png": "[encoded data removed]"
          },
          "metadata": {
            "needs_background": "light"
          }
        }
      ]
    },
    {
      "cell_type": "markdown",
      "source": [
        "# Underfitting"
      ],
      "metadata": {
        "id": "iypwJHHm0pOq"
      }
    },
    {
      "cell_type": "markdown",
      "source": [
        "Escogeremos solamente los elementos del primer grado para entrenar, es decir, $1$ y $x$ de las características polinomiales"
      ],
      "metadata": {
        "id": "F_vdoKAgmVhy"
      }
    },
    {
      "cell_type": "code",
      "source": [
        "model_grado1 = NeuralNetwork(1, [], 1)"
      ],
      "metadata": {
        "id": "0UmReSTnl15Y"
      },
      "execution_count": null,
      "outputs": []
    },
    {
      "cell_type": "code",
      "execution_count": null,
      "metadata": {
        "id": "1YXOqnDUl15Z",
        "colab": {
          "base_uri": "https://localhost:8080/"
        },
        "outputId": "fdda822e-fb77-4ead-a619-5529cc045be1"
      },
      "outputs": [
        {
          "output_type": "stream",
          "name": "stdout",
          "text": [
            "epoch: 0 loss: 5.931630\n",
            "epoch: 100 loss: 5.939187\n",
            "epoch: 200 loss: 5.949293\n",
            "epoch: 300 loss: 5.951966\n",
            "epoch: 400 loss: 5.952471\n",
            "epoch: 500 loss: 5.952556\n",
            "epoch: 600 loss: 5.952569\n",
            "epoch: 700 loss: 5.952571\n",
            "epoch: 800 loss: 5.952571\n",
            "epoch: 900 loss: 5.952571\n"
          ]
        }
      ],
      "source": [
        "loss_history = []\n",
        "loss_test = []\n",
        "\n",
        "for epoch in range(1000):\n",
        "    loss = stochastic_gradient_descent(model_grado1, poly_features[:n_train, :1], labels[:n_train].reshape(-1,1), lr=0.0001, batch_size=1 ,num_classes=1)\n",
        "\n",
        "    loss_history.append(mse(labels[:n_train], model_grado1.predict(poly_features[:n_train, :1])))\n",
        "\n",
        "    loss_test.append(mse(labels[n_train:], model_grado1.predict(poly_features[n_train:, :1])))\n",
        "    if epoch % 100 == 0:\n",
        "        print(f\"epoch: {epoch} loss: {loss:.6f}\")"
      ]
    },
    {
      "cell_type": "code",
      "source": [
        "plt.plot(loss_history[300:], label = \"train\")\n",
        "plt.plot(loss_test[300:], label = \"test\")\n",
        "plt.legend()"
      ],
      "metadata": {
        "id": "LBlyeqUimGx9",
        "colab": {
          "base_uri": "https://localhost:8080/",
          "height": 282
        },
        "outputId": "d511c40d-1a9b-47d6-852d-479592628a13"
      },
      "execution_count": null,
      "outputs": [
        {
          "output_type": "execute_result",
          "data": {
            "text/plain": [
              "<matplotlib.legend.Legend at 0x7f9152433a50>"
            ]
          },
          "metadata": {},
          "execution_count": 50
        },
        {
          "output_type": "display_data",
          "data": {
            "text/plain": [
              "<Figure size 432x288 with 1 Axes>"
            ],
            "image/png": "[encoded data removed]"
          },
          "metadata": {
            "needs_background": "light"
          }
        }
      ]
    },
    {
      "cell_type": "code",
      "source": [
        "model_grado1.weights, model_grado1.biases"
      ],
      "metadata": {
        "colab": {
          "base_uri": "https://localhost:8080/"
        },
        "id": "oz7DDcL-ZKnK",
        "outputId": "b1fcf9a0-6f95-496a-ff8a-d396d82de228"
      },
      "execution_count": null,
      "outputs": [
        {
          "output_type": "execute_result",
          "data": {
            "text/plain": [
              "([array([[19.70496029]])], [array([[1.42409968]])])"
            ]
          },
          "metadata": {},
          "execution_count": 52
        }
      ]
    },
    {
      "cell_type": "markdown",
      "source": [
        "# Overfitting"
      ],
      "metadata": {
        "id": "VVjNsw8K0q1Q"
      }
    },
    {
      "cell_type": "markdown",
      "source": [
        "Escogeremos todas las características polinomiales"
      ],
      "metadata": {
        "id": "dM18OIx6m4Bo"
      }
    },
    {
      "cell_type": "code",
      "source": [
        "n=4\n",
        "model_grado19 = NeuralNetwork(n, [], 1)"
      ],
      "metadata": {
        "id": "tjI_T0b-mw3c"
      },
      "execution_count": null,
      "outputs": []
    },
    {
      "cell_type": "code",
      "execution_count": null,
      "metadata": {
        "id": "7okSJcO1mw3d"
      },
      "outputs": [],
      "source": [
        "loss_history = []\n",
        "loss_test = []\n",
        "\n",
        "for epoch in range(30000):\n",
        "    loss = stochastic_gradient_descent(model_grado19, poly_features[:n_train, :n], labels[:n_train].reshape(-1,1), lr=0.000000001, batch_size=1 ,num_classes=1)\n",
        "\n",
        "    loss_history.append(mse(labels[:n_train], model_grado19.predict(poly_features[:n_train, :n])))\n",
        "\n",
        "    loss_test.append(mse(labels[n_train:], model_grado19.predict(poly_features[n_train:, :n])))\n",
        "    "
      ]
    },
    {
      "cell_type": "code",
      "source": [
        "mse(labels[:n_train], model_grado19.predict(poly_features[:n_train, :n]))"
      ],
      "metadata": {
        "colab": {
          "base_uri": "https://localhost:8080/"
        },
        "id": "QZvM09D40Huv",
        "outputId": "667cac67-32bd-48a4-895e-36a63c8473b6"
      },
      "execution_count": null,
      "outputs": [
        {
          "output_type": "execute_result",
          "data": {
            "text/plain": [
              "344.60717485304247"
            ]
          },
          "metadata": {},
          "execution_count": 173
        }
      ]
    },
    {
      "cell_type": "code",
      "source": [
        "mse(labels[n_train:], model_grado19.predict(poly_features[n_train:, :n]))"
      ],
      "metadata": {
        "colab": {
          "base_uri": "https://localhost:8080/"
        },
        "id": "rGiT-s1w0Exj",
        "outputId": "f9a3c414-b90e-4def-cea9-35227d0889b0"
      },
      "execution_count": null,
      "outputs": [
        {
          "output_type": "execute_result",
          "data": {
            "text/plain": [
              "363.16212359365187"
            ]
          },
          "metadata": {},
          "execution_count": 174
        }
      ]
    },
    {
      "cell_type": "code",
      "source": [
        "plt.plot(loss_history, label = \"train\")\n",
        "plt.plot(loss_test, label = \"test\")\n",
        "plt.legend()"
      ],
      "metadata": {
        "id": "r53RpiGrmw3d",
        "colab": {
          "base_uri": "https://localhost:8080/",
          "height": 282
        },
        "outputId": "b674823e-0649-4dff-ba58-3914714ac6a2"
      },
      "execution_count": null,
      "outputs": [
        {
          "output_type": "execute_result",
          "data": {
            "text/plain": [
              "<matplotlib.legend.Legend at 0x7f9151bda350>"
            ]
          },
          "metadata": {},
          "execution_count": 175
        },
        {
          "output_type": "display_data",
          "data": {
            "text/plain": [
              "<Figure size 432x288 with 1 Axes>"
            ],
            "image/png": "[encoded data removed]"
          },
          "metadata": {
            "needs_background": "light"
          }
        }
      ]
    }
  ]
}