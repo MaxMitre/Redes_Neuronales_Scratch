{
  "nbformat": 4,
  "nbformat_minor": 0,
  "metadata": {
    "colab": {
      "name": "semana1_RNs_Regresion_de_cero.ipynb",
      "provenance": [],
      "collapsed_sections": []
    },
    "kernelspec": {
      "name": "python3",
      "display_name": "Python 3"
    },
    "language_info": {
      "name": "python"
    }
  },
  "cells": [
    {
      "cell_type": "markdown",
      "source": [
        "[![Open In Colab](https://colab.research.google.com/assets/colab-badge.svg)](https://colab.research.google.com/github/MaxMitre/Redes_Neuronales_Scratch/blob/main/Semana1/Regresion_de_cero.ipynb)\n",
        "\n"
      ],
      "metadata": {
        "id": "o0YSS6D8FutB"
      }
    },
    {
      "cell_type": "markdown",
      "source": [
        "# Regresión Lineal desde Cero\n",
        "\n",
        "En ésta clase programaremos una Regresión desde cero, paso a paso veremos como podríamos resolver éste problema cuando no podamos encontrar una solución analítica, modificando nuestros parámetros poco a poco para acercarnos a los parámetros que queremos encontrar."
      ],
      "metadata": {
        "id": "lsBTiES9lhGM"
      }
    },
    {
      "cell_type": "markdown",
      "source": [
        "# Dependencias"
      ],
      "metadata": {
        "id": "g66VfIZtVBeD"
      }
    },
    {
      "cell_type": "code",
      "source": [
        "import numpy as np\n",
        "import matplotlib.pyplot as plt"
      ],
      "metadata": {
        "id": "0kgLpnxDlgWZ"
      },
      "execution_count": null,
      "outputs": []
    },
    {
      "cell_type": "markdown",
      "source": [
        "La siguiente linea es para crear una semilla para la generación de nuestros números pseudo-aleatorios y poder repetir nuestros experimentos"
      ],
      "metadata": {
        "id": "Z4b5oQvcVck9"
      }
    },
    {
      "cell_type": "code",
      "source": [
        "np.random.seed(20)"
      ],
      "metadata": {
        "id": "W08PUqGh7P5V"
      },
      "execution_count": null,
      "outputs": []
    },
    {
      "cell_type": "markdown",
      "source": [
        "# Creación de nuestros datos sintéticos"
      ],
      "metadata": {
        "id": "y00F_R4fVlf8"
      }
    },
    {
      "cell_type": "code",
      "source": [
        "def synthetic_data(w, b, num_examples):\n",
        "    \"\"\"Generar y = Xw + b + ruido\"\"\"\n",
        "    X = np.random.normal(0, 1, (num_examples, len(w)))\n",
        "    y = np.dot(X, w) + b\n",
        "    y += np.random.normal(0, 0.01, y.shape)\n",
        "    return X, y.reshape((-1, 1))"
      ],
      "metadata": {
        "id": "0617B9NF277W"
      },
      "execution_count": null,
      "outputs": []
    },
    {
      "cell_type": "markdown",
      "source": [
        "Aquí crearemos los parámetros reales, despues sin verlos trataremos de aproximarlos por medio de nuestros datos"
      ],
      "metadata": {
        "id": "aH6FgEeRW24G"
      }
    },
    {
      "cell_type": "code",
      "source": [
        "true_w = np.array([2, -3.4])\n",
        "true_b = 4.2\n",
        "features, labels = synthetic_data(true_w, true_b, 1000)"
      ],
      "metadata": {
        "id": "Gf9jey0l3Pwe"
      },
      "execution_count": null,
      "outputs": []
    },
    {
      "cell_type": "code",
      "source": [
        "# Verdadedo label de los primeros datos\n",
        "features[0][0]*true_w[0] + features[0][1]*true_w[1] + 1*true_b"
      ],
      "metadata": {
        "id": "Hl9T5uNu6Znv",
        "colab": {
          "base_uri": "https://localhost:8080/"
        },
        "outputId": "86faa872-016c-4bc1-dcac-73e15d277c29"
      },
      "execution_count": null,
      "outputs": [
        {
          "output_type": "execute_result",
          "data": {
            "text/plain": [
              "5.301845150306699"
            ]
          },
          "metadata": {},
          "execution_count": 5
        }
      ]
    },
    {
      "cell_type": "code",
      "source": [
        "# Label asignado con un poco de ruido\n",
        "labels[0]"
      ],
      "metadata": {
        "id": "CT_3Du_m69dr",
        "colab": {
          "base_uri": "https://localhost:8080/"
        },
        "outputId": "71450b59-4ebe-4224-87db-b34680542bf2"
      },
      "execution_count": null,
      "outputs": [
        {
          "output_type": "execute_result",
          "data": {
            "text/plain": [
              "array([5.31407416])"
            ]
          },
          "metadata": {},
          "execution_count": 6
        }
      ]
    },
    {
      "cell_type": "code",
      "source": [
        "# ¿Que representan éstas variables?\n",
        "print('features:', features[0:6],'\\nlabel:', labels[0:6])"
      ],
      "metadata": {
        "id": "y9Qv7Vbl3Som",
        "colab": {
          "base_uri": "https://localhost:8080/"
        },
        "outputId": "b81e97be-b94b-4953-f7ee-1b3e245a23b9"
      },
      "execution_count": null,
      "outputs": [
        {
          "output_type": "stream",
          "name": "stdout",
          "text": [
            "features: [[ 0.88389311  0.19586502]\n",
            " [ 0.35753652 -2.34326191]\n",
            " [-1.08483259  0.55969629]\n",
            " [ 0.93946935 -0.97848104]\n",
            " [ 0.50309684  0.40641447]\n",
            " [ 0.32346101 -0.49341088]] \n",
            "label: [[ 5.31407416]\n",
            " [12.87720042]\n",
            " [ 0.10907668]\n",
            " [ 9.40698244]\n",
            " [ 3.82739534]\n",
            " [ 6.54716591]]\n"
          ]
        }
      ]
    },
    {
      "cell_type": "markdown",
      "source": [
        "# Visualización de nuestros datos"
      ],
      "metadata": {
        "id": "LldZlgGRXGei"
      }
    },
    {
      "cell_type": "code",
      "source": [
        "plt.scatter(features[:, 0], labels)"
      ],
      "metadata": {
        "id": "vyjUj7JC4cZ-",
        "colab": {
          "base_uri": "https://localhost:8080/",
          "height": 282
        },
        "outputId": "a1e4e290-e57e-4034-c2ce-0f54c421ae75"
      },
      "execution_count": null,
      "outputs": [
        {
          "output_type": "execute_result",
          "data": {
            "text/plain": [
              "<matplotlib.collections.PathCollection at 0x7fdc9c1e1fd0>"
            ]
          },
          "metadata": {},
          "execution_count": 8
        },
        {
          "output_type": "display_data",
          "data": {
            "text/plain": [
              "<Figure size 432x288 with 1 Axes>"
            ],
            "image/png": "[encoded data removed]"
          },
          "metadata": {
            "needs_background": "light"
          }
        }
      ]
    },
    {
      "cell_type": "code",
      "source": [
        "plt.scatter(features[:, 1], labels)"
      ],
      "metadata": {
        "id": "lnzXQN4f4OT0",
        "colab": {
          "base_uri": "https://localhost:8080/",
          "height": 282
        },
        "outputId": "78a073f5-7254-49ff-d9f4-54e2976b6ac0"
      },
      "execution_count": null,
      "outputs": [
        {
          "output_type": "execute_result",
          "data": {
            "text/plain": [
              "<matplotlib.collections.PathCollection at 0x7fdc95cd1fd0>"
            ]
          },
          "metadata": {},
          "execution_count": 9
        },
        {
          "output_type": "display_data",
          "data": {
            "text/plain": [
              "<Figure size 432x288 with 1 Axes>"
            ],
            "image/png": "[encoded data removed]"
          },
          "metadata": {
            "needs_background": "light"
          }
        }
      ]
    },
    {
      "cell_type": "code",
      "source": [
        "!pip install plotly"
      ],
      "metadata": {
        "id": "fdUpKzf3PV60"
      },
      "execution_count": null,
      "outputs": []
    },
    {
      "cell_type": "code",
      "source": [
        "# AUXILIAR: Solo para mostrar el gráfico 3D\n",
        "import plotly.express as px\n",
        "df = np.concatenate((features, labels),axis=1)\n",
        "fig = px.scatter_3d(df, x=0, y=1, z=2)\n",
        "fig.show()"
      ],
      "metadata": {
        "id": "zM_KuD7J4pom",
        "colab": {
          "base_uri": "https://localhost:8080/",
          "height": 542
        },
        "outputId": "34493029-964d-43b2-d6aa-ac04b1655e80"
      },
      "execution_count": null,
      "outputs": [
        {
          "output_type": "display_data",
          "data": {
            "text/html": [
              "<html>\n",
              "<head><meta charset=\"utf-8\" /></head>\n",
              "<body>\n",
              "    <div>            <script src=\"https://cdnjs.cloudflare.com/ajax/libs/mathjax/2.7.5/MathJax.js?config=TeX-AMS-MML_SVG\"></script><script type=\"text/javascript\">if (window.MathJax) {MathJax.Hub.Config({SVG: {font: \"STIX-Web\"}});}</script>                <script type=\"text/javascript\">window.PlotlyConfig = {MathJaxConfig: 'local'};</script>\n",
              "        <script src=\"https://cdn.plot.ly/plotly-2.8.3.min.js\"></script>                <div id=\"aaa96d6c-658b-4f47-834f-00336bb1004c\" class=\"plotly-graph-div\" style=\"height:525px; width:100%;\"></div>            <script type=\"text/javascript\">                                    window.PLOTLYENV=window.PLOTLYENV || {};                                    if (document.getElementById(\"aaa96d6c-658b-4f47-834f-00336bb1004c\")) {                    Plotly.newPlot(                        \"aaa96d6c-658b-4f47-834f-00336bb1004c\",                        [{\"hovertemplate\":\"0=%{x}<br>1=%{y}<br>2=%{z}<extra></extra>\",\"legendgroup\":\"\",\"marker\":{\"color\":\"#636efa\",\"symbol\":\"circle\"},\"mode\":\"markers\",\"name\":\"\",\"scene\":\"scene\",\"showlegend\":false,\"x\":[0.8838931126173458,0.3575365158852867,-1.0848325873173328,0.9394693498560777,0.5030968401091914,0.3234610099156434,-0.7920167907771816,-1.2795026616706042,-0.04419480068361748,1.0511086796131768,-0.16864610124128443,1.12013225923654,-0.24333876611630206,-0.10901737133730471,0.12877835273019408,-0.885493154616703,0.932866346610091,-0.9349379580809319,0.5270697180962234,0.32961333921197766,-0.3384906045519245,-0.6023080180595345,0.6470340836498365,0.43802449701914753,1.204511275020844,0.4934372360278101,-0.5551857968857017,0.8570938168891852,-0.21966112236298194,-1.482385050134975,-0.8286927702344518,0.5277284702696486,1.3014293986554235,2.094665338082445,0.691002118590122,0.09878861473099068,-0.854775487342927,-0.9622159843780511,-0.23946975731280126,0.6464301659040527,0.03819246874812981,0.1436226349585432,-0.40957142515378353,-0.4045340239622074,-0.9389104909640118,1.095433351342401,-1.4418485745457146,-1.6295015181180854,-1.0561690000183723,-0.9500180100254156,-0.5320792474553208,0.21865771977812515,-0.2286972650807645,0.1658330092370238,-1.961892242675055,1.0918866127160918,-0.7117855567080416,0.7523133206959416,0.6766396723306617,-0.3650574440908685,0.2895591503361211,1.6059926396210291,-1.7861686341240965,1.5376439733847305,-0.1058130523703925,0.01123134145342559,-1.5145109657050797,0.8416225188285681,0.8251846237263087,0.3381263483970462,0.34848886375046007,-1.1147406232415242,0.02136903923401978,1.8271415277179883,1.058442092609689,0.6099178020944761,-1.9412662910561154,1.8628551351223697,0.47831650582147917,1.237292927160557,0.7241272794310375,0.15257918672208845,0.27207688822695014,0.08681927006536326,1.8500438785729347,0.9034630003902674,1.4414778960070702,0.4290540360918662,-0.4382601962147403,1.9554321006834305,0.12072220793889916,1.3665057256711728,0.015653659985217002,-0.806901090380598,1.0528919170355409,-1.4389505404207306,0.8056692388759787,-0.26082290929071567,-1.6158992125782383,-0.041180143766047554,-1.5039778238561405,-0.03012610576957469,0.502435230630459,-0.30574829012047444,1.1694369957089614,-2.5117807077003387,0.5415724540299603,-1.0215827316575077,-0.7081235031603792,-0.4905331589716589,-0.04692511385216678,-0.5081914987468069,0.7617860957213675,0.8539263560084511,-0.8894751801852641,-0.5394307626406479,-0.11829349164730663,-1.068632116564072,0.2352515996854383,-0.5110631825259574,-0.7740748327638539,-0.6269373373395746,1.2769798386772069,-0.122315939901835,0.14346707728625135,1.055364394383209,1.8010063972721235,-0.8421870365260722,-0.8315439431891614,0.6701164577350086,-0.2679074087564409,-1.5700686335461729,0.9239781543019754,-0.29677534752428475,-0.33330092818234236,-0.722238413326392,-0.6916241897094678,-0.37190787091472144,0.49184058998337715,-0.2655737509607294,-0.16430128756655013,-0.23167982904969273,-0.3866323095104712,-0.7125441135282226,-0.9586865863664576,-1.1630661074955175,0.9097566859357606,-0.37685847010241014,-0.47753268615963773,0.2076550075850339,1.0208650286890024,1.1407990966464558,2.0400517490376875,0.430900702712729,1.4567777892218337,-1.542664412865657,-0.898307497209568,1.524773210933687,1.0956318078277478,0.371400946267365,1.0908448128814345,1.1188367533878416,0.8042947530731696,-0.34676464136892465,-0.1152541836697891,-0.743533099909734,-0.657647079645054,-0.7535313637534381,-0.6547437769479376,1.4144911683006147,1.2514958475694054,0.0967610819097579,1.1465317920305227,-1.9472098661136545,0.566639603958831,0.2653915289607453,-0.1933685157086208,-1.0487511432128103,1.3308304218751097,0.3524322305826219,-0.6327013683008658,0.6374081664217502,1.3876626381450248,-0.982569112106374,-2.0684934995945583,0.19305745131040544,1.3048382232302593,0.9424295040385698,0.11923003401838438,-0.9774655314098105,-0.8754999434433722,-1.340577339664525,-0.01477903462135528,-1.4171894505781544,-0.18480126979569356,0.15582362262659008,0.015368639894608455,-0.06675959570625042,0.47092110825203626,-0.4068579123707171,-0.23404304051340852,0.29558637074849214,-0.4701325347103191,0.6490264516280401,0.14555047238867436,-0.8201205916274803,-1.7176898199609196,1.230278181684644,-1.50898131523164,-1.9107080899318925,-0.7569550409823999,-0.10405745168296564,-0.20079855701739602,-0.7682518832153911,-1.1770281748000802,0.02480595353158847,0.35357155132727863,-0.6600866156584213,-1.6258532818324654,-0.6493009709899229,0.4371679931584182,0.5335330409382317,-0.07271142670657767,-1.4576864211047462,0.36769644465156426,-0.10866997499964459,0.3637034574639644,0.20131821312276807,-0.6713629222234583,0.3372355972153875,-1.0453826149100598,-0.8049608691161796,0.03144107283205245,0.0879612847034627,-0.2625411738074502,-1.5387217192166571,0.7381183458121997,0.046958680358681934,0.6318865639749252,-0.21543211038174553,1.9050878530584454,-0.4329734240280363,-1.0937249627683698,-0.7618832227501251,-0.8540155558019278,0.11534153745733075,-0.33768856300790084,-0.002974417464920049,-1.7630360957886058,1.169334205570615,1.156502682409707,-1.7473604980607809,-1.0718062149910164,-0.4120077327890296,0.29859715422061206,-0.3608273407006341,0.11715025251160383,-1.1709619523965595,0.33121703404547415,0.2570125771676126,0.2625289342311894,0.25874633701328287,-0.59056392396512,0.5881633943662544,0.5089889620695094,0.509443151362378,0.1958835731181117,-1.0496738900741227,-0.28032887222392994,1.283022098556597,0.2251680988973904,-1.3237538540000438,-0.851020537694771,-2.104250824670424,0.3343140286160145,-0.9244255591788487,-1.3205817579421362,1.8664231085757161,-0.29761451565879216,-0.2970379040225088,0.653445556508801,0.5878605250064424,0.8429940646977514,-0.404439653654813,0.820551398981353,-1.2358981814464893,0.38217153090277434,0.5060597119402284,0.7042722073288928,-0.17555505803176844,0.09184128043898435,-0.3650204422271794,2.148540719607677,0.9652738679936681,0.13801112473623162,1.2398001358090163,-0.44164583219243947,0.19051316341676985,-0.07811423698295766,-0.5819114296145883,2.344198740830126,-2.7663344860040797,1.17136415193063,-0.1283041186746317,0.2876466179122786,0.11494969421517078,-0.27133817575397245,-0.8120467281548392,1.0261454244876846,-1.61040677325884,0.9147811615292661,-0.32962882479085687,-0.4046738311517917,0.3591954560449924,0.6182936084313935,0.21337260248195788,0.1491822335641173,0.1975485484737393,-1.8696188206108517,-0.38690164269151384,0.40631504967502824,-1.3975969338857699,-1.2425771255349518,-0.04762832733987017,-1.0249369475532506,-1.5562162856343438,-0.4648029256193852,1.1142010436819993,2.131549578734257,1.2668259984349186,0.6135895058325957,-0.5020653730093495,0.16322725250531353,0.4992593319339219,1.5235864899417033,-0.34710084306301353,-0.04297154249048262,-1.1530205371349196,-0.5319688086241466,0.33979629446882526,-0.12261165443550483,-0.5806219611220284,0.11324448342832802,-0.8876740667316415,1.8567298778246837,-1.9874735467013913,-0.21224644664716563,-1.154844673642954,-0.4392116853371466,0.9762943252336795,0.655024014008057,0.3801861654392823,-0.08514029090246436,-2.318298790953055,0.16906215531548638,-0.20607087191116824,-0.09036789586302857,-1.2555932679698159,-2.063710002483496,-0.8712320101601077,1.3917193890016828,-2.6597928141984832,-1.6991785937004704,1.3545044372695483,-0.8662360818795904,-0.8848579704632443,-0.2577681307645193,0.12962048412755003,0.5254892326040485,-0.7037363918799042,0.6064169188474898,-0.577394613197653,-0.3065268017155336,-1.316981981707946,-0.7403318392394158,-0.9350753693146795,-1.1704331093721174,0.5433335650889815,-0.303009004742183,-1.4367024287692811,-0.9449025851818987,-1.4524223710844404,0.4227876942375318,-0.808968213043654,0.5298050113283103,-0.22355430609415172,0.5157635620515597,0.7474300955455246,0.6081694792261432,-1.956502689026599,-1.8082530887119106,-1.553351645251398,-0.6723517076552893,0.8910279087965369,-0.706968285272678,-0.14608364962014286,0.19251669254908213,-1.1401845985988972,-0.7542621763801308,-0.47006481284359813,0.563624248597565,1.850097486524959,-1.8286021074288807,0.2918395912696462,0.7514119455637641,0.02371053640938355,0.5348449198248831,-1.6865552622644402,-1.0018268152255863,-0.1997195859278033,-0.6218222782064365,0.5705200940086177,-1.5444114714436195,0.49614111842074027,0.5609226084315204,0.7133274147745936,-1.6903943320979324,0.2344161808499928,-0.8414244748333863,-0.09381166336532262,-0.5228327982170599,0.1493964099183348,-0.466414076209718,-2.236178973257428,0.698835364786331,-0.4149451824301243,-0.06439018153960473,-0.9894374675566683,0.4982773435729061,-1.6250304576072052,1.0370388711918654,-0.3066118082514247,1.0129464874085148,0.9066007963168424,-1.079601940814109,-0.8608699456392673,-0.9745440997268442,0.1687652036684652,0.4220769626771023,-0.5654802862288791,0.6840879834601468,1.2872452051203989,0.8437698709539719,0.49526906368221096,-0.5794557131512171,1.534874978656993,0.1259599121346865,-1.7757404633361322,-0.4138959044658328,-0.13626856894471892,-0.7269352946893177,0.9044904059502893,0.34997962615604294,-0.6058656030835531,-1.2053369712289888,-0.20201625592538994,-1.1490259173653927,1.3948195663795295,2.02960340226811,0.523751338259541,0.5654945257355587,-0.40613406826874504,1.3428616656281913,-0.054374155994906796,0.7431501892718955,-0.914556924529488,0.6770500263615504,1.655235885880252,0.26425106777430424,1.43664968990339,-1.0685966282790749,1.4888757220579343,-0.6976692843559605,0.383598595721904,0.5899499749453588,-0.9172906164726028,0.009013721202522402,0.41730618578091727,0.9060534384130662,-1.094092352070488,0.13478381957602822,-0.59418559892953,2.1620558232856517,-0.5209754606168973,0.9360872517504086,0.6604288699914331,-0.7917169514587826,2.672840258152374,0.5449519027565989,2.698410960988141,-0.4407349925624898,-0.24534132115491641,0.9021944017438603,1.5570119538544784,1.3146419100637057,0.5439367491425428,-2.2280577072750214,1.1781974581844266,-0.8384565525546029,2.07735209036106,0.1416021523135291,1.134293272772233,-0.035390826919003186,-1.0381882803775495,0.9606600306324522,1.6967733369846894,-0.5250033966605889,-0.38108387150960743,-0.7826068534484084,0.15419257992832103,0.13091785450295976,0.3234199480000669,0.9425657682515493,-0.01300927891590564,0.5922049837211271,-0.6790165573277347,-0.22526817933800622,0.2569219867547813,-0.002983406984425503,-1.3424787336074195,-1.2119655678154837,-0.18320844911067372,-0.1797363195407225,-0.6743068464115805,0.1230977319021158,-0.3889093797230683,1.5233761870081777,-1.4601337410361062,0.2754514335088486,0.5834896783595218,0.7593493661648388,0.4538152321248871,-0.11090238162376062,0.5874183698733543,2.6774447324038553,0.20474858158303924,-0.5445399486076962,1.1565069785707507,-0.41116739026528687,-1.3921964441544799,0.2572655237878564,-0.5370284499533972,0.5227367330935229,0.781033347380252,-1.0291620707639564,-0.7017079125095678,-0.3414049228097463,-0.7036664032493729,-1.5274305742941394,-0.3784088135546748,0.7066533738610695,0.05352553722008417,-0.1301514466318604,0.10962103944192243,1.4047835731472345,-1.0678104840238734,-2.0671579386167203,-1.0240039152590839,-0.9674954640183698,0.2185663236051352,1.0549179707169154,0.45370381552364497,-0.4314613323375029,-1.8316251279869702,0.38673208910918017,-0.4852410029006377,-0.43176223583129064,-0.8660724299396918,0.9245886243602122,-0.2676459029699891,1.0529508593936099,-1.1691051979334235,1.8568968276646929,1.7181814568256921,-0.4129859156635337,0.3629708436427635,-1.5732303596058277,-1.0468062908214717,0.9216810812779903,-1.1988111485752193,-0.2593181992355875,0.24805694908089715,-0.44033268125703867,0.016475639239772674,-0.2001416264272586,2.0402010014814174,0.4268258284949677,-0.3351361969640775,1.1498552387234482,1.8451306091266908,-0.07155924575960122,0.6310291187361974,2.3344120982468217,-0.6950739986074671,1.6922778365342077,-0.4494816128152497,-0.09369889784336466,0.7188312222977792,0.05899129646289269,-0.10317857719549557,-0.25169667138753116,-0.703123828487274,0.3526445996905552,0.4333841362682999,0.6014108474852289,-0.015634225252625148,-0.1779359552463051,0.1673610562636108,0.3982305913441133,0.73587940946113,0.7107775294036079,-0.5151873999960888,0.3845026396189439,-0.27108907131230175,-0.8710946793796173,-0.41415866482311137,0.7656522703586258,0.8997909899701082,1.4633056865630547,-0.1878794391673545,-1.2856978854962622,-1.5300291880043708,-0.9109638486260482,-3.1489453000540073,-0.8283945797700828,-0.5635145213859905,-1.270713222267132,0.24673020774937193,1.549958711050729,0.28363118785072305,-0.30667621591050365,-0.3760255950763588,-0.09365504585006369,1.5170884954639527,-0.8159115784069657,0.4404032174902868,-2.59697290904202,-0.42314217961111755,-0.10279969186436104,-0.7540444171128483,0.11975040095447649,0.6383853405442236,1.4736537552818594,-0.9318565426423013,0.6917162977446589,0.060516884317458025,-0.4691016987687023,-0.15423368331640305,-0.4486471798765865,1.3778775808385726,1.3319506987759322,-0.7779814597631098,0.37372055872341425,-0.08585435952787925,0.3951171995880623,-2.202430023643459,-0.8518641199014566,0.09358365964795509,-0.34712265371588563,0.45905967189679686,-0.4921178788172309,-2.2822868376837904,0.05360634777509821,-0.06219278119260479,-0.6212694223032209,-1.1216708671082158,-1.6204961053615192,-0.7571700559877513,1.0097787938492988,0.35550316034291257,-0.9837480270564939,-0.5737158742662711,1.1893926571206912,0.8064624946740562,0.2512488242917649,0.5486576025442604,0.7559020780783572,-3.8038530722876422,-0.26585351716360234,-0.6615975478318297,0.7901508529480243,-1.2052778341262227,0.4785445320226816,0.15737346707906089,1.29635253014791,0.45882522024472,0.00382222400408219,1.3337130364595415,0.4155512943337001,-0.17221164887752533,-1.1837767288289494,1.6436405970847188,0.9699318210214534,0.49753331846257054,0.05953371852791537,-0.9594032395917776,1.4931464210420158,0.7456940010284208,-0.2426200230844156,-0.5805816011376671,-1.010188035155426,-0.14434969311027773,0.392271510478632,-0.3547715179607188,0.23901763167213552,0.9179864831061235,0.07190713368185937,-0.3193537976547622,0.35852116020570085,1.3225489063439593,-1.6835251204050719,0.5433620140503456,0.564955100274118,1.049128937343388,0.6235151889115044,-0.39925960193579035,0.42385286614624834,-0.9275040345564423,0.02980406376689541,1.6042424543290401,0.6774186624033439,-0.28340342113120026,0.5233344755932535,-0.08569716111606829,-1.3467711988596285,1.3350902657521002,1.2336880172165778,-0.6100115379613306,-1.1684975304826246,0.014538169612223935,-0.2794066710935787,1.219197666407933,0.3295319854755907,0.01669176131243596,-1.4332673867544696,0.41373516559598067,0.8648275314398491,1.3858624763898362,-0.6822480761748039,0.20428536657319188,-1.131650129894576,1.7107827826446658,0.018243542864327306,0.1740370207806919,0.7102129330903725,0.4073446381007257,2.0077903524166834,0.5914238152231273,-0.23625444956124025,-0.30356900628530514,1.229428211370659,-0.8609865120257538,-0.025640794617121834,-2.0662582847883426,0.4648984325742511,0.006415995413150067,-0.8420239754674587,0.25114001835747835,-1.4047048182494861,-0.8239242057006282,0.704488438789151,1.4146539086423011,-1.400069316530072,0.08067276567337557,0.7133695870962607,-1.2281896613693675,-0.1410113401518933,-1.0888737597075673,0.21391431727032237,1.1828961490562184,0.9895616819315759,0.8448907528546352,0.2355828731684929,-0.34828837028242066,-1.7782084225655785,0.11981020919150524,0.39883342440086533,-0.5828777558802634,-0.7488095755010618,0.05033087910253578,1.0561401595707907,1.1239912290276504,1.1187631106496745,1.0373627738249043,0.5940740399195671,2.0582171627453203,0.29528872294097164,-0.46559544848699397,0.21826279196356435,0.9962202849507289,0.9856589017503153,-0.1946646428552597,-1.0447307247263338,0.40990968161144736,2.0668539540697646,-1.002790957187716,0.2514313902971875,0.2977337100219323,-0.9370415856877092,-0.5496655473285317,-0.8046703305099043,-1.6693006436222035,-0.5494623494266134,-0.7833353170579128,0.343188861038781,0.24000426458532434,-2.0319672761167125,0.052534464801636205,-1.120525487066911,-2.692187286470393,0.04380991923956489,-2.0531336235305346,0.5939766498977936,0.7296818872599656,0.5641700941772473,0.5058022018913686,-0.7788862053196277,0.7528567207222924,0.2949717695740716,-1.1782475343373233,-1.895032575909564,0.8082738876022452,0.5349513704841966,2.6550043884304872,-2.491647811571235,0.5491149787602312,-0.7854684034632746,0.6460613570541955,-1.0263527059007629,1.074258461376744,-0.42912016288389526,1.0614250321455714,0.7642534647703138,-0.7996746395208925,0.4999322364493577,-0.739670395602853,-0.4826187834459941,-0.3339349058834412,1.63855868990606,-0.589423170941664,-0.7923461054364994,0.6183462874808227,1.0301485925431388,1.873512176787212,-1.0164846345606584,0.9022445990534217,-0.17645757663063064,1.40187477135441,-1.0154298845390552,-1.182707541659269,-0.8854107372852004,0.92672618801363,-0.6216095521823185,-1.1191396722906288,-1.3973278737408372,-0.2565767360308852,0.2053670415286643,-0.15073974794680361,-0.09824121458498927,1.094495991417979,-0.5999040075224197,0.40010667045162734,-0.008793741179720654,-1.7494201226285575,-0.5636402976727259,-0.027445923633994028,1.0614641504692515,0.41565056104402254,-0.918506119382476,0.8984978128439921,-1.0155220111183794,0.4736458038014906,-1.4055224502397239,-1.1628790806757596,-2.0345850359196893,0.009758043834516653,1.1211243951084882,-1.6858447761938042,0.059650798144701776,-0.8040410631197913,-0.49653268249499694,-1.8928285129098,-0.036154956128839,2.1614257722140398,0.21660358594736595,-0.05797019769259008,-0.9348725350260508,0.6911797994773337,0.5136288113636988,-0.6020512710872508,1.2393712443150802,1.6086379422121995,-0.9300408937124293,-0.974001553808932,0.0481865395822066,-0.3718424654994773,-1.0191111986058679,0.6725756925497953,0.6627843734542046,-1.205571396651913,-0.24380857337645354,-0.37613933352268963,0.39404260734032787,-0.30443788438000613,0.38030801421846366,0.7438236059449352,-0.7945348529795642,-0.620876988907041,-0.3899951891658238,-0.5176860441967803,-0.39238026538716386,0.574321990903124,-0.7979525005124389,0.273473983637973,-1.3549924582953219,0.22710412335349295,0.7560426386513238,0.04713450609654158,-0.5600183406671965,0.45206174688337514,-0.288907902148254,-0.8929947312784673,0.7306003022897773,-0.7639811791906276,-1.5434660819264037,-0.6537935940169882,-0.1836000766901074,0.5728670821123076,-1.797442472113122,-1.467985737284605,0.7982767223332737,0.13320899675550105,1.4449150049849404,0.26847229348417917,-0.3015378375714705,-1.0282560260464515,0.6523109825843225,0.7380896578044767,-0.8193862788073284,0.6325408489771761,-0.7388152282921511,-1.6399441001682327,-0.3000073640420013,2.1322507138784,0.15812053520095495,0.09356041932818726,1.5701058986870995,0.7115958322118957,-0.5491206752108667,0.3279731329421112,-0.6249398648948692,0.42433191427176875,-1.1772047358921267,1.571646293677337,2.0433793657852304,-0.2064191898742651,-0.4356702316224866,-0.6002503452478473,-0.6879441902479642,-0.4640312880280612,-0.1205664679915208,0.2753451278485606,-0.31058362310601795,-0.7521741084838854,-0.21621531111583875,-0.6803134015028344,-1.4070833877678097,-1.5426074437505404,-1.5265606160283998,1.1973244968442507,-0.7470723538137325,-0.7375511082527808,-0.33472278626075425,0.9930116285591046,-1.0455735138502469,-0.7055726576075166,-0.41057119223625865,-0.38031421136229726,1.4528552586494998,-0.6528577518230978,0.30399027506396575,-0.7179730384894276,-0.20828212573025878,0.09378485512786326,-1.2461974108008156,2.439286695112208,-0.5686255846758106,-0.3298148896858086,0.26214826762765914,-1.0152775685680644,-0.5981424137234922,0.982103780850055,-0.6980824909897981,-0.039468330717741404,0.3063478408513466,0.3566990368678875,1.459530497286404,-0.07094070480043319,-0.3142736025124585,-0.0863582640103583],\"y\":[0.1958650220376449,-2.3432619056402113,0.5596962894039177,-0.9784810421186954,0.4064144688948009,-0.4934108819088803,-0.842367934138484,0.24571516951123312,1.5676325528903083,0.40636842563171444,-3.1897027892252625,1.3327782081335766,-0.13003071130989,1.556186439264636,-2.066948722655315,-1.1045794834534277,2.0598380015281683,-1.6129902180842572,-1.5511007353068422,-1.1365265400974658,0.32097078441973265,1.5447283608763946,0.5932172125782157,1.3577890150479748,1.3517961871393613,-2.7043652475259967,0.0015085602585323294,1.4811436466626788,1.5033981564928736,-0.8561642180677683,0.11404760330098948,0.15583822209143852,-0.9948019075832217,0.3594289939554043,-1.4857196083622273,-0.2283210306835901,-0.5131451059514202,-0.48245091128279366,0.45974422690161787,0.4874029609137859,0.9894865586579343,0.7502979284867325,1.4474070464881408,1.14892501369591,-1.9014640517184773,-0.3335437866327996,-1.4166667484045508,-1.8152558081043626,0.5542749330320416,0.8579993511102255,1.125758855836237,-0.39288195768217343,-1.5762548779641914,0.7887968149252417,-1.8520382433428222,0.9345908551179352,1.443083008740605,-1.334920766826471,0.8311057781317684,0.4967702450892603,-0.47020934305691686,-0.1536618307247823,-0.11165729875416829,-1.031632521323364,2.00990161224299,-1.0894294683309023,-0.5597613073905006,0.25155289067650305,1.8222054351276777,0.10906277935431352,0.4491181494744204,-0.9232073579131264,0.5944154325470795,-1.0865037733845933,0.747165091729134,-0.07722775367035856,0.34143470998675635,-0.29523047478727005,-0.7151904957409182,0.8403886468450849,-0.18015930523162355,1.2299429378606759,0.07507401007744499,-2.5153542762884533,-0.17580645673226966,-1.545159349411475,0.2688322271564248,0.43638840024571685,1.4204984520414792,-0.39157541669177737,0.4140250968447056,-1.3632199842629613,0.9046602101137592,-0.7063103537686168,-0.09347128651554495,-0.31126891022505165,-0.012550938984415044,-0.8894777340366425,-0.8519646026261832,-0.27032690176153606,1.313967830857757,0.6350130762254161,1.1619659136208502,1.7122827669227452,-0.2758148731607233,-0.41727181491994675,-0.14510730175217484,0.47227797067332505,1.4141394799499578,1.1811708688102756,-1.4601061755714524,-0.4952157620012345,-1.6468437457664888,-0.007959929156210802,0.35350763375391486,0.5911327453164446,-0.3604729716559968,0.8907173875904303,-0.0925597906394988,0.59382267559677,-1.0709224027307107,-1.0773631364596319,0.3464613307889435,0.21916957008996207,1.4348447621997378,1.1152929302168257,-0.19441882727705964,-1.1481746800640757,-0.6727466028002431,-1.148872688310003,-0.951562610772135,0.9859800963973488,-1.6013808577698323,1.189367897170757,0.9283619883589289,2.1217128609126763,0.39553830718990923,-1.0394173465086036,1.0037085890775872,-1.0405931019994223,0.3940625248695538,-0.24762589178271124,0.02290180158234664,0.32352159299122635,-0.3336646869211666,0.7597753778218825,1.446521594541811,-0.12847425324180264,-0.12220247969770033,-0.14926589409714264,1.9719218921689727,0.12975500218917993,0.41602742720602087,1.4749863585091865,-1.0470882952809415,1.0040804776514891,0.7352021778089574,1.2067875420368142,0.5794449328057345,0.4395854072274665,0.03692613357091319,-0.3084641147785133,1.4013915932555556,0.9234054590076161,-0.34664707560648444,-0.9240385759108211,-0.22696359396577828,0.08949334734261842,0.17083179733905413,-1.6097973411231303,-0.3914653786142557,1.087483901836548,0.5270561988451719,-0.10788922342797214,-0.7763938291482462,1.9149116430357331,0.35631269474330796,-1.0594562203703703,-1.0195043338632288,-0.9018159633657002,-0.35952668114815434,-1.6094296123284917,1.5375527217507483,-1.3736363597950005,1.3335425330753503,-0.8448337348620389,0.649228173125619,0.8798225360378422,-0.9446115413102955,0.9217363638755027,-1.3424564039596512,-0.31125584116024374,1.1264461060836972,1.0004732025595127,2.192341133000062,0.5556113996055615,-0.0006442826601729482,-0.9339718350066835,1.647485071908067,-1.2312132780358729,-0.25537296163245204,-0.41226900652571397,1.9447475005653951,1.1693731009735466,1.338459854250772,-0.5242009297292396,-0.13496670868541463,-1.2937183017069276,0.5456555946586372,0.4454269363068002,-0.8551033907323947,0.1258165981474253,-0.5344903196609171,1.8447845526781832,-0.46354583119901066,0.46665114537905106,0.7887072321921669,0.009020258951327556,0.21159254186563414,1.1990647562475154,-0.6887305737977152,0.29295634152258276,-0.013516438314268794,-0.8755813989067697,-0.4941041999561105,1.9206306510251638,-1.0154179701677464,1.25754407220329,-0.8978374516159481,0.23763559521556324,-0.9521588903644851,-0.28260292140517074,-1.1540674101013038,-0.10664351050827497,0.13994974703299737,1.297108346776032,1.4432480150702538,-0.4457369147013638,-1.4259915477247695,-0.590314674939793,0.9526704619464872,-0.7305688553737385,0.43759905214616646,-1.029683489838573,1.6340995202050332,1.1108251680379584,1.2887424831521364,-0.10125548946604226,1.007295527671601,-0.06091489314794168,0.7399560714608988,-1.5447106167298144,1.4916799226542075,1.1255301554819959,0.3804159839718837,-0.3909246876321675,-0.047391916816901976,1.0839523776644926,-0.9597745102827581,0.7614199572968887,0.7819914586497986,-0.201181169327462,-0.15754229826625715,-0.9843810991552088,-0.9034870413510576,-0.9227792823289825,0.10315450171117999,1.3621106122340612,1.0262868542875294,-0.8545232309191942,-1.0924455086673268,-2.286398167657233,0.3827102026593706,0.6112962059558436,1.881420879966189,-0.4573727764831537,-0.5593495710975953,-1.9786964683399855,0.15363120683280598,0.9657041805884066,0.024785479672217493,1.5592827806332639,-0.5383822658144574,0.9541341653374956,0.3051557986923959,0.8322165369671238,-0.7329782789169657,-0.26025985033982585,-0.8209742936536496,1.109713406811062,-0.1949102040102756,-0.3019886922345698,0.4070040619404339,-1.6574539291046313,-1.0528659059590828,0.49139048095793286,0.43972648022329264,1.4328130401888604,-0.731968430236827,0.7120251789813915,0.45871407694701327,0.20585437903700002,-1.1756998944141859,-0.024339442224466427,1.6356914987736704,0.1766758962916238,-0.7483321216359717,0.7597768890690438,-0.330697759927302,-1.3791231563208974,-0.4622505566361702,-1.3267881597955993,-0.7629311908032939,-1.5929111185524762,0.6846649466669441,2.302177193827913,-0.0362937780788009,0.5267561180871134,0.46993586075705757,1.5745205776016526,-0.36899844481962857,0.8875929864527539,1.267288574385149,0.11810662916255035,-1.4441408082322296,0.852230685998586,-1.6553705785167918,-0.420795635790614,-0.5444398508104547,1.0751085291207068,0.2615806870934877,1.3767391035018588,-1.6277909608178545,0.6408577531243761,-0.19553520537877855,-0.48156585531891366,-0.16042638402923684,-0.46418005235288723,0.11977295273433437,-1.7535181625478058,-0.7994392402021717,-0.04014045712986196,1.1384925413856146,-0.6127739996661806,0.17145788662664396,0.6528292069606302,-0.3785331968679066,-0.15348520127165022,0.46313639100966464,0.2312489408636511,0.9243033861834187,0.7014177089707351,-0.7001172468317638,-0.9382013598727752,-0.5106382134664932,0.7722802396205715,-0.6500365924448187,0.43175995900049663,0.6855094000065509,1.0225406270154396,-0.002208713478819913,1.4785892821080293,2.0695297925189937,1.11251656347303,0.560557012542859,-1.176515101934332,0.1553321925211992,-0.5292553471865282,1.0647281163457043,0.9005026840318275,-0.01792098901569381,-0.5458383078571367,-0.5465662634778347,0.43061488924755614,0.09456765387105226,0.2207573682215156,-0.23853912774499406,-0.2440984555168677,-0.36867252472538753,2.8878198632752996,-0.6952728080419496,1.0853357548692755,0.5175420202199041,1.031434457113636,1.4760668483892003,-0.9004790971659937,-1.6256220067624754,-1.0210833955068233,1.7437828001463707,-0.6080016596790213,-0.8806878223357334,-0.8658526828953959,-0.23057576815461966,0.5788000901502823,-1.428377807387328,0.922384604808989,0.18703048965603197,0.11084929061991772,-0.38496232315794576,0.047452867076501946,-0.2036043817811077,1.021170133693846,0.5431253795722862,0.43383886706363917,-1.264668702027948,-1.0634979399400715,-0.6707054514472633,-0.043274765716689714,-0.7626432969947573,1.1958064011929233,0.2318130003070748,1.6571907468966283,0.479704016383983,-0.9442126788744317,-0.8049656425901573,0.7752662496381627,0.5572013376475113,-0.8957479245521986,0.3833691135692838,-0.4094298564540957,-1.3861131468599623,-1.4289416377781559,-0.1607690640023948,-0.40939557170856694,2.2413102005811387,1.5295602617307302,0.006824782163432411,-0.039822239708779544,1.5077547188706473,-0.430974814264929,0.13907212041841677,-0.061275308283254365,0.7431772982827767,0.25286880193059313,1.4975104226785834,-0.08284401306092869,-0.021143286909308445,1.6204693011816138,2.6157067815899495,-1.6544820241370644,0.7877580716583129,-0.647441368556113,-0.1361780578404978,0.7527326491966859,-0.014956233246044968,-0.23840822982407228,-0.6841888317006621,-1.4775715544996628,0.7429568390537766,0.4842329022726548,-0.2484038102002347,0.7759633263050225,0.3010904590019906,-0.14236938577829364,-0.5181986541793373,0.3746783488786501,0.037259014785182516,-1.700507779351282,1.632423823833253,-0.62415579882112,-0.1883604431847369,-1.1243558157050197,-1.1342727310667653,-1.1690454364935627,0.9104989449725361,1.063757375395489,-1.313409516519555,0.08348779135582705,-0.2099255215546659,0.7942812165768327,-0.511981938013239,0.6012757652491943,1.3759540346937862,-0.7258365099939034,-0.4135254729521523,-0.4742426019684067,-1.5149132322024053,-1.173123756336885,0.39853826103407824,-0.2878058308398227,-2.274307671466167,0.49681493085110334,-0.9634024149439181,1.485731193382147,-0.8684349492540614,0.20429681624972826,1.1868089502946861,-0.9944467475688058,-0.1095919270979062,-2.294638726206415,0.18385711342444638,1.4228870296896607,0.020851105673074855,1.119447629064242,0.4034688045583402,-0.8402400248776841,-0.893625446837922,-0.7716578098996993,-0.014125870054098738,0.4566344726827797,-0.5499474402632397,0.7915424745955475,-0.19502139279623026,0.44388096113429387,-0.430363453132603,0.5750677429830575,-1.731877986185952,-0.571725467249187,0.4386878617862437,-0.33454544893633353,0.32752303788400644,0.40308765199171576,-0.21689698683229477,-0.20463234843431202,-1.4927634698784868,0.4714419484291411,0.46831490175669854,-1.7524224409057496,-0.7215001359409494,2.723769216283926,-0.8887661568691401,-0.19023789937284458,-0.021609424694862104,-1.4495716735510311,0.995141374929161,0.43228996384725543,-0.7126815363242786,-1.0027172966473514,-0.1703124132045451,-1.527437490974266,0.18157707684284963,0.026895436876389393,0.9817396512195041,0.5609002778295635,1.5727889983250172,-1.6468786137684144,-0.7886846838652335,1.3531443438462145,1.120624363009133,-0.2812499613489592,0.19679967511024934,-1.9234451407544793,-2.1750493192804705,1.1615963125623552,1.1409126594718968,-0.05446195028888975,-1.5053979137628641,1.3850280381934807,0.10962986749389049,-1.8263292091252743,-0.6555693899079243,-0.4879480272217801,0.12643226045054531,-0.24369086430943682,-0.02629884874701653,0.5526397530533581,1.3758845900222691,-1.6292244483978024,0.11364583110585298,-0.4830111662502289,-2.6918076704799896,0.1407058264513319,1.5372177202818733,-0.6966609852046719,-0.3106118650498091,1.959243704009691,-2.0895761588772404,1.0378484567796975,-0.11422133877648459,0.20513174092516548,0.05033595387979827,-0.028602117251140986,1.3571593193282934,-0.2580998613070168,0.1600218071288574,1.4202012485672721,-0.24135783828087104,2.4004656468430654,-1.7461633029047052,1.4169897707202668,-0.8044825460780427,1.91115019395029,0.7815680923348226,0.4103185764635153,-0.6753578662429406,-1.5739482978317814,0.4946547336774858,2.2396139348162496,0.9711305957442736,0.22256307328139674,-1.0745407334382304,-0.5963640382973715,-1.2750332010150005,1.9368262638647293,0.49541103785953317,0.9356902542075124,-1.4282403050908037,-0.8341550093084907,1.2139614743581648,-0.5912151538153118,-1.972836766319258,0.2647069423008967,0.2556739687477197,1.9867701887213947,-0.11127827973127324,-1.301273925092535,-2.8124229147950897,-0.9126313800969247,0.4267062448976751,-0.12089319293664617,0.8775105472552704,1.3670374009297221,1.1389259198954662,0.6649939071730533,0.300952897229172,0.9992187360043753,-0.8026672408915766,-0.7153047216024834,-0.6900344657591657,-0.9474480889287298,1.0286319384231064,-0.4943801662949681,-0.8322142185250315,0.9947471596668022,0.22462575642967533,1.2538436904362071,0.06155833902679731,-0.3863304502578892,0.01954671887430444,0.8935963763701769,1.3007272241034045,-0.7476340513183407,-0.4863243105575839,0.37471073967236185,0.16334235486480805,1.0585375928707705,0.3748107749820204,-0.10698349331894354,-0.1279845433085139,2.3839235603677382,-0.5847903127205548,-0.4512306074245161,-0.5459904286142302,0.8345321657999019,-0.9648635656167943,1.1251024704094248,1.9434480773228708,-0.015252005932546308,0.7191993976651915,-0.8597909769265886,0.21925466333819868,-1.5531364659439566,1.200703641453072,0.6910171881232503,-0.9463162591069703,0.5954306144013146,-1.258941228515656,-0.41847907434243087,0.7105028074689019,0.7030870070699543,-1.1887032640682682,0.5083462971357334,2.4209727527176614,0.797678525536809,-0.6590117297798281,-0.6421754053642993,-1.190828612006171,-0.7029585666926748,-0.7663749017247294,0.010434898070893836,0.3771108156963871,0.22346617943858604,-1.0893544326291535,1.3295814212138457,2.511629804251621,-1.0047032378366163,-1.9208784025585495,0.24754385614987517,-1.4258160938013034,-0.8369386193205571,-0.31977943971118394,-1.4640938633393086,1.2044910414404122,-0.7817936120328907,0.4234794305154707,-0.5742500451163755,0.5581489043012671,-1.7444357245033104,-0.614132402809188,-0.9364639679912895,0.8525866573831876,0.7315457246194301,-0.9358294771088311,1.213261858114414,-0.7889196084261106,0.975765935312538,-0.6291632214398348,-1.6581260826367845,0.6840636939643043,0.19681945022524616,-0.25095253170499765,-0.10973436596932898,1.1480329173575994,0.6788581916680504,-0.8684513296502415,-0.41489563053262213,0.83989313186631,-1.267503494071625,0.6878472497797434,0.451151077165399,-0.43051097501624835,1.9303654515330329,-1.1322050138140434,0.6056019365943367,-2.198107483434125,-0.009625617544337009,0.4909842025395828,-0.20330343170847948,-1.5120189229869958,0.8088372887164833,-0.429498110547768,0.3575647119332526,-0.8338894590313377,-1.6980708807764664,-0.5852490022994435,0.7110180222643898,0.7208058347932988,-0.17294549131853473,-1.8980796391152526,-2.463697955265223,-0.6952240619545691,-0.07824890031668283,0.8245651419747025,-0.5088320152475307,0.917415303052555,-0.5170112946246963,-2.0673974174850414,-0.5043238541466815,-1.5377944849265748,-0.28401114815325884,-0.3833862606944885,-1.2196390326094788,-0.602826784037739,-2.023536502621152,1.1286362792566242,-0.16984841340743131,-0.9473766112021414,-1.1579893231186023,-1.5883959415472386,-0.706418786359963,-0.7278861013439,0.8203522723056507,-0.6758674942134255,0.1846115441787048,-0.9847176925708658,-2.787322957226313,1.1085914758057154,1.2059013842983581,0.13291702558632165,2.4221353921869433,0.9644294936508848,0.45579788760746126,-1.4050826820569844,0.5813688890387947,1.251364973690254,0.4419964615729666,0.7057270023203083,0.47062118821843785,0.372566170108487,0.7603080913385748,0.559141947282498,0.4005402523427675,1.5404967385200996,1.257460329895542,-1.0449536418006566,1.7894885740799644,-0.5236253815286762,0.6580995056379189,1.7509816386684078,1.4671992826197182,-0.02717170972588047,-0.9465286226442557,0.5050041974647694,-0.5431954369355392,0.38682500355382643,0.3150897821171994,-1.2484498958842523,0.26861387753872334,0.47492507209294094,0.9926839155844217,-0.23759416540819217,-0.4214625084896353,-1.096571895655727,-0.6108254072336768,2.228030310359657,0.34387877799896716,0.47709259102872953,0.9094083323716209,1.3161186738621569,-0.05725798285204079,-0.9011069435227133,-0.5991547129300554,-0.9899434179941067,1.1842442758270686,0.8796564901822295,0.33460852376114514,-2.9778543958920607,1.3091797896767081,0.7805224001111865,-2.2065111645099007,0.9145148782419308,-0.4005370298604244,-0.9967880923227507,0.22610143913263042,0.6586517006442072,1.727967391280685,-0.6109220608985712,0.7383480290326576,0.701904678656685,-0.5505265899767914,1.1586001187579023,-0.4502599578650999,2.6632984702724527,-1.9431058668303123,0.6634169034571734,-0.8234161121180599,0.2799637467374666,0.4008309014460847,0.9707059910541697,-0.24123649481007303,-1.418066393798166,0.47043851427016975,-0.23679979056404762,0.4015592221517937,0.7391175156368509,-0.40782478510519066,-1.566699430398572,-0.3589157558472027,0.007892835888764405,1.012389367047989,1.0106943708212648,1.4585886647721777,0.7126468311286034,-0.3508995343118419,0.2729520880723563,0.0017677370849281198,-1.1186776415412225,1.000789058170109,-1.7848655798208029,0.18990289586441964,1.101711292015106,-0.06702037018811928,-0.45583897530152495,-0.2928551820643626,-0.6188948520279619,1.3275975063253023,0.9619678102776192,-0.9444589261945652,2.7916249232825225,-0.4187655048878186,0.23046370096207502,0.9880335995430555,0.24966249937734777,0.2426698917256789,0.029307230469287397,-0.8388999034449223,-0.5639714291982834,0.7431962612627363,0.5812006399266803,-0.3728014420597348,-0.7203788564881871,-0.18994710048463165,0.36868553106212165,-0.8592863725442177,-0.5821467011972903,-0.6887034819917558,-0.8414092741320521,1.3824530998046545,1.0512103916204925,2.5170435808167455,-0.7204087313879081,-0.14534862889461708,1.0208447538105867,-1.4411125883693046,-0.0034272984850992846,-0.49897600051292623,0.8207121568675522,-1.5580312130439637,0.19815826165532385,0.7683232437360219,0.7682730550220979,0.12273028243350546,0.4129138452501053,-2.165806229193636,1.27591422038923,2.8914238054784995,-0.37377736545331314,-0.9731777644159025,-0.45654304759977593,-1.165744776524428,0.7490593167248104,-0.11110316512113626,0.8160983574214622,3.352834657097896,1.1282970046122753,0.9649611783222444,1.7311711202591722,0.6451890859363361,0.47075843707244186,-0.6252046740850348,-0.25211624141687666,0.961204279359444,1.924715532554041,-0.6442040652313301,1.210640015579185,1.3794646281238474,0.24750279887546625,-0.9558596248058027,-1.2063722774772097,-0.6952459500688706,0.5368076333915633,-0.8777402923539742,1.1630619252137784,0.3840452497107766,-1.3689154526360268,-0.8033832713052464,1.2450080017783833,0.2002924683734486,-0.70288216646437,-0.8467388913731219,0.12283952432635231,0.8788673774911957,0.9882669685367932,-0.7559344297452764,-0.056563330639584276,0.8256941723115964,-0.4168503044103779,-0.23639433899158663,-0.29971183345025015,-0.2965424080938672,0.5851572428387286,-0.032415176353395546,1.2128144743713372,-0.4753575911054107,0.27598185974726447,0.535778608666398,2.3347109772051575,-0.15343819413272572,-1.3522113847962538,1.4585902971942613,-0.2979238313712806,1.7570595350387996,-0.7382606931409279,-1.0930119162656375,0.06411605766120536,-0.9158931230708146,1.2075446927981677,3.3732323086999494,-0.28685751137601484,-1.1225327360239403,-2.12685555942171,0.2750250839891426,-1.6653423570279042,0.5478521367566171,1.1946074511631648,0.16443253518308448,-0.9146263340190642,-1.530287242283622,-0.04736867041192412,1.0152396814809197,-0.05378998327801017,1.2711912582644194,1.413413582324276,-0.5434960866348396,0.4306772717771232,-0.36622823612357264,-0.28939955355861596,-1.4644599182412357,-1.020916047987412,-0.5094547557749723,0.8827226942940751,0.02348819808725273,-0.8340955629507839,-0.2764813938659848,1.7160212387637288,-1.9667426454250712,-1.3144408016163696,-1.5146392037287337,1.4099902851650705,0.6238908184984655,-0.265393067046961,0.3156484450663902,-0.6307946911280317,0.7655591284073417,0.16967831287856022,-1.623048099133119,0.3983651718500124,-1.6319095061224895,-0.20870062455974603,-1.0543124295438302],\"z\":[5.314074160891713,12.877200419374676,0.10907667702621388,9.406982444965996,3.827395339210254,6.547165913789132,5.471969040575322,0.8130004730616496,-1.2044003704841544,4.917316049759386,14.714750366912519,1.9026268590644186,4.158210865858023,-1.322080155538449,11.466123748653207,6.170215233878435,-0.9543693846276676,7.824351096839786,10.524514801490518,8.729963657900509,2.4508042049102423,-2.2545420079369762,3.4733911476911987,0.4551180149346056,2.0176006986149235,14.382903953784052,3.0929737369964934,0.8572994038187041,-1.3720527556785853,4.138744870392608,2.1628456068834856,4.728111537097839,10.203000483737684,7.154113573793045,10.630877807447346,5.163779524209056,4.2301441786099225,3.9230096733809217,2.1462679535880884,3.838936652826592,0.9111022488652748,1.9540790315091316,-1.5407609002439122,-0.5229590213918259,8.778844279296115,7.521505629552162,6.120222542411779,7.115258228831934,0.20821043856430907,-0.6097618416928009,-0.6867480785382695,5.972963811825411,9.123716865173257,1.8308446666556195,6.575635794953013,3.2137427811515966,-2.11381643442814,10.250095693537075,2.7294320794641376,1.8006501802639618,6.3863817015085536,7.94949088276822,1.0128596994743984,10.786536668081983,-2.8459972572655983,7.927046950325845,3.0804215076684165,5.032257654279283,-0.3336649615361252,4.517144474095125,3.3761937360978775,5.113709216223596,2.226983760996771,11.548748885134478,3.7727906769097244,5.677693435643718,-0.8030603070184972,8.924615700170646,7.600888559639736,3.804082403320709,6.2507745893392785,0.32940439943581523,4.492910062347285,12.919778385232078,8.504369415635422,11.260123110838784,6.163142178588519,3.553450238092818,-1.4980895332540465,9.453981672590759,3.0322903610543603,11.562422132868996,1.158394251187778,4.977414021855558,6.620717961361777,2.399973707855371,5.846703495948482,6.695475896075577,3.8683692839298076,5.032893193523713,-3.292226778732471,1.981753807605876,1.2420116170991566,-2.223063978747805,7.4819447638337895,0.5931407784266338,5.785517060578552,0.5546265931878115,-2.026363254625537,-0.7871405066297706,9.068253832930495,4.875286135518787,11.31806211271329,5.933848826140028,1.2141934593477108,1.1181640978087772,5.19426867451844,-0.959887690238452,4.990740548802706,1.1641636311945125,6.295711326600303,6.612340354736722,5.579842735166395,3.205682436707007,-0.3940034760728368,2.5392946910699936,8.466485164865361,6.438046572641803,4.820320687095434,9.43201605258263,6.906476917438426,-2.295421391743778,11.492047007016383,-0.44042826597517487,0.38873513982110475,-4.4641624720961035,1.4796108298518966,6.97467313585189,1.7691161651395688,7.208666527117983,2.5378001950761178,4.586983946524381,3.3574729215252463,1.6689960349327009,3.430060992208792,-0.7070364568492812,1.096286368358725,3.885654079761855,3.667503346783316,5.1207824943460825,-0.46321744828764755,6.037772253545936,6.85205377788528,0.04879356165229139,10.677292752459435,-2.3086428280968883,-0.09451074513095906,3.1474674513922483,4.429497855112656,3.4440375461908483,6.259890152405211,7.486916312305826,1.044319536296017,0.3733565138399699,5.163525929690713,5.8629989943451655,3.655258948264325,2.3858365875059984,2.2928127275231645,12.51025942229564,8.033855327813894,0.6786446812873244,4.713217673817326,0.6632819962895411,7.978142467740099,-1.780930212653807,2.594854590056398,5.71628212171554,10.3173099976487,7.956081194735375,4.159509981133565,10.935750825274628,1.7401746114705923,6.907519950270429,-4.460143904735992,7.4660890831192885,4.594891391241785,3.0819807167807536,7.649420848882322,-0.8910415792850476,7.006363130495625,2.570188338957194,0.3326729265042049,-2.04236845932357,-3.623402237851978,2.627714575822334,4.2409065825167955,7.244286272147826,-0.453533269847886,7.559589912721399,4.589610563411854,6.19745332627416,-3.3677080399848864,1.5205287759809178,-0.05897864074776715,4.322035980213134,1.227665118449834,11.071968214422148,-0.6740924425052682,-1.1498999369060734,5.582048398377231,3.568440362957866,5.626734346433845,-3.5979843946520984,3.4223409762428703,2.6554313351912064,2.225724361441921,2.84593088000346,0.2344134861335313,-1.175016422520542,7.421866433067545,4.273031207079476,4.109682613912071,4.242472955152668,6.603914859996826,-2.5586692391092747,8.385645803026058,0.32745453305127914,5.894141560783499,4.06990998567778,5.372897645415246,3.551596076741398,8.182645990155306,4.732016729734959,3.207211218283252,-3.284151094083966,0.7868525988394074,5.823818004534384,10.325483348409653,5.772139614180746,4.768651687243493,5.8373394640472585,0.5259612521816804,6.183177801912043,-3.0684946519745684,0.6646739415481808,-0.8444509996240941,4.53317346985142,-2.751914414007937,6.7388523045071835,3.9908520863492436,5.946539069548715,-3.026596038081292,-0.4315007747695421,3.4891985514864,4.8212986272718785,4.589140255705723,-1.8160286191671193,8.14185604662211,2.1375745267092214,2.0783699763707184,5.3865337502881285,3.56216366377364,8.726095900001605,8.28651916909424,8.358428468550557,4.221078962882492,-2.5470450736804073,0.1568620844775016,9.669901226625093,8.358995124882288,9.326791302915451,1.2165348792340225,-2.094133566595872,-1.5294199508400868,3.9100075435003916,3.4706000661759773,14.67069879383769,3.0922875415828015,0.31387921085987835,5.426841676576309,0.05534431228264222,7.6980413807065595,0.14812791739270104,4.797378601267951,-1.0927091051549669,7.46028221663488,6.105962412203708,8.401083531348561,0.07576500400395614,5.029453173720007,4.4914827403599205,7.118125455704417,11.765039358841147,8.059661509862561,5.020129893102956,1.808137532509544,-0.3055600357270541,6.532664188144056,0.6182414035371704,7.32499834043445,-2.032084704873236,10.543829314972275,4.018772012124113,-0.7782642941206117,3.8348989894398238,6.18881347315976,0.0006325974339329958,7.373493549750169,5.681337867715098,7.596146835084083,8.048468991032479,5.976630053932849,10.327642977597792,3.1145023647431835,-3.1974456307401504,4.628585618646233,2.7902918010923115,-1.1291136149835155,-1.9278728903610747,6.254452224195066,-1.6284360620340126,-2.5887586092671624,3.7039053761476346,7.067832292245333,-1.7997163471192428,8.89660597420346,7.856050289976988,10.320753572213972,3.0706505631709886,4.563219219117191,-1.494876684561215,10.069210746815326,3.0256762866965077,7.915707384652995,5.152467985825086,4.65866967117866,3.467777049043672,2.72215424541437,10.840829033322818,6.677276516487721,3.178042861372748,0.5483924638495575,4.5043730865978215,7.328193457278417,-2.0044667085112886,5.068747633232173,2.395350927464178,1.7506384004606306,5.376650041253683,2.3549363283691083,2.5786004665791955,6.402238472655827,2.7619052721283963,6.280401079018076,1.1627804665609875,6.225370985166172,0.2314367905050729,-2.254883840270212,-1.004885554421587,6.981547803834212,-6.1444378231356005,-6.22066790541674,3.110499473645627,0.561420920693366,6.420885671378256,3.1455624446425623,6.264272770779479,1.6472856152866306,-0.2768040530203582,5.4923277034375255,4.8978058100196336,5.450819016993671,0.11393067684020698,2.395900902592217,1.6032429982182717,2.6669071007005622,6.1403975235127115,4.840984506905801,-8.5016513964418,4.69591865624161,-2.3888322345404363,3.2974654447467673,-0.9173989575284697,0.2489099713890686,6.8034356446084985,10.761393234257488,9.152831449742283,-0.5252415765614362,2.3772585086050393,3.5784841675918395,4.030969610904799,3.637655865757071,4.014514484042788,7.666153767700681,0.7760855870960442,3.955420291927155,1.5371909595095683,4.011765437713682,3.100926183251156,6.022611968070554,4.441507670876673,-1.3074852106795611,3.3260097243995723,10.002100304463196,7.873041035316642,7.541323632457538,0.9745100164818796,4.786835600795386,-0.2617045959898619,2.1705209202112647,-0.29539014609969333,-0.5216767235153732,8.400196268280329,8.050692778925079,3.0013837576239437,-1.0803876341275205,7.717336448342609,1.221601298063641,5.405504585547041,7.865376454948157,9.35890125165392,3.804420590745457,1.0951717292608607,-2.0120727954468722,-1.8332839217737742,4.065017054062101,2.3516789311292223,0.07770497040578654,2.4274790012885075,5.80492657835417,3.8033956075035364,3.6949155446987816,5.1533614241283585,-3.0484595671720944,2.749516896828248,2.3257520106086815,-0.9725022132805843,-3.8504133583242646,8.715599255127334,2.8815194588149247,8.989145319379316,6.33730519375349,2.63325240591452,3.1010200881399226,8.075886003901998,6.776986133251186,5.679616682160581,0.8454214795540886,2.2617240260952536,3.57733889002645,3.38342417340163,3.887736717547043,3.4696805937190494,3.563202038059062,2.526669222144163,1.7597452273892746,12.770967780690167,2.696004509167399,7.358333265306856,5.966141461355329,7.206989054137338,10.738871498862801,8.060995418302015,2.596179608985202,-1.260696436053745,10.034511768881572,7.232303608231926,5.450306233712024,4.37493547164391,3.80524686259118,5.132480151857592,-1.86762112417137,7.424420026008285,6.774072585661715,3.9766019391321863,9.366909274367478,9.029675183932472,4.651910196707396,3.002190338252485,12.198206024512407,1.326597489630297,11.803520603362958,-1.8821650118799966,9.02740581186415,4.822457968341732,-1.403990388666097,12.914148471260141,5.661767360052497,17.39573001635882,2.695203490159141,-1.1289908783391795,5.925384081497443,3.5128324002807005,5.458879692376301,8.156081151601711,2.782492017059256,9.180845610525724,2.5640398762903396,6.813381606858198,6.353640444143612,3.755178358037231,4.780516570476617,0.620328216725851,7.585787547344823,5.629926448870778,9.038965729584357,5.388957249103136,1.1488509232072037,5.628487793370413,3.355915501295411,3.480926795327639,6.819847013496818,4.868777870856743,10.456462463619733,1.251326192301422,2.1397608120062666,10.674822100449614,6.667461224861661,-7.742147511672281,4.810225984966664,4.46227743972297,3.914103396406954,7.7760250563120605,1.0648267256059618,1.9455535687510161,9.679409174472225,4.700947604789575,5.332431648456268,10.57597022120175,5.105836641072003,5.00887594749529,0.6369929264557486,3.4823241082186227,4.235740341828922,10.222080381817001,5.807615094109594,1.9317616912715287,-0.43734702590720315,2.360004355534843,4.048540468131604,9.670130056133992,12.647370137492697,1.8089105948784827,-1.7586697949616854,2.987391020865312,8.642681867436202,-1.9182617979163432,0.7637157214137923,9.644052906831064,7.828807071510137,5.964036138518394,3.5049155718907654,5.248260097832754,7.087732570586379,0.18023963624034858,-4.606600828572466,7.691329090202855,1.891615429225061,6.275677117098072,15.46408748778286,4.624087128993839,-1.8847242287022574,2.897468705351125,6.033072648838127,-3.4386563344445813,10.44961805397643,-1.0554491676964717,6.443866928044152,2.9729940117154072,6.136873083969202,1.9566893919219464,3.296849400883332,8.509023898403498,2.8472503712357384,0.08018175121088371,1.8865783726395264,-6.065980816994005,11.984486833682173,-3.0159301557431726,6.385647628256816,-1.8079319899284811,0.6828397491055782,2.8432709923613317,6.099041568252159,13.631099534813144,3.3725183138035675,-4.074616037899025,3.199986725474442,7.138540797312663,7.705759091314177,7.480006257002662,13.20553045201154,-3.7713649044831765,5.905171283702555,0.11856253801708391,8.859709813288111,8.498862381471875,0.19453323671251238,6.008926191978662,10.412691664377855,1.8771512795008753,4.038022906182694,-1.6750845342588656,5.789586246063567,8.581144335369743,13.408089597930033,7.655708017504643,3.5502779175800385,6.087615448932958,2.6365453141951805,-1.477975234022084,1.0960903027139803,1.413497363610108,1.4349800037291955,-0.033957521332380114,8.46362705767786,8.427584130398955,9.482619440273826,7.033808046284223,-1.873017225740117,2.8207427666898317,5.206424135834057,-5.473713150074145,1.7783103652175456,-1.1871043003290913,1.451765054905268,6.014720231456465,7.236185150369774,1.7397903720599037,-0.8232102847803583,5.987723013194486,5.671180030740782,5.965760414965665,2.006142692149967,1.4984844805692354,-2.2676129424892726,3.717204534748321,4.432927640208789,-5.395910114718516,6.4298300277001985,7.002120524817883,9.008981927874602,-0.49977425207247833,8.893409419091942,0.4930265709874258,-3.3527336549066877,3.9515943331154935,0.8583483824963268,9.889277716732138,6.111268944266283,7.939407203751292,0.8501390365469199,1.6673988204642638,8.227976373712893,-2.2260682360728303,6.784724181925723,5.8045265362773915,1.0864320243512213,2.731180437274221,7.262374221354564,-2.0832771580540435,-3.9118519729876087,1.353799382661751,5.207773512736321,4.135056956441875,5.003442026146623,5.082968128652954,8.838660265782915,4.874190893518955,0.938853326466857,2.2811224723673216,10.271743465195197,1.2828996385327147,-3.841960920158708,8.705651229198759,12.248115184250823,-4.242586841368472,8.512388549465248,5.700953578285689,6.869411693290028,6.761440291778377,1.0530390278565278,7.175438596449864,5.356061219344232,7.0668045812710885,2.297746315385054,12.799081844505631,7.127473672109213,7.011241157727275,-1.0714327596433457,5.010982819103953,9.319043091592953,1.0668140244773179,6.995770197808972,-1.0539633588349828,9.313990038052646,11.338066105953121,1.3879861704566752,2.3481470224059073,3.0378389039569114,4.280548671561787,1.0814869206260733,1.178653093758533,7.629539613350453,7.45045771888468,1.4823612035482054,7.865545394989519,2.564883159825448,5.318597544598058,2.285317507227164,-1.2852603016464006,9.183278930724725,4.243793341995304,12.921522979311861,3.4199424766718756,3.3712572525137,3.0437442933427783,9.39298685131538,4.667463391590116,7.008363206224942,2.4218363851698412,8.052070477334848,9.793653060222063,3.489963417192301,4.445963369346486,4.227815491226239,3.557393894094613,8.319483555143087,12.616198874329337,6.008681006274289,6.907104555229018,2.057103789893274,5.968462931645721,-1.7562956965869125,6.773866309886535,12.950743890973555,8.684980682986444,8.059967488162194,5.569707531222339,3.247935221400517,11.759679880578393,6.29070545900409,11.432735938740175,1.7865877279355968,5.577841646078036,11.436473483087456,9.303338241008927,9.135939886225517,5.996723555779327,9.134430406485698,-0.30789866686746437,6.445987544027465,-0.5733601469143823,8.471228443007139,13.703285415916426,-1.2435937250380087,0.607627842682922,0.9398991931330039,-5.665920621198827,2.3446903090965443,5.467962016550344,6.1785967515075715,2.387039900293912,1.3768861144341586,0.24613978442732357,1.502747791178329,0.422113846441806,3.368629253314515,3.9911769731146465,4.266564742733532,4.530568782489116,-0.5711705919354234,-0.7608715010628502,4.198513489569076,-1.6326838746123544,6.780472402606954,0.8015968612556587,-3.243817994489985,-0.667299436921559,6.390612193279067,9.663061038157327,4.727909028204792,8.136048101343475,4.062392501592369,7.248899903733173,9.032411104416024,2.3426880078263914,3.017056778721658,2.8087592536222954,6.988220463893474,5.2504240070697,5.840523188104114,7.09914416618486,0.7369106738926126,1.0297138915911264,3.0961507084420687,1.7074847437073506,-2.145951565433765,3.30276024977952,5.655739444987389,2.898785616531416,6.468518061590612,-1.3810700211363292,1.8726639373416138,3.5456027323402157,10.270094939302895,-0.1615704321469115,-0.6895054711255268,6.32078020126232,1.1615307729209783,1.4513009116912428,8.777381735856428,4.889874674567142,3.086879968123485,-0.6765437587605885,4.715310667481444,3.1853787362170167,2.3904467433323764,3.71899083023871,-3.527288251811166,7.341391480679261,-3.8056103261963314,16.120151636487495,-3.0250591200638053,8.109448701065936,1.6672609734256112,4.132662047710354,-1.1417798235101233,7.178175787164899,8.159781496819262,4.713086599155836,6.533905153602917,1.2492111656414095,2.6684155176638695,4.091256593845714,8.567545289073852,4.752552474037487,7.435031773148739,-0.4140297093479478,-0.815524294664954,0.45441574408358043,3.8369174949137133,9.148634665565432,1.2392136985197337,5.99841113907085,7.646356108884649,3.598054518677193,8.237850324594593,1.1937274286032058,-1.3187789049422196,6.273195125027134,4.519273582769152,2.9686739879926924,3.5040355700797203,-0.8200058088583239,1.3528402284852064,7.115269092380889,-5.485074909436402,7.807375083456004,2.216290961594361,1.6255482492338829,3.3347339883234,-0.12540406814473948,2.982133760768378,6.987480613262083,8.260589953564429,2.4917118722198044,0.39657131037338117,7.242992809017438,4.627950354369458,5.805502005787809,0.11444703178041582,4.790390894625705,2.110016105593224,6.542970472178693,9.310404209427999,-3.8769805747434813,0.7526220835134564,-5.976205984006742,5.668258605966175,0.900237670540167,0.6605666813550768,13.41316190161778,4.644283210449541,5.782765007377325,-0.47240942250142787,10.879115284449389,4.564674305152806,0.3965197671269165,4.054260229896148,6.985378657287067,0.9304969987500691,9.593977290329933,-0.03970725921375458,-6.366904425575692,3.44806698765294,8.848690337838784,7.086528384207752,5.7700336165401245,1.1681592497266975,3.805295763105531,2.209533018997682,-7.800249037128388,1.1129490793163452,2.410191009363749,-3.261107567977198,0.7716795863895759,1.8117998538247322,5.2752954588370295,4.276319434233213,2.082474536620599,-3.9497504504652072,6.926871671327956,-2.6249301382167465,-0.028614376036826997,4.86256371703862,7.535607557739263,7.19022657362316,7.455791281588529,1.8009201381637063,5.409885832495686,1.7098594576033979,1.3680987673814111,5.762920561146719,5.631406492776388,-0.3948364882856689,4.6700312686616705,2.9883017905589955,4.148921834770838,5.366134249772384,1.4884171894657348,3.7373497406800693,7.301387369037218,3.786228337218821,-0.6512493979134327,6.917026576408019,6.483500690592703,3.569353604748249,6.457966419244478,0.7363992958456748,1.0377137798375287,-0.5235559335036413,10.072731872360881,3.568525676254071,2.576216368597801,-0.6104857986228749,6.151281212043022,7.701377152157107,-0.11999026169497425,3.9775505907353024,-0.9284901978885695,4.358993090791922,11.039444379734608,8.053411003338837,6.916707012975503,-0.762895084095581,-8.47636768287573,3.8031744126081186,7.0919666323826895,11.195396524798998,3.800430379224863,9.235883840422655,0.8387838491940846,-0.31119217453507997,2.283916191580029,4.482162573934974,6.310597128457198,1.3078939438132413,3.1374766144675967,2.891451839820257,-1.5909536842022385,-1.263652975176203,8.03716187418727,0.6536849762907038,4.027566439151945,4.338988376504486,8.43169079675199,10.562164389171357,4.620735425728507,1.8039856250725068,2.680736702697242,6.6169174204102585,5.328149805446556,-4.128947495915692,15.769098477683922,7.542212514986186,8.677226329856351,-0.05655164810246675,0.03945232393714844,3.909856462515571,5.07214280379914,4.950943838142586,1.5380968749600639,4.24903691794914,10.436276837379074,5.7750097472634,9.597589786700206,4.275700573851824,7.618798767360083],\"type\":\"scatter3d\"}],                        {\"template\":{\"data\":{\"bar\":[{\"error_x\":{\"color\":\"#2a3f5f\"},\"error_y\":{\"color\":\"#2a3f5f\"},\"marker\":{\"line\":{\"color\":\"#E5ECF6\",\"width\":0.5},\"pattern\":{\"fillmode\":\"overlay\",\"size\":10,\"solidity\":0.2}},\"type\":\"bar\"}],\"barpolar\":[{\"marker\":{\"line\":{\"color\":\"#E5ECF6\",\"width\":0.5},\"pattern\":{\"fillmode\":\"overlay\",\"size\":10,\"solidity\":0.2}},\"type\":\"barpolar\"}],\"carpet\":[{\"aaxis\":{\"endlinecolor\":\"#2a3f5f\",\"gridcolor\":\"white\",\"linecolor\":\"white\",\"minorgridcolor\":\"white\",\"startlinecolor\":\"#2a3f5f\"},\"baxis\":{\"endlinecolor\":\"#2a3f5f\",\"gridcolor\":\"white\",\"linecolor\":\"white\",\"minorgridcolor\":\"white\",\"startlinecolor\":\"#2a3f5f\"},\"type\":\"carpet\"}],\"choropleth\":[{\"colorbar\":{\"outlinewidth\":0,\"ticks\":\"\"},\"type\":\"choropleth\"}],\"contour\":[{\"colorbar\":{\"outlinewidth\":0,\"ticks\":\"\"},\"colorscale\":[[0.0,\"#0d0887\"],[0.1111111111111111,\"#46039f\"],[0.2222222222222222,\"#7201a8\"],[0.3333333333333333,\"#9c179e\"],[0.4444444444444444,\"#bd3786\"],[0.5555555555555556,\"#d8576b\"],[0.6666666666666666,\"#ed7953\"],[0.7777777777777778,\"#fb9f3a\"],[0.8888888888888888,\"#fdca26\"],[1.0,\"#f0f921\"]],\"type\":\"contour\"}],\"contourcarpet\":[{\"colorbar\":{\"outlinewidth\":0,\"ticks\":\"\"},\"type\":\"contourcarpet\"}],\"heatmap\":[{\"colorbar\":{\"outlinewidth\":0,\"ticks\":\"\"},\"colorscale\":[[0.0,\"#0d0887\"],[0.1111111111111111,\"#46039f\"],[0.2222222222222222,\"#7201a8\"],[0.3333333333333333,\"#9c179e\"],[0.4444444444444444,\"#bd3786\"],[0.5555555555555556,\"#d8576b\"],[0.6666666666666666,\"#ed7953\"],[0.7777777777777778,\"#fb9f3a\"],[0.8888888888888888,\"#fdca26\"],[1.0,\"#f0f921\"]],\"type\":\"heatmap\"}],\"heatmapgl\":[{\"colorbar\":{\"outlinewidth\":0,\"ticks\":\"\"},\"colorscale\":[[0.0,\"#0d0887\"],[0.1111111111111111,\"#46039f\"],[0.2222222222222222,\"#7201a8\"],[0.3333333333333333,\"#9c179e\"],[0.4444444444444444,\"#bd3786\"],[0.5555555555555556,\"#d8576b\"],[0.6666666666666666,\"#ed7953\"],[0.7777777777777778,\"#fb9f3a\"],[0.8888888888888888,\"#fdca26\"],[1.0,\"#f0f921\"]],\"type\":\"heatmapgl\"}],\"histogram\":[{\"marker\":{\"pattern\":{\"fillmode\":\"overlay\",\"size\":10,\"solidity\":0.2}},\"type\":\"histogram\"}],\"histogram2d\":[{\"colorbar\":{\"outlinewidth\":0,\"ticks\":\"\"},\"colorscale\":[[0.0,\"#0d0887\"],[0.1111111111111111,\"#46039f\"],[0.2222222222222222,\"#7201a8\"],[0.3333333333333333,\"#9c179e\"],[0.4444444444444444,\"#bd3786\"],[0.5555555555555556,\"#d8576b\"],[0.6666666666666666,\"#ed7953\"],[0.7777777777777778,\"#fb9f3a\"],[0.8888888888888888,\"#fdca26\"],[1.0,\"#f0f921\"]],\"type\":\"histogram2d\"}],\"histogram2dcontour\":[{\"colorbar\":{\"outlinewidth\":0,\"ticks\":\"\"},\"colorscale\":[[0.0,\"#0d0887\"],[0.1111111111111111,\"#46039f\"],[0.2222222222222222,\"#7201a8\"],[0.3333333333333333,\"#9c179e\"],[0.4444444444444444,\"#bd3786\"],[0.5555555555555556,\"#d8576b\"],[0.6666666666666666,\"#ed7953\"],[0.7777777777777778,\"#fb9f3a\"],[0.8888888888888888,\"#fdca26\"],[1.0,\"#f0f921\"]],\"type\":\"histogram2dcontour\"}],\"mesh3d\":[{\"colorbar\":{\"outlinewidth\":0,\"ticks\":\"\"},\"type\":\"mesh3d\"}],\"parcoords\":[{\"line\":{\"colorbar\":{\"outlinewidth\":0,\"ticks\":\"\"}},\"type\":\"parcoords\"}],\"pie\":[{\"automargin\":true,\"type\":\"pie\"}],\"scatter\":[{\"marker\":{\"colorbar\":{\"outlinewidth\":0,\"ticks\":\"\"}},\"type\":\"scatter\"}],\"scatter3d\":[{\"line\":{\"colorbar\":{\"outlinewidth\":0,\"ticks\":\"\"}},\"marker\":{\"colorbar\":{\"outlinewidth\":0,\"ticks\":\"\"}},\"type\":\"scatter3d\"}],\"scattercarpet\":[{\"marker\":{\"colorbar\":{\"outlinewidth\":0,\"ticks\":\"\"}},\"type\":\"scattercarpet\"}],\"scattergeo\":[{\"marker\":{\"colorbar\":{\"outlinewidth\":0,\"ticks\":\"\"}},\"type\":\"scattergeo\"}],\"scattergl\":[{\"marker\":{\"colorbar\":{\"outlinewidth\":0,\"ticks\":\"\"}},\"type\":\"scattergl\"}],\"scattermapbox\":[{\"marker\":{\"colorbar\":{\"outlinewidth\":0,\"ticks\":\"\"}},\"type\":\"scattermapbox\"}],\"scatterpolar\":[{\"marker\":{\"colorbar\":{\"outlinewidth\":0,\"ticks\":\"\"}},\"type\":\"scatterpolar\"}],\"scatterpolargl\":[{\"marker\":{\"colorbar\":{\"outlinewidth\":0,\"ticks\":\"\"}},\"type\":\"scatterpolargl\"}],\"scatterternary\":[{\"marker\":{\"colorbar\":{\"outlinewidth\":0,\"ticks\":\"\"}},\"type\":\"scatterternary\"}],\"surface\":[{\"colorbar\":{\"outlinewidth\":0,\"ticks\":\"\"},\"colorscale\":[[0.0,\"#0d0887\"],[0.1111111111111111,\"#46039f\"],[0.2222222222222222,\"#7201a8\"],[0.3333333333333333,\"#9c179e\"],[0.4444444444444444,\"#bd3786\"],[0.5555555555555556,\"#d8576b\"],[0.6666666666666666,\"#ed7953\"],[0.7777777777777778,\"#fb9f3a\"],[0.8888888888888888,\"#fdca26\"],[1.0,\"#f0f921\"]],\"type\":\"surface\"}],\"table\":[{\"cells\":{\"fill\":{\"color\":\"#EBF0F8\"},\"line\":{\"color\":\"white\"}},\"header\":{\"fill\":{\"color\":\"#C8D4E3\"},\"line\":{\"color\":\"white\"}},\"type\":\"table\"}]},\"layout\":{\"annotationdefaults\":{\"arrowcolor\":\"#2a3f5f\",\"arrowhead\":0,\"arrowwidth\":1},\"autotypenumbers\":\"strict\",\"coloraxis\":{\"colorbar\":{\"outlinewidth\":0,\"ticks\":\"\"}},\"colorscale\":{\"diverging\":[[0,\"#8e0152\"],[0.1,\"#c51b7d\"],[0.2,\"#de77ae\"],[0.3,\"#f1b6da\"],[0.4,\"#fde0ef\"],[0.5,\"#f7f7f7\"],[0.6,\"#e6f5d0\"],[0.7,\"#b8e186\"],[0.8,\"#7fbc41\"],[0.9,\"#4d9221\"],[1,\"#276419\"]],\"sequential\":[[0.0,\"#0d0887\"],[0.1111111111111111,\"#46039f\"],[0.2222222222222222,\"#7201a8\"],[0.3333333333333333,\"#9c179e\"],[0.4444444444444444,\"#bd3786\"],[0.5555555555555556,\"#d8576b\"],[0.6666666666666666,\"#ed7953\"],[0.7777777777777778,\"#fb9f3a\"],[0.8888888888888888,\"#fdca26\"],[1.0,\"#f0f921\"]],\"sequentialminus\":[[0.0,\"#0d0887\"],[0.1111111111111111,\"#46039f\"],[0.2222222222222222,\"#7201a8\"],[0.3333333333333333,\"#9c179e\"],[0.4444444444444444,\"#bd3786\"],[0.5555555555555556,\"#d8576b\"],[0.6666666666666666,\"#ed7953\"],[0.7777777777777778,\"#fb9f3a\"],[0.8888888888888888,\"#fdca26\"],[1.0,\"#f0f921\"]]},\"colorway\":[\"#636efa\",\"#EF553B\",\"#00cc96\",\"#ab63fa\",\"#FFA15A\",\"#19d3f3\",\"#FF6692\",\"#B6E880\",\"#FF97FF\",\"#FECB52\"],\"font\":{\"color\":\"#2a3f5f\"},\"geo\":{\"bgcolor\":\"white\",\"lakecolor\":\"white\",\"landcolor\":\"#E5ECF6\",\"showlakes\":true,\"showland\":true,\"subunitcolor\":\"white\"},\"hoverlabel\":{\"align\":\"left\"},\"hovermode\":\"closest\",\"mapbox\":{\"style\":\"light\"},\"paper_bgcolor\":\"white\",\"plot_bgcolor\":\"#E5ECF6\",\"polar\":{\"angularaxis\":{\"gridcolor\":\"white\",\"linecolor\":\"white\",\"ticks\":\"\"},\"bgcolor\":\"#E5ECF6\",\"radialaxis\":{\"gridcolor\":\"white\",\"linecolor\":\"white\",\"ticks\":\"\"}},\"scene\":{\"xaxis\":{\"backgroundcolor\":\"#E5ECF6\",\"gridcolor\":\"white\",\"gridwidth\":2,\"linecolor\":\"white\",\"showbackground\":true,\"ticks\":\"\",\"zerolinecolor\":\"white\"},\"yaxis\":{\"backgroundcolor\":\"#E5ECF6\",\"gridcolor\":\"white\",\"gridwidth\":2,\"linecolor\":\"white\",\"showbackground\":true,\"ticks\":\"\",\"zerolinecolor\":\"white\"},\"zaxis\":{\"backgroundcolor\":\"#E5ECF6\",\"gridcolor\":\"white\",\"gridwidth\":2,\"linecolor\":\"white\",\"showbackground\":true,\"ticks\":\"\",\"zerolinecolor\":\"white\"}},\"shapedefaults\":{\"line\":{\"color\":\"#2a3f5f\"}},\"ternary\":{\"aaxis\":{\"gridcolor\":\"white\",\"linecolor\":\"white\",\"ticks\":\"\"},\"baxis\":{\"gridcolor\":\"white\",\"linecolor\":\"white\",\"ticks\":\"\"},\"bgcolor\":\"#E5ECF6\",\"caxis\":{\"gridcolor\":\"white\",\"linecolor\":\"white\",\"ticks\":\"\"}},\"title\":{\"x\":0.05},\"xaxis\":{\"automargin\":true,\"gridcolor\":\"white\",\"linecolor\":\"white\",\"ticks\":\"\",\"title\":{\"standoff\":15},\"zerolinecolor\":\"white\",\"zerolinewidth\":2},\"yaxis\":{\"automargin\":true,\"gridcolor\":\"white\",\"linecolor\":\"white\",\"ticks\":\"\",\"title\":{\"standoff\":15},\"zerolinecolor\":\"white\",\"zerolinewidth\":2}}},\"scene\":{\"domain\":{\"x\":[0.0,1.0],\"y\":[0.0,1.0]},\"xaxis\":{\"title\":{\"text\":\"0\"}},\"yaxis\":{\"title\":{\"text\":\"1\"}},\"zaxis\":{\"title\":{\"text\":\"2\"}}},\"legend\":{\"tracegroupgap\":0},\"margin\":{\"t\":60}},                        {\"responsive\": true}                    ).then(function(){\n",
              "                            \n",
              "var gd = document.getElementById('aaa96d6c-658b-4f47-834f-00336bb1004c');\n",
              "var x = new MutationObserver(function (mutations, observer) {{\n",
              "        var display = window.getComputedStyle(gd).display;\n",
              "        if (!display || display === 'none') {{\n",
              "            console.log([gd, 'removed!']);\n",
              "            Plotly.purge(gd);\n",
              "            observer.disconnect();\n",
              "        }}\n",
              "}});\n",
              "\n",
              "// Listen for the removal of the full notebook cells\n",
              "var notebookContainer = gd.closest('#notebook-container');\n",
              "if (notebookContainer) {{\n",
              "    x.observe(notebookContainer, {childList: true});\n",
              "}}\n",
              "\n",
              "// Listen for the clearing of the current output cell\n",
              "var outputEl = gd.closest('.output');\n",
              "if (outputEl) {{\n",
              "    x.observe(outputEl, {childList: true});\n",
              "}}\n",
              "\n",
              "                        })                };                            </script>        </div>\n",
              "</body>\n",
              "</html>"
            ]
          },
          "metadata": {}
        }
      ]
    },
    {
      "cell_type": "markdown",
      "source": [
        "# Recordatorio\n",
        "\n",
        "Aproximaremos valores para la etiqueta $ \\hat{y} $ que viene de\n",
        "\n",
        "$$ \\hat{y} = w_1  x_1 + w_2  x_2 + b, \\,\\,\\,\\,\\,\\,\\,\\,\\,\\, (\\textbf{1}) $$\n",
        "\n",
        "\n",
        "dados parámetros $ w_1, w_2, b $ que primero asignaremos al azar y luego iremos mejorando con el método de gradiente descendiente.\n",
        "\n",
        "Otra forma de ver esa operación es:\n",
        "$$ \\hat{y} = \\mathbf{w}^\\top \\mathbf{x} + b $$\n",
        "\n",
        "Otra forma es modificando los datos, si tomamos la matriz aumentada $X = [x_1, x_2, 1 ]$ y los parámetros $ W = [ w_1, w_2 , b ]$ y con la operación\n",
        "\n",
        "$$ \\hat{y} = X\\cdot W $$\n"
      ],
      "metadata": {
        "id": "VL0sDV40anyX"
      }
    },
    {
      "cell_type": "markdown",
      "source": [
        "# Funciones a utilizar en nuestro entrenamiento"
      ],
      "metadata": {
        "id": "VuXYlftRXKM0"
      }
    },
    {
      "cell_type": "markdown",
      "source": [
        "La función de la regresión"
      ],
      "metadata": {
        "id": "KyD0EJcLYUbg"
      }
    },
    {
      "cell_type": "code",
      "source": [
        "def h(x,theta):\n",
        "    \"\"\"Modelo de regresión lineal\"\"\"\n",
        "    return np.matmul(x, theta)"
      ],
      "metadata": {
        "id": "wujnFhHO4pmh"
      },
      "execution_count": null,
      "outputs": []
    },
    {
      "cell_type": "markdown",
      "source": [
        "Compararemos los valores verdaderos de las etiquetas (labels) con los valores aproximados, se hace con la función\n",
        "\n",
        "$$ l^{(i)}(\\mathbf{w}, b) = \\frac{1}{2} \\left(\\hat{y}^{(i)} - y^{(i)}\\right)^2  $$\n",
        "\n",
        "La cual se promedia con la cantidad de elementos que usemos ($m$)"
      ],
      "metadata": {
        "id": "jVSYGarNYMK2"
      }
    },
    {
      "cell_type": "code",
      "source": [
        "def cost_function(x, y, theta):\n",
        "  \"\"\"Función de pérdida: Error cuadrático medio (promedio)\"\"\"\n",
        "  return ((h(x, theta)-y).T@(h(x, theta)-y))/(2*y.shape[0])"
      ],
      "metadata": {
        "id": "KKzEi84RLJre"
      },
      "execution_count": null,
      "outputs": []
    },
    {
      "cell_type": "code",
      "source": [
        "w = np.random.normal(0, 0.01, (2, 1))\n",
        "b = np.zeros(1)"
      ],
      "metadata": {
        "id": "GVOJBZAN-KQT"
      },
      "execution_count": null,
      "outputs": []
    },
    {
      "cell_type": "code",
      "source": [
        "print(w)\n",
        "print(b)"
      ],
      "metadata": {
        "colab": {
          "base_uri": "https://localhost:8080/"
        },
        "id": "nfGSAcnaRhR1",
        "outputId": "75e6c0cc-5d48-4a10-c30f-288c27527e60"
      },
      "execution_count": null,
      "outputs": [
        {
          "output_type": "stream",
          "name": "stdout",
          "text": [
            "[[ 0.00027021]\n",
            " [-0.00518603]]\n",
            "[0.]\n"
          ]
        }
      ]
    },
    {
      "cell_type": "markdown",
      "source": [
        "# Reacomodar nuestros datos para facilitar operaciones"
      ],
      "metadata": {
        "id": "leMAUXhMGKL_"
      }
    },
    {
      "cell_type": "code",
      "source": [
        "labels.shape # Variables Y"
      ],
      "metadata": {
        "id": "7xEYWH4TIEFp",
        "colab": {
          "base_uri": "https://localhost:8080/"
        },
        "outputId": "b2e252c0-28fa-493e-8491-81e8ceea92f6"
      },
      "execution_count": null,
      "outputs": [
        {
          "output_type": "execute_result",
          "data": {
            "text/plain": [
              "(1000, 1)"
            ]
          },
          "metadata": {},
          "execution_count": 16
        }
      ]
    },
    {
      "cell_type": "code",
      "source": [
        "np.ones(features.shape[0]).reshape(-1,1).shape"
      ],
      "metadata": {
        "id": "SY-582STHpPc",
        "colab": {
          "base_uri": "https://localhost:8080/"
        },
        "outputId": "06adec48-0234-4017-de0d-03bc8dc0e512"
      },
      "execution_count": null,
      "outputs": [
        {
          "output_type": "execute_result",
          "data": {
            "text/plain": [
              "(1000, 1)"
            ]
          },
          "metadata": {},
          "execution_count": 17
        }
      ]
    },
    {
      "cell_type": "code",
      "source": [
        "features"
      ],
      "metadata": {
        "id": "eOjEMw6FHv6n",
        "colab": {
          "base_uri": "https://localhost:8080/"
        },
        "outputId": "81e62748-130c-4f00-ab3f-dd4c7a5dd8b3"
      },
      "execution_count": null,
      "outputs": [
        {
          "output_type": "execute_result",
          "data": {
            "text/plain": [
              "array([[ 0.88389311,  0.19586502],\n",
              "       [ 0.35753652, -2.34326191],\n",
              "       [-1.08483259,  0.55969629],\n",
              "       ...,\n",
              "       [-0.0709407 , -1.63190951],\n",
              "       [-0.3142736 , -0.20870062],\n",
              "       [-0.08635826, -1.05431243]])"
            ]
          },
          "metadata": {},
          "execution_count": 18
        }
      ]
    },
    {
      "cell_type": "code",
      "source": [
        "X = np.concatenate((features, np.ones(features.shape[0]).reshape(-1,1)), axis=1)"
      ],
      "metadata": {
        "id": "aOcBm6NpGKAY"
      },
      "execution_count": null,
      "outputs": []
    },
    {
      "cell_type": "code",
      "source": [
        "X"
      ],
      "metadata": {
        "id": "X9ZWOOgsJQMZ",
        "colab": {
          "base_uri": "https://localhost:8080/"
        },
        "outputId": "1b8679b4-eb57-43b0-80b4-c10c4c096c0e"
      },
      "execution_count": null,
      "outputs": [
        {
          "output_type": "execute_result",
          "data": {
            "text/plain": [
              "array([[ 0.88389311,  0.19586502,  1.        ],\n",
              "       [ 0.35753652, -2.34326191,  1.        ],\n",
              "       [-1.08483259,  0.55969629,  1.        ],\n",
              "       ...,\n",
              "       [-0.0709407 , -1.63190951,  1.        ],\n",
              "       [-0.3142736 , -0.20870062,  1.        ],\n",
              "       [-0.08635826, -1.05431243,  1.        ]])"
            ]
          },
          "metadata": {},
          "execution_count": 20
        }
      ]
    },
    {
      "cell_type": "code",
      "source": [
        "b.shape"
      ],
      "metadata": {
        "id": "zk8MfbNJJpSb",
        "colab": {
          "base_uri": "https://localhost:8080/"
        },
        "outputId": "c5534f4f-f99e-4d38-e1ff-e54ca491c755"
      },
      "execution_count": null,
      "outputs": [
        {
          "output_type": "execute_result",
          "data": {
            "text/plain": [
              "(1,)"
            ]
          },
          "metadata": {},
          "execution_count": 21
        }
      ]
    },
    {
      "cell_type": "code",
      "source": [
        "theta = np.concatenate((w, b.reshape(-1,1)))"
      ],
      "metadata": {
        "id": "az2ZPU5VIY-O"
      },
      "execution_count": null,
      "outputs": []
    },
    {
      "cell_type": "code",
      "source": [
        "theta"
      ],
      "metadata": {
        "id": "Fvt1g3vYJVl2",
        "colab": {
          "base_uri": "https://localhost:8080/"
        },
        "outputId": "130af2d7-5cc5-4b88-9dd1-30fcdf4849f3"
      },
      "execution_count": null,
      "outputs": [
        {
          "output_type": "execute_result",
          "data": {
            "text/plain": [
              "array([[ 0.00027021],\n",
              "       [-0.00518603],\n",
              "       [ 0.        ]])"
            ]
          },
          "metadata": {},
          "execution_count": 23
        }
      ]
    },
    {
      "cell_type": "markdown",
      "source": [
        "# ¿Como se comparan las operaciones en nuestros datos nuevos?"
      ],
      "metadata": {
        "id": "1HJrd6-rNdPE"
      }
    },
    {
      "cell_type": "code",
      "source": [
        "h(X, theta)[0]"
      ],
      "metadata": {
        "id": "8W8VbtXpJ1HG",
        "colab": {
          "base_uri": "https://localhost:8080/"
        },
        "outputId": "d87fa49a-11d0-4193-f19c-2a95e0cb1872"
      },
      "execution_count": null,
      "outputs": [
        {
          "output_type": "execute_result",
          "data": {
            "text/plain": [
              "array([-0.00077692])"
            ]
          },
          "metadata": {},
          "execution_count": 24
        }
      ]
    },
    {
      "cell_type": "code",
      "source": [
        "np.dot(features[0],w) + b"
      ],
      "metadata": {
        "id": "c1cWIa6nNMTG",
        "colab": {
          "base_uri": "https://localhost:8080/"
        },
        "outputId": "3abc188d-fa6d-4289-f32d-141362f35458"
      },
      "execution_count": null,
      "outputs": [
        {
          "output_type": "execute_result",
          "data": {
            "text/plain": [
              "array([-0.00077692])"
            ]
          },
          "metadata": {},
          "execution_count": 25
        }
      ]
    },
    {
      "cell_type": "markdown",
      "source": [
        "# Entrenemos nuestro modelo"
      ],
      "metadata": {
        "id": "Q_640UtFNjT2"
      }
    },
    {
      "cell_type": "markdown",
      "source": [
        "El modo en que actualizaremos nuestros parametros (los que tratamos de estimar) es de la siguiente forma\n",
        "\n",
        "$$ (\\mathbf{w},b) \\leftarrow (\\mathbf{w},b) - \\frac{\\eta}{|\\mathcal{B}|} \\sum_{i \\in \\mathcal{B}} \\partial_{(\\mathbf{w},b)} l^{(i)}(\\mathbf{w},b), $$\n",
        "\n",
        "donde $\\eta$ es el radio de aprendizaje (learning rate) y la cardinalidad de $ \\mathcal{B} $ es la cantidad de elementos que utilizamos en la regresión (en nuestro caso 1000)\n",
        "\n",
        "Más explicitamente\n",
        "\n",
        "$$ \\begin{split}\\begin{aligned} \\mathbf{w} &\\leftarrow \\mathbf{w} -   \\frac{\\eta}{|\\mathcal{B}|} \\sum_{i \\in \\mathcal{B}} \\partial_{\\mathbf{w}} l^{(i)}(\\mathbf{w}, b) = \\mathbf{w} - \\frac{\\eta}{|\\mathcal{B}|} \\sum_{i \\in \\mathcal{B}} \\mathbf{x}^{(i)} \\left(\\mathbf{w}^\\top \\mathbf{x}^{(i)} + b - y^{(i)}\\right),\\\\ b &\\leftarrow b -  \\frac{\\eta}{|\\mathcal{B}|} \\sum_{i \\in \\mathcal{B}} \\partial_b l^{(i)}(\\mathbf{w}, b)  = b - \\frac{\\eta}{|\\mathcal{B}|} \\sum_{i \\in \\mathcal{B}} \\left(\\mathbf{w}^\\top \\mathbf{x}^{(i)} + b - y^{(i)}\\right). \\end{aligned}\\end{split} $$"
      ],
      "metadata": {
        "id": "LekZVvu-f_lZ"
      }
    },
    {
      "cell_type": "code",
      "source": [
        "def gradient_descent(x, y, theta, learning_rate=0.1, num_epochs=10):\n",
        "\tm = x.shape[0]\n",
        "\tJ_all = []\n",
        "\t\n",
        "\tfor _ in range(num_epochs):\n",
        "\t\th_x = h(x, theta)\n",
        "\t\tcost_ = (1/m)*(x.T@(h_x - y))\n",
        "\t\ttheta = theta - (learning_rate)*cost_\n",
        "\t\tJ_all.append(cost_function(x, y, theta))\n",
        "\n",
        "\treturn theta, J_all "
      ],
      "metadata": {
        "id": "xaj_uBU4LxfB"
      },
      "execution_count": null,
      "outputs": []
    },
    {
      "cell_type": "code",
      "source": [
        "learning_rate = 0.03\n",
        "num_epochs = 200"
      ],
      "metadata": {
        "id": "fdtOu8Gv4phz"
      },
      "execution_count": null,
      "outputs": []
    },
    {
      "cell_type": "code",
      "source": [
        "theta, J_all = gradient_descent(X, labels, theta, learning_rate, num_epochs)\n",
        "J = cost_function(X, labels, theta)\n",
        "print(\"Cost: \", J)\n",
        "print(\"Parameters: \", theta)"
      ],
      "metadata": {
        "id": "TWTzZZQcBSEb",
        "colab": {
          "base_uri": "https://localhost:8080/"
        },
        "outputId": "04580a4f-2222-45ba-d96e-0f199c9f7c13"
      },
      "execution_count": null,
      "outputs": [
        {
          "output_type": "stream",
          "name": "stdout",
          "text": [
            "Cost:  [[0.00014846]]\n",
            "Parameters:  [[ 1.99117691]\n",
            " [-3.3949448 ]\n",
            " [ 4.1893448 ]]\n"
          ]
        }
      ]
    },
    {
      "cell_type": "code",
      "source": [
        "print(J_all)"
      ],
      "metadata": {
        "id": "idROj5bqPLSL",
        "colab": {
          "base_uri": "https://localhost:8080/"
        },
        "outputId": "53f52df0-e7e8-485d-d8f1-5635479bd6eb"
      },
      "execution_count": null,
      "outputs": [
        {
          "output_type": "stream",
          "name": "stdout",
          "text": [
            "[array([[11.325896]]), array([[10.67248461]]), array([[10.05687871]]), array([[9.47688464]]), array([[8.93043638]]), array([[8.41558813]]), array([[7.93050726]]), array([[7.47346775]]), array([[7.04284392]]), array([[6.63710462]]), array([[6.25480772]]), array([[5.89459487]]), array([[5.55518668]]), array([[5.2353781]]), array([[4.93403404]]), array([[4.65008537]]), array([[4.38252504]]), array([[4.13040445]]), array([[3.89283007]]), array([[3.66896023]]), array([[3.45800212]]), array([[3.25920889]]), array([[3.07187704]]), array([[2.89534386]]), array([[2.72898507]]), array([[2.57221258]]), array([[2.42447241]]), array([[2.28524265]]), array([[2.15403167]]), array([[2.0303763]]), array([[1.91384021]]), array([[1.80401233]]), array([[1.70050539]]), array([[1.60295457]]), array([[1.51101614]]), array([[1.42436627]]), array([[1.34269988]]), array([[1.26572951]]), array([[1.19318436]]), array([[1.12480928]]), array([[1.06036387]]), array([[0.99962164]]), array([[0.94236917]]), array([[0.8884054]]), array([[0.83754087]]), array([[0.78959707]]), array([[0.74440581]]), array([[0.7018086]]), array([[0.66165611]]), array([[0.62380762]]), array([[0.58813057]]), array([[0.55449999]]), array([[0.52279817]]), array([[0.49291418]]), array([[0.46474347]]), array([[0.43818753]]), array([[0.41315355]]), array([[0.38955405]]), array([[0.36730658]]), array([[0.34633347]]), array([[0.32656151]]), array([[0.30792172]]), array([[0.29034907]]), array([[0.2737823]]), array([[0.25816366]]), array([[0.24343873]]), array([[0.22955624]]), array([[0.21646783]]), array([[0.20412797]]), array([[0.19249371]]), array([[0.1815246]]), array([[0.17118249]]), array([[0.16143145]]), array([[0.1522376]]), array([[0.143569]]), array([[0.13539557]]), array([[0.12768893]]), array([[0.12042236]]), array([[0.11357064]]), array([[0.10711003]]), array([[0.10101815]]), array([[0.09527387]]), array([[0.08985732]]), array([[0.08474974]]), array([[0.07993346]]), array([[0.07539182]]), array([[0.0711091]]), array([[0.06707052]]), array([[0.0632621]]), array([[0.0596707]]), array([[0.05628391]]), array([[0.05309005]]), array([[0.05007809]]), array([[0.04723764]]), array([[0.0445589]]), array([[0.04203266]]), array([[0.03965019]]), array([[0.0374033]]), array([[0.03528424]]), array([[0.03328573]]), array([[0.03140088]]), array([[0.02962321]]), array([[0.02794662]]), array([[0.02636533]]), array([[0.02487392]]), array([[0.02346726]]), array([[0.02214053]]), array([[0.02088916]]), array([[0.01970886]]), array([[0.0185956]]), array([[0.01754554]]), array([[0.01655509]]), array([[0.01562086]]), array([[0.01473965]]), array([[0.01390843]]), array([[0.01312438]]), array([[0.01238479]]), array([[0.01168714]]), array([[0.01102906]]), array([[0.01040828]]), array([[0.00982269]]), array([[0.00927028]]), array([[0.00874918]]), array([[0.0082576]]), array([[0.00779386]]), array([[0.00735639]]), array([[0.00694369]]), array([[0.00655435]]), array([[0.00618706]]), array([[0.00584055]]), array([[0.00551365]]), array([[0.00520524]]), array([[0.00491428]]), array([[0.00463978]]), array([[0.0043808]]), array([[0.00413646]]), array([[0.00390594]]), array([[0.00368844]]), array([[0.00348324]]), array([[0.00328962]]), array([[0.00310695]]), array([[0.0029346]]), array([[0.00277198]]), array([[0.00261854]]), array([[0.00247376]]), array([[0.00233716]]), array([[0.00220826]]), array([[0.00208664]]), array([[0.00197188]]), array([[0.0018636]]), array([[0.00176142]]), array([[0.001665]]), array([[0.00157402]]), array([[0.00148817]]), array([[0.00140716]]), array([[0.00133071]]), array([[0.00125857]]), array([[0.00119049]]), array([[0.00112625]]), array([[0.00106563]]), array([[0.00100842]]), array([[0.00095443]]), array([[0.00090348]]), array([[0.0008554]]), array([[0.00081002]]), array([[0.00076719]]), array([[0.00072678]]), array([[0.00068864]]), array([[0.00065264]]), array([[0.00061867]]), array([[0.00058661]]), array([[0.00055635]]), array([[0.00052779]]), array([[0.00050083]]), array([[0.00047539]]), array([[0.00045138]]), array([[0.00042871]]), array([[0.00040732]]), array([[0.00038713]]), array([[0.00036808]]), array([[0.00035009]]), array([[0.00033312]]), array([[0.00031709]]), array([[0.00030197]]), array([[0.00028769]]), array([[0.00027421]]), array([[0.00026149]]), array([[0.00024948]]), array([[0.00023815]]), array([[0.00022745]]), array([[0.00021735]]), array([[0.00020782]]), array([[0.00019882]]), array([[0.00019032]]), array([[0.0001823]]), array([[0.00017473]]), array([[0.00016759]]), array([[0.00016084]]), array([[0.00015447]]), array([[0.00014846]])]\n"
          ]
        }
      ]
    },
    {
      "cell_type": "code",
      "source": [
        "perdida_por_epoca = np.array(J_all).reshape(-1,1)"
      ],
      "metadata": {
        "id": "hvlLiqkyQOXF"
      },
      "execution_count": null,
      "outputs": []
    },
    {
      "cell_type": "code",
      "source": [
        "plt.plot(perdida_por_epoca)"
      ],
      "metadata": {
        "id": "Qcab99dtPXqN",
        "colab": {
          "base_uri": "https://localhost:8080/",
          "height": 282
        },
        "outputId": "a192a3e7-4fd3-44e4-e0c9-34566ced89bb"
      },
      "execution_count": null,
      "outputs": [
        {
          "output_type": "execute_result",
          "data": {
            "text/plain": [
              "[<matplotlib.lines.Line2D at 0x7fdc86a4ad10>]"
            ]
          },
          "metadata": {},
          "execution_count": 44
        },
        {
          "output_type": "display_data",
          "data": {
            "text/plain": [
              "<Figure size 432x288 with 1 Axes>"
            ],
            "image/png": "[encoded data removed]"
          },
          "metadata": {
            "needs_background": "light"
          }
        }
      ]
    },
    {
      "cell_type": "code",
      "source": [
        "# Recordemos nuestros datos verdaderos\n",
        "print(f'Parámetros: {true_w}\\nIntersecto (bias): {true_b}')"
      ],
      "metadata": {
        "id": "BDjSkFukOQ-m",
        "colab": {
          "base_uri": "https://localhost:8080/"
        },
        "outputId": "808cf24a-8eaf-4526-960b-a3a3b19a1c56"
      },
      "execution_count": null,
      "outputs": [
        {
          "output_type": "stream",
          "name": "stdout",
          "text": [
            "Parámetros: [ 2.  -3.4]\n",
            "Intersecto (bias): 4.2\n"
          ]
        }
      ]
    },
    {
      "cell_type": "code",
      "source": [
        "print(f'error in estimating w: {true_w - theta[:2].reshape(-1,1)}')\n",
        "print(f'error in estimating b: {true_b - theta[2]}')"
      ],
      "metadata": {
        "id": "zcsCkmAw9pMa",
        "colab": {
          "base_uri": "https://localhost:8080/"
        },
        "outputId": "d560c048-9d76-4746-9890-8556419b488a"
      },
      "execution_count": null,
      "outputs": [
        {
          "output_type": "stream",
          "name": "stdout",
          "text": [
            "error in estimating w: [[ 8.82309452e-03 -5.39117691e+00]\n",
            " [ 5.39494480e+00 -5.05519662e-03]]\n",
            "error in estimating b: [0.0106552]\n"
          ]
        }
      ]
    },
    {
      "cell_type": "code",
      "source": [
        "theta[:2]"
      ],
      "metadata": {
        "colab": {
          "base_uri": "https://localhost:8080/"
        },
        "id": "3Vfj2C2SWQk-",
        "outputId": "08f764d6-72f0-45e3-f04f-fde425f4c786"
      },
      "execution_count": null,
      "outputs": [
        {
          "output_type": "execute_result",
          "data": {
            "text/plain": [
              "array([[ 1.99117691],\n",
              "       [-3.3949448 ]])"
            ]
          },
          "metadata": {},
          "execution_count": 51
        }
      ]
    }
  ]
}
