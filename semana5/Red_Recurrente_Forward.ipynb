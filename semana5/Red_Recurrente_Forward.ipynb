{
  "nbformat": 4,
  "nbformat_minor": 0,
  "metadata": {
    "colab": {
      "name": "semana5.2_RNs_Red_Recurrente_Forward.ipynb",
      "provenance": [],
      "collapsed_sections": []
    },
    "kernelspec": {
      "name": "python3",
      "display_name": "Python 3"
    },
    "language_info": {
      "name": "python"
    }
  },
  "cells": [
    {
      "cell_type": "markdown",
      "source": [
        "[![Open In Colab](https://colab.research.google.com/assets/colab-badge.svg)](https://colab.research.google.com/github/MaxMitre/Redes_Neuronales_Scratch/blob/main/semana5/Red_Recurrente_Forward.ipynb)"
      ],
      "metadata": {
        "id": "jVzicr_oFwTQ"
      }
    },
    {
      "cell_type": "markdown",
      "source": [
        "# Datos a utilizar"
      ],
      "metadata": {
        "id": "upE736Hibq7u"
      }
    },
    {
      "cell_type": "markdown",
      "source": [
        "Datos originales: https://challengedata.ens.fr/participants/challenges/31/\n",
        "\n",
        "El problema trata de buscar un algoritmo de clasificación que ayude a crear estrategias de inversión en criptomonedas, basado en el \"sentimiento\" extraído de noticias y redes sociales.\n",
        "\n",
        "Por cada hora de trading se contabilizó la ocurrencia de algunos terminos, tales como 'adoption' y 'hack', en un selecto numero de cuentas influyentes de twitter y en algunos foros como 'Bitcointalk'.\n",
        "\n",
        "Se han creado 10 temas diferentes, algunos positivos y otros negativos y se han contabilizado las palabras antes mencionadas, antes de una normalización.\n",
        "\n",
        "Dado un tema y un tema, hemos visto los conteos de las últimas 48 horas y se estandarizaron esos conteos. El resultado se multiplicó por el conteo promedio por hora y se dividió por el conteo promedio por hora de todo el entrenamiento\n",
        "\n",
        "Se agregaron 5 características correspondientes a los precios finales en periodos de 1 hr, 6 hrs, 12 hrs, 24 hrs y 48 hrs\n",
        "El objetivo es predecir si el precio del Bitcoin tendrá un retorno (en la próxima hora) que sea de mas del 0.2%, entre -0.2% y 0.2% o menos al -0.2%.\n",
        "\n",
        "La métrica utilizada para la perdida es la perdida logistica, definita como el negativo de la log-verosimilitud de las etiquetas verdaderas comparadas con las probabilidades predichas por el clasificador.\n",
        "\n",
        "Las verdaderas etiquetas están codificadas como una matríz de 3 columnas, donde hay unos o ceros dependiendo si el elemento pertenece a la categoría de una columna u otra.\n",
        " \n",
        "Dada una matriz P de probabilidades $p_{i,k}=Pr(t_{i,k}=1)'$ , la función de perdida se define como\n",
        "\n",
        "$$\n",
        "L_{log}(Y,P)=-log{Pr(Y|P)}=-\\frac{1}{N} \\sum_{i=1}^{N} \\sum_{k=1}^3{y_{i,k}log(p_{i,k})}\n",
        "$$\n",
        "\n",
        "Entre más bajo el score de ésta medida, mejor.\n",
        "\n"
      ],
      "metadata": {
        "id": "E454T2Z7s_Tb"
      }
    },
    {
      "cell_type": "markdown",
      "source": [
        "Resumen datos: \n",
        "\n",
        "- ***ID***: Id de la muestra, que está ligado con el ID del archivo de variables objetivo.\n",
        "\n",
        "- ***I_1_lag(k)*** hasta ***I_10_lag(k)***: Valores de indicadores para cada $k$ de \"lag\" ($k\\in[\\![0;47]\\!]$) representando valores normalizados de los indicadores *I_1* al *I_10* cada hora en las últimas 48 horas.\n",
        "\n",
        "- ***X_1*** to ***X_5***: Valores de 5 indicadores normalizados que representan la variación de precio de Bitcoin en las ultimas 1, 6, 12, 24, y 48 horas.\n",
        "\n",
        "Los *outputs* o salidas, están en un archivo .csv. cada linea corresponde a una muestra, donde:\n",
        "\n",
        "- ***ID***: Id de la muestra.\n",
        "- ***Target_-1***: Clasificación del retorno del Bitcoin en la próxima hora. $-1$ representa un movimiento hacia abajo menor al $-0.2\\%$.\n",
        "- ***Target_0***: Clasificación del retorno del Bitcoin en la próxima hora. $0$ representa un movimiento entre $-0.2\\%$ y $0.2\\%$.\n",
        "- ***Target_1***: Clasificación del retorno del Bitcoin en la próxima hora. $1$ representa un movimiento hacia arriba mayor a $0.2\\%$.\n",
        "\n"
      ],
      "metadata": {
        "id": "XT_-69IHrvk1"
      }
    },
    {
      "cell_type": "markdown",
      "source": [
        "# Dependencias"
      ],
      "metadata": {
        "id": "D-sMYwvwGGaz"
      }
    },
    {
      "cell_type": "code",
      "source": [
        "import pandas as pd\n",
        "import numpy as np"
      ],
      "metadata": {
        "id": "RBaol_OacQjK"
      },
      "execution_count": null,
      "outputs": []
    },
    {
      "cell_type": "markdown",
      "source": [
        "Viejas conocidas, nos serán de utilidad"
      ],
      "metadata": {
        "id": "_PiBsrXHCw93"
      }
    },
    {
      "cell_type": "code",
      "execution_count": null,
      "metadata": {
        "id": "p2imCJxKRVnj"
      },
      "outputs": [],
      "source": [
        "def linear(x):\n",
        "    return x\n",
        "\n",
        "\n",
        "def relu(x):\n",
        "    return np.where(x > 0, x, 0)\n",
        "\n",
        "\n",
        "def sigmoid(x):\n",
        "    return 1 / (1 + np.exp(-x))"
      ]
    },
    {
      "cell_type": "code",
      "source": [
        "from google.colab import drive\n",
        "drive.mount('/content/drive')"
      ],
      "metadata": {
        "colab": {
          "base_uri": "https://localhost:8080/"
        },
        "id": "IxBmCXU2cM0e",
        "outputId": "751859fa-21d6-41a9-df8b-57545a389ef8"
      },
      "execution_count": null,
      "outputs": [
        {
          "output_type": "stream",
          "name": "stdout",
          "text": [
            "Mounted at /content/drive\n"
          ]
        }
      ]
    },
    {
      "cell_type": "code",
      "source": [
        "X_raw = pd.read_csv('/content/drive/MyDrive/Curso-NN-de-Cero/semana5/input_training_IrTAw7w.csv').set_index('ID')\n",
        "X_raw"
      ],
      "metadata": {
        "id": "x20PPm-uf29p",
        "colab": {
          "base_uri": "https://localhost:8080/",
          "height": 519
        },
        "outputId": "46cb6b54-f50c-4911-c731-bf4071071156"
      },
      "execution_count": null,
      "outputs": [
        {
          "output_type": "execute_result",
          "data": {
            "text/plain": [
              "             X1        X2        X3        X4         X5   I1_lag0   I1_lag1  \\\n",
              "ID                                                                             \n",
              "0      0.460020  0.620360 -0.972192  2.745197   4.177783  2.325865  2.060138   \n",
              "1     -0.347872 -2.199925 -0.222026  3.741888   8.608291 -4.091293 -3.502499   \n",
              "2     -2.152963 -0.432461  1.619057 -0.003912   3.870262 -0.598858 -0.412391   \n",
              "3     -1.827669 -1.881770 -4.214322  0.178225   0.992362  0.383757  2.512478   \n",
              "4      0.748761  1.799939  1.561006  5.204120   2.161637 -1.275226 -1.544131   \n",
              "...         ...       ...       ...       ...        ...       ...       ...   \n",
              "13995 -0.074522 -0.472044 -2.860659 -1.266230 -10.229167  0.583145 -0.051301   \n",
              "13996  1.730118  3.177408  0.816198  1.136877  -1.588960  1.011735 -0.185748   \n",
              "13997  2.093028  4.108092  1.056253  8.163642   8.916299  2.338713  2.554397   \n",
              "13998  1.483381 -1.602078 -2.851078 -2.639386  -4.805661 -2.252937  2.370613   \n",
              "13999 -1.305992  1.129081 -0.223061  0.248722   1.326936 -0.496556  1.432433   \n",
              "\n",
              "        I1_lag2   I1_lag3   I1_lag4  ...  I10_lag38  I10_lag39  I10_lag40  \\\n",
              "ID                                   ...                                    \n",
              "0      0.071162  2.360597 -0.611526  ...  -0.342912  -0.194165   0.122331   \n",
              "1     -1.463631  0.383153 -3.669962  ...   1.261341  -0.082428  -1.035813   \n",
              "2     -0.765354 -0.998152 -0.938755  ...   2.245204   3.002347   2.674186   \n",
              "3     -0.383434 -0.208506 -1.104289  ...   1.383203  -1.338892   0.298076   \n",
              "4     -1.802590 -1.128526 -0.469835  ...  -0.477313   0.742923  -0.273225   \n",
              "...         ...       ...       ...  ...        ...        ...        ...   \n",
              "13995 -0.584659  1.458945  2.004759  ...  -1.634290  -1.527111  -1.008016   \n",
              "13996 -0.522647  2.316802  1.219339  ...  -0.409750   0.840944  -1.804313   \n",
              "13997  1.665492  3.719985 -0.278893  ...  -0.531223  -1.249847  -1.288419   \n",
              "13998  4.450028  0.947600  2.364395  ...  -1.451115  -4.188150  -2.397168   \n",
              "13999 -0.012964  1.571311  0.053566  ...   0.488547  -0.480647   0.498861   \n",
              "\n",
              "       I10_lag41  I10_lag42  I10_lag43  I10_lag44  I10_lag45  I10_lag46  \\\n",
              "ID                                                                        \n",
              "0       0.028682  -0.093626  -0.559840   0.562584  -0.557868   1.424906   \n",
              "1      -0.249607  -0.971215  -0.058408   1.460632  -0.653394  -1.743487   \n",
              "2       2.656251   1.062974  -0.484619  -0.044594   1.579731   0.962836   \n",
              "3       1.808275   2.837975   2.054112   0.741138   1.701911   0.110082   \n",
              "4       1.311015   0.744330   2.914322   1.030602   0.480722  -0.492838   \n",
              "...          ...        ...        ...        ...        ...        ...   \n",
              "13995  -0.500519   1.277636   1.257714   0.502732   1.751844   0.150679   \n",
              "13996   0.357944  -1.058557  -0.196874  -2.507582   0.125756   1.532976   \n",
              "13997  -0.897649  -0.199824  -0.033545   0.240647   2.188396   0.039340   \n",
              "13998  -1.126340  -0.841850  -4.231824  -2.640152  -4.048115  -4.629418   \n",
              "13999   1.053732   2.121583   2.547515   2.029551   0.592872  -0.079870   \n",
              "\n",
              "       I10_lag47  \n",
              "ID                \n",
              "0      -0.016294  \n",
              "1       4.065305  \n",
              "2       1.146983  \n",
              "3       0.114980  \n",
              "4       1.377958  \n",
              "...          ...  \n",
              "13995  -0.533808  \n",
              "13996  -1.087343  \n",
              "13997   0.756515  \n",
              "13998  -3.566115  \n",
              "13999   0.142056  \n",
              "\n",
              "[14000 rows x 485 columns]"
            ],
            "text/html": [
              "\n",
              "  <div id=\"df-93b85099-62b0-4900-94ac-0c3fe23e472e\">\n",
              "    <div class=\"colab-df-container\">\n",
              "      <div>\n",
              "<style scoped>\n",
              "    .dataframe tbody tr th:only-of-type {\n",
              "        vertical-align: middle;\n",
              "    }\n",
              "\n",
              "    .dataframe tbody tr th {\n",
              "        vertical-align: top;\n",
              "    }\n",
              "\n",
              "    .dataframe thead th {\n",
              "        text-align: right;\n",
              "    }\n",
              "</style>\n",
              "<table border=\"1\" class=\"dataframe\">\n",
              "  <thead>\n",
              "    <tr style=\"text-align: right;\">\n",
              "      <th></th>\n",
              "      <th>X1</th>\n",
              "      <th>X2</th>\n",
              "      <th>X3</th>\n",
              "      <th>X4</th>\n",
              "      <th>X5</th>\n",
              "      <th>I1_lag0</th>\n",
              "      <th>I1_lag1</th>\n",
              "      <th>I1_lag2</th>\n",
              "      <th>I1_lag3</th>\n",
              "      <th>I1_lag4</th>\n",
              "      <th>...</th>\n",
              "      <th>I10_lag38</th>\n",
              "      <th>I10_lag39</th>\n",
              "      <th>I10_lag40</th>\n",
              "      <th>I10_lag41</th>\n",
              "      <th>I10_lag42</th>\n",
              "      <th>I10_lag43</th>\n",
              "      <th>I10_lag44</th>\n",
              "      <th>I10_lag45</th>\n",
              "      <th>I10_lag46</th>\n",
              "      <th>I10_lag47</th>\n",
              "    </tr>\n",
              "    <tr>\n",
              "      <th>ID</th>\n",
              "      <th></th>\n",
              "      <th></th>\n",
              "      <th></th>\n",
              "      <th></th>\n",
              "      <th></th>\n",
              "      <th></th>\n",
              "      <th></th>\n",
              "      <th></th>\n",
              "      <th></th>\n",
              "      <th></th>\n",
              "      <th></th>\n",
              "      <th></th>\n",
              "      <th></th>\n",
              "      <th></th>\n",
              "      <th></th>\n",
              "      <th></th>\n",
              "      <th></th>\n",
              "      <th></th>\n",
              "      <th></th>\n",
              "      <th></th>\n",
              "      <th></th>\n",
              "    </tr>\n",
              "  </thead>\n",
              "  <tbody>\n",
              "    <tr>\n",
              "      <th>0</th>\n",
              "      <td>0.460020</td>\n",
              "      <td>0.620360</td>\n",
              "      <td>-0.972192</td>\n",
              "      <td>2.745197</td>\n",
              "      <td>4.177783</td>\n",
              "      <td>2.325865</td>\n",
              "      <td>2.060138</td>\n",
              "      <td>0.071162</td>\n",
              "      <td>2.360597</td>\n",
              "      <td>-0.611526</td>\n",
              "      <td>...</td>\n",
              "      <td>-0.342912</td>\n",
              "      <td>-0.194165</td>\n",
              "      <td>0.122331</td>\n",
              "      <td>0.028682</td>\n",
              "      <td>-0.093626</td>\n",
              "      <td>-0.559840</td>\n",
              "      <td>0.562584</td>\n",
              "      <td>-0.557868</td>\n",
              "      <td>1.424906</td>\n",
              "      <td>-0.016294</td>\n",
              "    </tr>\n",
              "    <tr>\n",
              "      <th>1</th>\n",
              "      <td>-0.347872</td>\n",
              "      <td>-2.199925</td>\n",
              "      <td>-0.222026</td>\n",
              "      <td>3.741888</td>\n",
              "      <td>8.608291</td>\n",
              "      <td>-4.091293</td>\n",
              "      <td>-3.502499</td>\n",
              "      <td>-1.463631</td>\n",
              "      <td>0.383153</td>\n",
              "      <td>-3.669962</td>\n",
              "      <td>...</td>\n",
              "      <td>1.261341</td>\n",
              "      <td>-0.082428</td>\n",
              "      <td>-1.035813</td>\n",
              "      <td>-0.249607</td>\n",
              "      <td>-0.971215</td>\n",
              "      <td>-0.058408</td>\n",
              "      <td>1.460632</td>\n",
              "      <td>-0.653394</td>\n",
              "      <td>-1.743487</td>\n",
              "      <td>4.065305</td>\n",
              "    </tr>\n",
              "    <tr>\n",
              "      <th>2</th>\n",
              "      <td>-2.152963</td>\n",
              "      <td>-0.432461</td>\n",
              "      <td>1.619057</td>\n",
              "      <td>-0.003912</td>\n",
              "      <td>3.870262</td>\n",
              "      <td>-0.598858</td>\n",
              "      <td>-0.412391</td>\n",
              "      <td>-0.765354</td>\n",
              "      <td>-0.998152</td>\n",
              "      <td>-0.938755</td>\n",
              "      <td>...</td>\n",
              "      <td>2.245204</td>\n",
              "      <td>3.002347</td>\n",
              "      <td>2.674186</td>\n",
              "      <td>2.656251</td>\n",
              "      <td>1.062974</td>\n",
              "      <td>-0.484619</td>\n",
              "      <td>-0.044594</td>\n",
              "      <td>1.579731</td>\n",
              "      <td>0.962836</td>\n",
              "      <td>1.146983</td>\n",
              "    </tr>\n",
              "    <tr>\n",
              "      <th>3</th>\n",
              "      <td>-1.827669</td>\n",
              "      <td>-1.881770</td>\n",
              "      <td>-4.214322</td>\n",
              "      <td>0.178225</td>\n",
              "      <td>0.992362</td>\n",
              "      <td>0.383757</td>\n",
              "      <td>2.512478</td>\n",
              "      <td>-0.383434</td>\n",
              "      <td>-0.208506</td>\n",
              "      <td>-1.104289</td>\n",
              "      <td>...</td>\n",
              "      <td>1.383203</td>\n",
              "      <td>-1.338892</td>\n",
              "      <td>0.298076</td>\n",
              "      <td>1.808275</td>\n",
              "      <td>2.837975</td>\n",
              "      <td>2.054112</td>\n",
              "      <td>0.741138</td>\n",
              "      <td>1.701911</td>\n",
              "      <td>0.110082</td>\n",
              "      <td>0.114980</td>\n",
              "    </tr>\n",
              "    <tr>\n",
              "      <th>4</th>\n",
              "      <td>0.748761</td>\n",
              "      <td>1.799939</td>\n",
              "      <td>1.561006</td>\n",
              "      <td>5.204120</td>\n",
              "      <td>2.161637</td>\n",
              "      <td>-1.275226</td>\n",
              "      <td>-1.544131</td>\n",
              "      <td>-1.802590</td>\n",
              "      <td>-1.128526</td>\n",
              "      <td>-0.469835</td>\n",
              "      <td>...</td>\n",
              "      <td>-0.477313</td>\n",
              "      <td>0.742923</td>\n",
              "      <td>-0.273225</td>\n",
              "      <td>1.311015</td>\n",
              "      <td>0.744330</td>\n",
              "      <td>2.914322</td>\n",
              "      <td>1.030602</td>\n",
              "      <td>0.480722</td>\n",
              "      <td>-0.492838</td>\n",
              "      <td>1.377958</td>\n",
              "    </tr>\n",
              "    <tr>\n",
              "      <th>...</th>\n",
              "      <td>...</td>\n",
              "      <td>...</td>\n",
              "      <td>...</td>\n",
              "      <td>...</td>\n",
              "      <td>...</td>\n",
              "      <td>...</td>\n",
              "      <td>...</td>\n",
              "      <td>...</td>\n",
              "      <td>...</td>\n",
              "      <td>...</td>\n",
              "      <td>...</td>\n",
              "      <td>...</td>\n",
              "      <td>...</td>\n",
              "      <td>...</td>\n",
              "      <td>...</td>\n",
              "      <td>...</td>\n",
              "      <td>...</td>\n",
              "      <td>...</td>\n",
              "      <td>...</td>\n",
              "      <td>...</td>\n",
              "      <td>...</td>\n",
              "    </tr>\n",
              "    <tr>\n",
              "      <th>13995</th>\n",
              "      <td>-0.074522</td>\n",
              "      <td>-0.472044</td>\n",
              "      <td>-2.860659</td>\n",
              "      <td>-1.266230</td>\n",
              "      <td>-10.229167</td>\n",
              "      <td>0.583145</td>\n",
              "      <td>-0.051301</td>\n",
              "      <td>-0.584659</td>\n",
              "      <td>1.458945</td>\n",
              "      <td>2.004759</td>\n",
              "      <td>...</td>\n",
              "      <td>-1.634290</td>\n",
              "      <td>-1.527111</td>\n",
              "      <td>-1.008016</td>\n",
              "      <td>-0.500519</td>\n",
              "      <td>1.277636</td>\n",
              "      <td>1.257714</td>\n",
              "      <td>0.502732</td>\n",
              "      <td>1.751844</td>\n",
              "      <td>0.150679</td>\n",
              "      <td>-0.533808</td>\n",
              "    </tr>\n",
              "    <tr>\n",
              "      <th>13996</th>\n",
              "      <td>1.730118</td>\n",
              "      <td>3.177408</td>\n",
              "      <td>0.816198</td>\n",
              "      <td>1.136877</td>\n",
              "      <td>-1.588960</td>\n",
              "      <td>1.011735</td>\n",
              "      <td>-0.185748</td>\n",
              "      <td>-0.522647</td>\n",
              "      <td>2.316802</td>\n",
              "      <td>1.219339</td>\n",
              "      <td>...</td>\n",
              "      <td>-0.409750</td>\n",
              "      <td>0.840944</td>\n",
              "      <td>-1.804313</td>\n",
              "      <td>0.357944</td>\n",
              "      <td>-1.058557</td>\n",
              "      <td>-0.196874</td>\n",
              "      <td>-2.507582</td>\n",
              "      <td>0.125756</td>\n",
              "      <td>1.532976</td>\n",
              "      <td>-1.087343</td>\n",
              "    </tr>\n",
              "    <tr>\n",
              "      <th>13997</th>\n",
              "      <td>2.093028</td>\n",
              "      <td>4.108092</td>\n",
              "      <td>1.056253</td>\n",
              "      <td>8.163642</td>\n",
              "      <td>8.916299</td>\n",
              "      <td>2.338713</td>\n",
              "      <td>2.554397</td>\n",
              "      <td>1.665492</td>\n",
              "      <td>3.719985</td>\n",
              "      <td>-0.278893</td>\n",
              "      <td>...</td>\n",
              "      <td>-0.531223</td>\n",
              "      <td>-1.249847</td>\n",
              "      <td>-1.288419</td>\n",
              "      <td>-0.897649</td>\n",
              "      <td>-0.199824</td>\n",
              "      <td>-0.033545</td>\n",
              "      <td>0.240647</td>\n",
              "      <td>2.188396</td>\n",
              "      <td>0.039340</td>\n",
              "      <td>0.756515</td>\n",
              "    </tr>\n",
              "    <tr>\n",
              "      <th>13998</th>\n",
              "      <td>1.483381</td>\n",
              "      <td>-1.602078</td>\n",
              "      <td>-2.851078</td>\n",
              "      <td>-2.639386</td>\n",
              "      <td>-4.805661</td>\n",
              "      <td>-2.252937</td>\n",
              "      <td>2.370613</td>\n",
              "      <td>4.450028</td>\n",
              "      <td>0.947600</td>\n",
              "      <td>2.364395</td>\n",
              "      <td>...</td>\n",
              "      <td>-1.451115</td>\n",
              "      <td>-4.188150</td>\n",
              "      <td>-2.397168</td>\n",
              "      <td>-1.126340</td>\n",
              "      <td>-0.841850</td>\n",
              "      <td>-4.231824</td>\n",
              "      <td>-2.640152</td>\n",
              "      <td>-4.048115</td>\n",
              "      <td>-4.629418</td>\n",
              "      <td>-3.566115</td>\n",
              "    </tr>\n",
              "    <tr>\n",
              "      <th>13999</th>\n",
              "      <td>-1.305992</td>\n",
              "      <td>1.129081</td>\n",
              "      <td>-0.223061</td>\n",
              "      <td>0.248722</td>\n",
              "      <td>1.326936</td>\n",
              "      <td>-0.496556</td>\n",
              "      <td>1.432433</td>\n",
              "      <td>-0.012964</td>\n",
              "      <td>1.571311</td>\n",
              "      <td>0.053566</td>\n",
              "      <td>...</td>\n",
              "      <td>0.488547</td>\n",
              "      <td>-0.480647</td>\n",
              "      <td>0.498861</td>\n",
              "      <td>1.053732</td>\n",
              "      <td>2.121583</td>\n",
              "      <td>2.547515</td>\n",
              "      <td>2.029551</td>\n",
              "      <td>0.592872</td>\n",
              "      <td>-0.079870</td>\n",
              "      <td>0.142056</td>\n",
              "    </tr>\n",
              "  </tbody>\n",
              "</table>\n",
              "<p>14000 rows × 485 columns</p>\n",
              "</div>\n",
              "      <button class=\"colab-df-convert\" onclick=\"convertToInteractive('df-93b85099-62b0-4900-94ac-0c3fe23e472e')\"\n",
              "              title=\"Convert this dataframe to an interactive table.\"\n",
              "              style=\"display:none;\">\n",
              "        \n",
              "  <svg xmlns=\"http://www.w3.org/2000/svg\" height=\"24px\"viewBox=\"0 0 24 24\"\n",
              "       width=\"24px\">\n",
              "    <path d=\"M0 0h24v24H0V0z\" fill=\"none\"/>\n",
              "    <path d=\"M18.56 5.44l.94 2.06.94-2.06 2.06-.94-2.06-.94-.94-2.06-.94 2.06-2.06.94zm-11 1L8.5 8.5l.94-2.06 2.06-.94-2.06-.94L8.5 2.5l-.94 2.06-2.06.94zm10 10l.94 2.06.94-2.06 2.06-.94-2.06-.94-.94-2.06-.94 2.06-2.06.94z\"/><path d=\"M17.41 7.96l-1.37-1.37c-.4-.4-.92-.59-1.43-.59-.52 0-1.04.2-1.43.59L10.3 9.45l-7.72 7.72c-.78.78-.78 2.05 0 2.83L4 21.41c.39.39.9.59 1.41.59.51 0 1.02-.2 1.41-.59l7.78-7.78 2.81-2.81c.8-.78.8-2.07 0-2.86zM5.41 20L4 18.59l7.72-7.72 1.47 1.35L5.41 20z\"/>\n",
              "  </svg>\n",
              "      </button>\n",
              "      \n",
              "  <style>\n",
              "    .colab-df-container {\n",
              "      display:flex;\n",
              "      flex-wrap:wrap;\n",
              "      gap: 12px;\n",
              "    }\n",
              "\n",
              "    .colab-df-convert {\n",
              "      background-color: #E8F0FE;\n",
              "      border: none;\n",
              "      border-radius: 50%;\n",
              "      cursor: pointer;\n",
              "      display: none;\n",
              "      fill: #1967D2;\n",
              "      height: 32px;\n",
              "      padding: 0 0 0 0;\n",
              "      width: 32px;\n",
              "    }\n",
              "\n",
              "    .colab-df-convert:hover {\n",
              "      background-color: #E2EBFA;\n",
              "      box-shadow: 0px 1px 2px rgba(60, 64, 67, 0.3), 0px 1px 3px 1px rgba(60, 64, 67, 0.15);\n",
              "      fill: #174EA6;\n",
              "    }\n",
              "\n",
              "    [theme=dark] .colab-df-convert {\n",
              "      background-color: #3B4455;\n",
              "      fill: #D2E3FC;\n",
              "    }\n",
              "\n",
              "    [theme=dark] .colab-df-convert:hover {\n",
              "      background-color: #434B5C;\n",
              "      box-shadow: 0px 1px 3px 1px rgba(0, 0, 0, 0.15);\n",
              "      filter: drop-shadow(0px 1px 2px rgba(0, 0, 0, 0.3));\n",
              "      fill: #FFFFFF;\n",
              "    }\n",
              "  </style>\n",
              "\n",
              "      <script>\n",
              "        const buttonEl =\n",
              "          document.querySelector('#df-93b85099-62b0-4900-94ac-0c3fe23e472e button.colab-df-convert');\n",
              "        buttonEl.style.display =\n",
              "          google.colab.kernel.accessAllowed ? 'block' : 'none';\n",
              "\n",
              "        async function convertToInteractive(key) {\n",
              "          const element = document.querySelector('#df-93b85099-62b0-4900-94ac-0c3fe23e472e');\n",
              "          const dataTable =\n",
              "            await google.colab.kernel.invokeFunction('convertToInteractive',\n",
              "                                                     [key], {});\n",
              "          if (!dataTable) return;\n",
              "\n",
              "          const docLinkHtml = 'Like what you see? Visit the ' +\n",
              "            '<a target=\"_blank\" href=https://colab.research.google.com/notebooks/data_table.ipynb>data table notebook</a>'\n",
              "            + ' to learn more about interactive tables.';\n",
              "          element.innerHTML = '';\n",
              "          dataTable['output_type'] = 'display_data';\n",
              "          await google.colab.output.renderOutput(dataTable, element);\n",
              "          const docLink = document.createElement('div');\n",
              "          docLink.innerHTML = docLinkHtml;\n",
              "          element.appendChild(docLink);\n",
              "        }\n",
              "      </script>\n",
              "    </div>\n",
              "  </div>\n",
              "  "
            ]
          },
          "metadata": {},
          "execution_count": 4
        }
      ]
    },
    {
      "cell_type": "code",
      "source": [
        "y_raw = pd.read_csv('/content/drive/MyDrive/Curso-NN-de-Cero/semana5/output_training_F2dZW38.csv').set_index('ID')\n",
        "y_raw"
      ],
      "metadata": {
        "id": "29-SdvrDk-lz",
        "colab": {
          "base_uri": "https://localhost:8080/",
          "height": 455
        },
        "outputId": "02b8549c-28e9-42e1-8f42-19d2275f2f4b"
      },
      "execution_count": null,
      "outputs": [
        {
          "output_type": "execute_result",
          "data": {
            "text/plain": [
              "       Target -1  Target 0  Target 1\n",
              "ID                                  \n",
              "0              0         0         1\n",
              "1              1         0         0\n",
              "2              0         0         1\n",
              "3              1         0         0\n",
              "4              0         1         0\n",
              "...          ...       ...       ...\n",
              "13995          0         0         1\n",
              "13996          0         1         0\n",
              "13997          0         1         0\n",
              "13998          0         0         1\n",
              "13999          0         1         0\n",
              "\n",
              "[14000 rows x 3 columns]"
            ],
            "text/html": [
              "\n",
              "  <div id=\"df-cea2ed23-06c9-4cd7-8370-bfe4f9d96c01\">\n",
              "    <div class=\"colab-df-container\">\n",
              "      <div>\n",
              "<style scoped>\n",
              "    .dataframe tbody tr th:only-of-type {\n",
              "        vertical-align: middle;\n",
              "    }\n",
              "\n",
              "    .dataframe tbody tr th {\n",
              "        vertical-align: top;\n",
              "    }\n",
              "\n",
              "    .dataframe thead th {\n",
              "        text-align: right;\n",
              "    }\n",
              "</style>\n",
              "<table border=\"1\" class=\"dataframe\">\n",
              "  <thead>\n",
              "    <tr style=\"text-align: right;\">\n",
              "      <th></th>\n",
              "      <th>Target -1</th>\n",
              "      <th>Target 0</th>\n",
              "      <th>Target 1</th>\n",
              "    </tr>\n",
              "    <tr>\n",
              "      <th>ID</th>\n",
              "      <th></th>\n",
              "      <th></th>\n",
              "      <th></th>\n",
              "    </tr>\n",
              "  </thead>\n",
              "  <tbody>\n",
              "    <tr>\n",
              "      <th>0</th>\n",
              "      <td>0</td>\n",
              "      <td>0</td>\n",
              "      <td>1</td>\n",
              "    </tr>\n",
              "    <tr>\n",
              "      <th>1</th>\n",
              "      <td>1</td>\n",
              "      <td>0</td>\n",
              "      <td>0</td>\n",
              "    </tr>\n",
              "    <tr>\n",
              "      <th>2</th>\n",
              "      <td>0</td>\n",
              "      <td>0</td>\n",
              "      <td>1</td>\n",
              "    </tr>\n",
              "    <tr>\n",
              "      <th>3</th>\n",
              "      <td>1</td>\n",
              "      <td>0</td>\n",
              "      <td>0</td>\n",
              "    </tr>\n",
              "    <tr>\n",
              "      <th>4</th>\n",
              "      <td>0</td>\n",
              "      <td>1</td>\n",
              "      <td>0</td>\n",
              "    </tr>\n",
              "    <tr>\n",
              "      <th>...</th>\n",
              "      <td>...</td>\n",
              "      <td>...</td>\n",
              "      <td>...</td>\n",
              "    </tr>\n",
              "    <tr>\n",
              "      <th>13995</th>\n",
              "      <td>0</td>\n",
              "      <td>0</td>\n",
              "      <td>1</td>\n",
              "    </tr>\n",
              "    <tr>\n",
              "      <th>13996</th>\n",
              "      <td>0</td>\n",
              "      <td>1</td>\n",
              "      <td>0</td>\n",
              "    </tr>\n",
              "    <tr>\n",
              "      <th>13997</th>\n",
              "      <td>0</td>\n",
              "      <td>1</td>\n",
              "      <td>0</td>\n",
              "    </tr>\n",
              "    <tr>\n",
              "      <th>13998</th>\n",
              "      <td>0</td>\n",
              "      <td>0</td>\n",
              "      <td>1</td>\n",
              "    </tr>\n",
              "    <tr>\n",
              "      <th>13999</th>\n",
              "      <td>0</td>\n",
              "      <td>1</td>\n",
              "      <td>0</td>\n",
              "    </tr>\n",
              "  </tbody>\n",
              "</table>\n",
              "<p>14000 rows × 3 columns</p>\n",
              "</div>\n",
              "      <button class=\"colab-df-convert\" onclick=\"convertToInteractive('df-cea2ed23-06c9-4cd7-8370-bfe4f9d96c01')\"\n",
              "              title=\"Convert this dataframe to an interactive table.\"\n",
              "              style=\"display:none;\">\n",
              "        \n",
              "  <svg xmlns=\"http://www.w3.org/2000/svg\" height=\"24px\"viewBox=\"0 0 24 24\"\n",
              "       width=\"24px\">\n",
              "    <path d=\"M0 0h24v24H0V0z\" fill=\"none\"/>\n",
              "    <path d=\"M18.56 5.44l.94 2.06.94-2.06 2.06-.94-2.06-.94-.94-2.06-.94 2.06-2.06.94zm-11 1L8.5 8.5l.94-2.06 2.06-.94-2.06-.94L8.5 2.5l-.94 2.06-2.06.94zm10 10l.94 2.06.94-2.06 2.06-.94-2.06-.94-.94-2.06-.94 2.06-2.06.94z\"/><path d=\"M17.41 7.96l-1.37-1.37c-.4-.4-.92-.59-1.43-.59-.52 0-1.04.2-1.43.59L10.3 9.45l-7.72 7.72c-.78.78-.78 2.05 0 2.83L4 21.41c.39.39.9.59 1.41.59.51 0 1.02-.2 1.41-.59l7.78-7.78 2.81-2.81c.8-.78.8-2.07 0-2.86zM5.41 20L4 18.59l7.72-7.72 1.47 1.35L5.41 20z\"/>\n",
              "  </svg>\n",
              "      </button>\n",
              "      \n",
              "  <style>\n",
              "    .colab-df-container {\n",
              "      display:flex;\n",
              "      flex-wrap:wrap;\n",
              "      gap: 12px;\n",
              "    }\n",
              "\n",
              "    .colab-df-convert {\n",
              "      background-color: #E8F0FE;\n",
              "      border: none;\n",
              "      border-radius: 50%;\n",
              "      cursor: pointer;\n",
              "      display: none;\n",
              "      fill: #1967D2;\n",
              "      height: 32px;\n",
              "      padding: 0 0 0 0;\n",
              "      width: 32px;\n",
              "    }\n",
              "\n",
              "    .colab-df-convert:hover {\n",
              "      background-color: #E2EBFA;\n",
              "      box-shadow: 0px 1px 2px rgba(60, 64, 67, 0.3), 0px 1px 3px 1px rgba(60, 64, 67, 0.15);\n",
              "      fill: #174EA6;\n",
              "    }\n",
              "\n",
              "    [theme=dark] .colab-df-convert {\n",
              "      background-color: #3B4455;\n",
              "      fill: #D2E3FC;\n",
              "    }\n",
              "\n",
              "    [theme=dark] .colab-df-convert:hover {\n",
              "      background-color: #434B5C;\n",
              "      box-shadow: 0px 1px 3px 1px rgba(0, 0, 0, 0.15);\n",
              "      filter: drop-shadow(0px 1px 2px rgba(0, 0, 0, 0.3));\n",
              "      fill: #FFFFFF;\n",
              "    }\n",
              "  </style>\n",
              "\n",
              "      <script>\n",
              "        const buttonEl =\n",
              "          document.querySelector('#df-cea2ed23-06c9-4cd7-8370-bfe4f9d96c01 button.colab-df-convert');\n",
              "        buttonEl.style.display =\n",
              "          google.colab.kernel.accessAllowed ? 'block' : 'none';\n",
              "\n",
              "        async function convertToInteractive(key) {\n",
              "          const element = document.querySelector('#df-cea2ed23-06c9-4cd7-8370-bfe4f9d96c01');\n",
              "          const dataTable =\n",
              "            await google.colab.kernel.invokeFunction('convertToInteractive',\n",
              "                                                     [key], {});\n",
              "          if (!dataTable) return;\n",
              "\n",
              "          const docLinkHtml = 'Like what you see? Visit the ' +\n",
              "            '<a target=\"_blank\" href=https://colab.research.google.com/notebooks/data_table.ipynb>data table notebook</a>'\n",
              "            + ' to learn more about interactive tables.';\n",
              "          element.innerHTML = '';\n",
              "          dataTable['output_type'] = 'display_data';\n",
              "          await google.colab.output.renderOutput(dataTable, element);\n",
              "          const docLink = document.createElement('div');\n",
              "          docLink.innerHTML = docLinkHtml;\n",
              "          element.appendChild(docLink);\n",
              "        }\n",
              "      </script>\n",
              "    </div>\n",
              "  </div>\n",
              "  "
            ]
          },
          "metadata": {},
          "execution_count": 5
        }
      ]
    },
    {
      "cell_type": "markdown",
      "source": [
        "# Escoger datos a utilizar\n",
        "\n",
        "Nos quedaremos con los valores relacionados a los sentimientos de las notas extraídas para 2 temas, y la columna de la variación del bitcoin cada hora."
      ],
      "metadata": {
        "id": "lbKAaE8Zm0Ii"
      }
    },
    {
      "cell_type": "markdown",
      "source": [
        "Tomaremos $p=5$ (tiempo que miraremos hacia atrás) y $n=7$ (tamaño de la capa oculta) y $3$ características a ver, los valores de $I1$ e $I2$ y los precios $Xi$"
      ],
      "metadata": {
        "id": "ki2_rHdzz6kk"
      }
    },
    {
      "cell_type": "code",
      "source": [
        "features_1 = ['I1_lag47', 'I1_lag23', 'I1_lag11', 'I1_lag5', 'I1_lag0']"
      ],
      "metadata": {
        "id": "Q-QlAs1tmz17"
      },
      "execution_count": null,
      "outputs": []
    },
    {
      "cell_type": "code",
      "source": [
        "features_2 = ['I2_lag47', 'I2_lag23', 'I2_lag11', 'I2_lag5', 'I2_lag0']"
      ],
      "metadata": {
        "id": "UwyV1wAamzz0"
      },
      "execution_count": null,
      "outputs": []
    },
    {
      "cell_type": "code",
      "source": [
        "precios = ['X5', 'X4', 'X3', 'X2', 'X1']"
      ],
      "metadata": {
        "id": "QZvVVa02mzxb"
      },
      "execution_count": null,
      "outputs": []
    },
    {
      "cell_type": "code",
      "source": [
        "X_selecto = X_raw[precios + features_1 + features_2]\n",
        "X_selecto"
      ],
      "metadata": {
        "colab": {
          "base_uri": "https://localhost:8080/",
          "height": 519
        },
        "id": "tVQ3L_JPmzvU",
        "outputId": "bed578f3-5c2f-473e-d9cb-6e9d0affd656"
      },
      "execution_count": null,
      "outputs": [
        {
          "output_type": "execute_result",
          "data": {
            "text/plain": [
              "              X5        X4        X3        X2        X1  I1_lag47  I1_lag23  \\\n",
              "ID                                                                             \n",
              "0       4.177783  2.745197 -0.972192  0.620360  0.460020  0.123301 -0.303876   \n",
              "1       8.608291  3.741888 -0.222026 -2.199925 -0.347872  1.389198 -3.016570   \n",
              "2       3.870262 -0.003912  1.619057 -0.432461 -2.152963  1.560763  2.071983   \n",
              "3       0.992362  0.178225 -4.214322 -1.881770 -1.827669  0.766485  3.888724   \n",
              "4       2.161637  5.204120  1.561006  1.799939  0.748761  2.419920  0.351939   \n",
              "...          ...       ...       ...       ...       ...       ...       ...   \n",
              "13995 -10.229167 -1.266230 -2.860659 -0.472044 -0.074522  1.212270 -0.326625   \n",
              "13996  -1.588960  1.136877  0.816198  3.177408  1.730118  0.627397  0.213728   \n",
              "13997   8.916299  8.163642  1.056253  4.108092  2.093028 -0.430326  1.587833   \n",
              "13998  -4.805661 -2.639386 -2.851078 -1.602078  1.483381 -3.826979 -1.611228   \n",
              "13999   1.326936  0.248722 -0.223061  1.129081 -1.305992  1.107247  0.135566   \n",
              "\n",
              "       I1_lag11   I1_lag5   I1_lag0  I2_lag47  I2_lag23  I2_lag11   I2_lag5  \\\n",
              "ID                                                                            \n",
              "0     -1.570320 -0.474029  2.325865  0.084599  1.093088 -0.336963 -0.364099   \n",
              "1      1.469743 -2.118337 -4.091293 -0.389125 -1.219913  0.740208  0.779588   \n",
              "2     -0.935591 -0.890084 -0.598858  0.948492  0.865920 -0.717741 -0.512224   \n",
              "3     -2.562135 -1.055666  0.383757 -0.570012 -0.102196 -0.354586 -0.647492   \n",
              "4     -1.497806 -1.033174 -1.275226  1.860046  2.108902 -0.088636 -1.198800   \n",
              "...         ...       ...       ...       ...       ...       ...       ...   \n",
              "13995 -1.044508 -0.188567  0.583145  0.325598  1.759328  0.045704  0.693354   \n",
              "13996  3.681717 -0.112632  1.011735  0.892681 -0.298030  2.520059  3.283997   \n",
              "13997  2.317140 -0.313868  2.338713 -0.704965  2.820523 -0.755655 -0.106609   \n",
              "13998  4.255336  0.248679 -2.252937 -3.587565  1.078699 -0.814257  2.228993   \n",
              "13999 -0.111849 -1.182997 -0.496556  1.161163  0.994249  1.469175 -2.183783   \n",
              "\n",
              "        I2_lag0  \n",
              "ID               \n",
              "0      0.847821  \n",
              "1     -2.032579  \n",
              "2     -0.171448  \n",
              "3      3.078638  \n",
              "4     -1.419191  \n",
              "...         ...  \n",
              "13995  0.456789  \n",
              "13996  1.779191  \n",
              "13997  0.575855  \n",
              "13998 -2.571885  \n",
              "13999  0.728584  \n",
              "\n",
              "[14000 rows x 15 columns]"
            ],
            "text/html": [
              "\n",
              "  <div id=\"df-b0186bce-9b17-47ec-a262-76c67af671bf\">\n",
              "    <div class=\"colab-df-container\">\n",
              "      <div>\n",
              "<style scoped>\n",
              "    .dataframe tbody tr th:only-of-type {\n",
              "        vertical-align: middle;\n",
              "    }\n",
              "\n",
              "    .dataframe tbody tr th {\n",
              "        vertical-align: top;\n",
              "    }\n",
              "\n",
              "    .dataframe thead th {\n",
              "        text-align: right;\n",
              "    }\n",
              "</style>\n",
              "<table border=\"1\" class=\"dataframe\">\n",
              "  <thead>\n",
              "    <tr style=\"text-align: right;\">\n",
              "      <th></th>\n",
              "      <th>X5</th>\n",
              "      <th>X4</th>\n",
              "      <th>X3</th>\n",
              "      <th>X2</th>\n",
              "      <th>X1</th>\n",
              "      <th>I1_lag47</th>\n",
              "      <th>I1_lag23</th>\n",
              "      <th>I1_lag11</th>\n",
              "      <th>I1_lag5</th>\n",
              "      <th>I1_lag0</th>\n",
              "      <th>I2_lag47</th>\n",
              "      <th>I2_lag23</th>\n",
              "      <th>I2_lag11</th>\n",
              "      <th>I2_lag5</th>\n",
              "      <th>I2_lag0</th>\n",
              "    </tr>\n",
              "    <tr>\n",
              "      <th>ID</th>\n",
              "      <th></th>\n",
              "      <th></th>\n",
              "      <th></th>\n",
              "      <th></th>\n",
              "      <th></th>\n",
              "      <th></th>\n",
              "      <th></th>\n",
              "      <th></th>\n",
              "      <th></th>\n",
              "      <th></th>\n",
              "      <th></th>\n",
              "      <th></th>\n",
              "      <th></th>\n",
              "      <th></th>\n",
              "      <th></th>\n",
              "    </tr>\n",
              "  </thead>\n",
              "  <tbody>\n",
              "    <tr>\n",
              "      <th>0</th>\n",
              "      <td>4.177783</td>\n",
              "      <td>2.745197</td>\n",
              "      <td>-0.972192</td>\n",
              "      <td>0.620360</td>\n",
              "      <td>0.460020</td>\n",
              "      <td>0.123301</td>\n",
              "      <td>-0.303876</td>\n",
              "      <td>-1.570320</td>\n",
              "      <td>-0.474029</td>\n",
              "      <td>2.325865</td>\n",
              "      <td>0.084599</td>\n",
              "      <td>1.093088</td>\n",
              "      <td>-0.336963</td>\n",
              "      <td>-0.364099</td>\n",
              "      <td>0.847821</td>\n",
              "    </tr>\n",
              "    <tr>\n",
              "      <th>1</th>\n",
              "      <td>8.608291</td>\n",
              "      <td>3.741888</td>\n",
              "      <td>-0.222026</td>\n",
              "      <td>-2.199925</td>\n",
              "      <td>-0.347872</td>\n",
              "      <td>1.389198</td>\n",
              "      <td>-3.016570</td>\n",
              "      <td>1.469743</td>\n",
              "      <td>-2.118337</td>\n",
              "      <td>-4.091293</td>\n",
              "      <td>-0.389125</td>\n",
              "      <td>-1.219913</td>\n",
              "      <td>0.740208</td>\n",
              "      <td>0.779588</td>\n",
              "      <td>-2.032579</td>\n",
              "    </tr>\n",
              "    <tr>\n",
              "      <th>2</th>\n",
              "      <td>3.870262</td>\n",
              "      <td>-0.003912</td>\n",
              "      <td>1.619057</td>\n",
              "      <td>-0.432461</td>\n",
              "      <td>-2.152963</td>\n",
              "      <td>1.560763</td>\n",
              "      <td>2.071983</td>\n",
              "      <td>-0.935591</td>\n",
              "      <td>-0.890084</td>\n",
              "      <td>-0.598858</td>\n",
              "      <td>0.948492</td>\n",
              "      <td>0.865920</td>\n",
              "      <td>-0.717741</td>\n",
              "      <td>-0.512224</td>\n",
              "      <td>-0.171448</td>\n",
              "    </tr>\n",
              "    <tr>\n",
              "      <th>3</th>\n",
              "      <td>0.992362</td>\n",
              "      <td>0.178225</td>\n",
              "      <td>-4.214322</td>\n",
              "      <td>-1.881770</td>\n",
              "      <td>-1.827669</td>\n",
              "      <td>0.766485</td>\n",
              "      <td>3.888724</td>\n",
              "      <td>-2.562135</td>\n",
              "      <td>-1.055666</td>\n",
              "      <td>0.383757</td>\n",
              "      <td>-0.570012</td>\n",
              "      <td>-0.102196</td>\n",
              "      <td>-0.354586</td>\n",
              "      <td>-0.647492</td>\n",
              "      <td>3.078638</td>\n",
              "    </tr>\n",
              "    <tr>\n",
              "      <th>4</th>\n",
              "      <td>2.161637</td>\n",
              "      <td>5.204120</td>\n",
              "      <td>1.561006</td>\n",
              "      <td>1.799939</td>\n",
              "      <td>0.748761</td>\n",
              "      <td>2.419920</td>\n",
              "      <td>0.351939</td>\n",
              "      <td>-1.497806</td>\n",
              "      <td>-1.033174</td>\n",
              "      <td>-1.275226</td>\n",
              "      <td>1.860046</td>\n",
              "      <td>2.108902</td>\n",
              "      <td>-0.088636</td>\n",
              "      <td>-1.198800</td>\n",
              "      <td>-1.419191</td>\n",
              "    </tr>\n",
              "    <tr>\n",
              "      <th>...</th>\n",
              "      <td>...</td>\n",
              "      <td>...</td>\n",
              "      <td>...</td>\n",
              "      <td>...</td>\n",
              "      <td>...</td>\n",
              "      <td>...</td>\n",
              "      <td>...</td>\n",
              "      <td>...</td>\n",
              "      <td>...</td>\n",
              "      <td>...</td>\n",
              "      <td>...</td>\n",
              "      <td>...</td>\n",
              "      <td>...</td>\n",
              "      <td>...</td>\n",
              "      <td>...</td>\n",
              "    </tr>\n",
              "    <tr>\n",
              "      <th>13995</th>\n",
              "      <td>-10.229167</td>\n",
              "      <td>-1.266230</td>\n",
              "      <td>-2.860659</td>\n",
              "      <td>-0.472044</td>\n",
              "      <td>-0.074522</td>\n",
              "      <td>1.212270</td>\n",
              "      <td>-0.326625</td>\n",
              "      <td>-1.044508</td>\n",
              "      <td>-0.188567</td>\n",
              "      <td>0.583145</td>\n",
              "      <td>0.325598</td>\n",
              "      <td>1.759328</td>\n",
              "      <td>0.045704</td>\n",
              "      <td>0.693354</td>\n",
              "      <td>0.456789</td>\n",
              "    </tr>\n",
              "    <tr>\n",
              "      <th>13996</th>\n",
              "      <td>-1.588960</td>\n",
              "      <td>1.136877</td>\n",
              "      <td>0.816198</td>\n",
              "      <td>3.177408</td>\n",
              "      <td>1.730118</td>\n",
              "      <td>0.627397</td>\n",
              "      <td>0.213728</td>\n",
              "      <td>3.681717</td>\n",
              "      <td>-0.112632</td>\n",
              "      <td>1.011735</td>\n",
              "      <td>0.892681</td>\n",
              "      <td>-0.298030</td>\n",
              "      <td>2.520059</td>\n",
              "      <td>3.283997</td>\n",
              "      <td>1.779191</td>\n",
              "    </tr>\n",
              "    <tr>\n",
              "      <th>13997</th>\n",
              "      <td>8.916299</td>\n",
              "      <td>8.163642</td>\n",
              "      <td>1.056253</td>\n",
              "      <td>4.108092</td>\n",
              "      <td>2.093028</td>\n",
              "      <td>-0.430326</td>\n",
              "      <td>1.587833</td>\n",
              "      <td>2.317140</td>\n",
              "      <td>-0.313868</td>\n",
              "      <td>2.338713</td>\n",
              "      <td>-0.704965</td>\n",
              "      <td>2.820523</td>\n",
              "      <td>-0.755655</td>\n",
              "      <td>-0.106609</td>\n",
              "      <td>0.575855</td>\n",
              "    </tr>\n",
              "    <tr>\n",
              "      <th>13998</th>\n",
              "      <td>-4.805661</td>\n",
              "      <td>-2.639386</td>\n",
              "      <td>-2.851078</td>\n",
              "      <td>-1.602078</td>\n",
              "      <td>1.483381</td>\n",
              "      <td>-3.826979</td>\n",
              "      <td>-1.611228</td>\n",
              "      <td>4.255336</td>\n",
              "      <td>0.248679</td>\n",
              "      <td>-2.252937</td>\n",
              "      <td>-3.587565</td>\n",
              "      <td>1.078699</td>\n",
              "      <td>-0.814257</td>\n",
              "      <td>2.228993</td>\n",
              "      <td>-2.571885</td>\n",
              "    </tr>\n",
              "    <tr>\n",
              "      <th>13999</th>\n",
              "      <td>1.326936</td>\n",
              "      <td>0.248722</td>\n",
              "      <td>-0.223061</td>\n",
              "      <td>1.129081</td>\n",
              "      <td>-1.305992</td>\n",
              "      <td>1.107247</td>\n",
              "      <td>0.135566</td>\n",
              "      <td>-0.111849</td>\n",
              "      <td>-1.182997</td>\n",
              "      <td>-0.496556</td>\n",
              "      <td>1.161163</td>\n",
              "      <td>0.994249</td>\n",
              "      <td>1.469175</td>\n",
              "      <td>-2.183783</td>\n",
              "      <td>0.728584</td>\n",
              "    </tr>\n",
              "  </tbody>\n",
              "</table>\n",
              "<p>14000 rows × 15 columns</p>\n",
              "</div>\n",
              "      <button class=\"colab-df-convert\" onclick=\"convertToInteractive('df-b0186bce-9b17-47ec-a262-76c67af671bf')\"\n",
              "              title=\"Convert this dataframe to an interactive table.\"\n",
              "              style=\"display:none;\">\n",
              "        \n",
              "  <svg xmlns=\"http://www.w3.org/2000/svg\" height=\"24px\"viewBox=\"0 0 24 24\"\n",
              "       width=\"24px\">\n",
              "    <path d=\"M0 0h24v24H0V0z\" fill=\"none\"/>\n",
              "    <path d=\"M18.56 5.44l.94 2.06.94-2.06 2.06-.94-2.06-.94-.94-2.06-.94 2.06-2.06.94zm-11 1L8.5 8.5l.94-2.06 2.06-.94-2.06-.94L8.5 2.5l-.94 2.06-2.06.94zm10 10l.94 2.06.94-2.06 2.06-.94-2.06-.94-.94-2.06-.94 2.06-2.06.94z\"/><path d=\"M17.41 7.96l-1.37-1.37c-.4-.4-.92-.59-1.43-.59-.52 0-1.04.2-1.43.59L10.3 9.45l-7.72 7.72c-.78.78-.78 2.05 0 2.83L4 21.41c.39.39.9.59 1.41.59.51 0 1.02-.2 1.41-.59l7.78-7.78 2.81-2.81c.8-.78.8-2.07 0-2.86zM5.41 20L4 18.59l7.72-7.72 1.47 1.35L5.41 20z\"/>\n",
              "  </svg>\n",
              "      </button>\n",
              "      \n",
              "  <style>\n",
              "    .colab-df-container {\n",
              "      display:flex;\n",
              "      flex-wrap:wrap;\n",
              "      gap: 12px;\n",
              "    }\n",
              "\n",
              "    .colab-df-convert {\n",
              "      background-color: #E8F0FE;\n",
              "      border: none;\n",
              "      border-radius: 50%;\n",
              "      cursor: pointer;\n",
              "      display: none;\n",
              "      fill: #1967D2;\n",
              "      height: 32px;\n",
              "      padding: 0 0 0 0;\n",
              "      width: 32px;\n",
              "    }\n",
              "\n",
              "    .colab-df-convert:hover {\n",
              "      background-color: #E2EBFA;\n",
              "      box-shadow: 0px 1px 2px rgba(60, 64, 67, 0.3), 0px 1px 3px 1px rgba(60, 64, 67, 0.15);\n",
              "      fill: #174EA6;\n",
              "    }\n",
              "\n",
              "    [theme=dark] .colab-df-convert {\n",
              "      background-color: #3B4455;\n",
              "      fill: #D2E3FC;\n",
              "    }\n",
              "\n",
              "    [theme=dark] .colab-df-convert:hover {\n",
              "      background-color: #434B5C;\n",
              "      box-shadow: 0px 1px 3px 1px rgba(0, 0, 0, 0.15);\n",
              "      filter: drop-shadow(0px 1px 2px rgba(0, 0, 0, 0.3));\n",
              "      fill: #FFFFFF;\n",
              "    }\n",
              "  </style>\n",
              "\n",
              "      <script>\n",
              "        const buttonEl =\n",
              "          document.querySelector('#df-b0186bce-9b17-47ec-a262-76c67af671bf button.colab-df-convert');\n",
              "        buttonEl.style.display =\n",
              "          google.colab.kernel.accessAllowed ? 'block' : 'none';\n",
              "\n",
              "        async function convertToInteractive(key) {\n",
              "          const element = document.querySelector('#df-b0186bce-9b17-47ec-a262-76c67af671bf');\n",
              "          const dataTable =\n",
              "            await google.colab.kernel.invokeFunction('convertToInteractive',\n",
              "                                                     [key], {});\n",
              "          if (!dataTable) return;\n",
              "\n",
              "          const docLinkHtml = 'Like what you see? Visit the ' +\n",
              "            '<a target=\"_blank\" href=https://colab.research.google.com/notebooks/data_table.ipynb>data table notebook</a>'\n",
              "            + ' to learn more about interactive tables.';\n",
              "          element.innerHTML = '';\n",
              "          dataTable['output_type'] = 'display_data';\n",
              "          await google.colab.output.renderOutput(dataTable, element);\n",
              "          const docLink = document.createElement('div');\n",
              "          docLink.innerHTML = docLinkHtml;\n",
              "          element.appendChild(docLink);\n",
              "        }\n",
              "      </script>\n",
              "    </div>\n",
              "  </div>\n",
              "  "
            ]
          },
          "metadata": {},
          "execution_count": 9
        }
      ]
    },
    {
      "cell_type": "markdown",
      "source": [
        "Hay que reacomodar los datos, para tener pequeñas series de tiempo que tengan 5 tiempos distintos."
      ],
      "metadata": {
        "id": "pYkGN61H0qh-"
      }
    },
    {
      "cell_type": "code",
      "source": [
        "data_array = np.zeros((len(X_selecto), 5, 3))"
      ],
      "metadata": {
        "id": "2N0-TUc_mzrB"
      },
      "execution_count": null,
      "outputs": []
    },
    {
      "cell_type": "code",
      "source": [
        "for i in range(len(X_selecto)):\n",
        "    data_array[i] = X_selecto.iloc[i, :].values.reshape(3,5).T\n",
        "    print(data_array[i])\n",
        "    break"
      ],
      "metadata": {
        "colab": {
          "base_uri": "https://localhost:8080/"
        },
        "id": "VIQdvuXk1SdM",
        "outputId": "b0f5caee-c4f6-48e9-f6eb-442760d753e1"
      },
      "execution_count": null,
      "outputs": [
        {
          "output_type": "stream",
          "name": "stdout",
          "text": [
            "[[ 4.17778324  0.12330096  0.08459858]\n",
            " [ 2.74519725 -0.30387588  1.09308833]\n",
            " [-0.97219231 -1.57032042 -0.33696346]\n",
            " [ 0.62035968 -0.47402934 -0.36409929]\n",
            " [ 0.46002033  2.3258649   0.84782066]]\n"
          ]
        }
      ]
    },
    {
      "cell_type": "code",
      "source": [
        "for i in range(len(X_selecto)):\n",
        "    data_array[i] = X_selecto.iloc[i, :].values.reshape(3,5).T"
      ],
      "metadata": {
        "id": "mcC9xXD51Sax"
      },
      "execution_count": null,
      "outputs": []
    },
    {
      "cell_type": "code",
      "source": [
        "data_array.shape"
      ],
      "metadata": {
        "colab": {
          "base_uri": "https://localhost:8080/"
        },
        "id": "qKs5fe0I1SYf",
        "outputId": "809d0f75-58f5-46c7-e651-f62223b31402"
      },
      "execution_count": null,
      "outputs": [
        {
          "output_type": "execute_result",
          "data": {
            "text/plain": [
              "(14000, 5, 3)"
            ]
          },
          "metadata": {},
          "execution_count": 13
        }
      ]
    },
    {
      "cell_type": "code",
      "source": [
        "np.set_printoptions(suppress=True)"
      ],
      "metadata": {
        "id": "zIOOfpBXeaNw"
      },
      "execution_count": null,
      "outputs": []
    },
    {
      "cell_type": "code",
      "source": [
        "# Un arreglo con series temporales para 3 características (las filas representan como va avanzando el tiempo)\n",
        "data_array"
      ],
      "metadata": {
        "colab": {
          "base_uri": "https://localhost:8080/"
        },
        "id": "ufB0ZJxN1SWR",
        "outputId": "be407329-16ab-4e7b-babb-12d0743eafa5"
      },
      "execution_count": null,
      "outputs": [
        {
          "output_type": "execute_result",
          "data": {
            "text/plain": [
              "array([[[ 4.17778324,  0.12330096,  0.08459858],\n",
              "        [ 2.74519725, -0.30387588,  1.09308833],\n",
              "        [-0.97219231, -1.57032042, -0.33696346],\n",
              "        [ 0.62035968, -0.47402934, -0.36409929],\n",
              "        [ 0.46002033,  2.3258649 ,  0.84782066]],\n",
              "\n",
              "       [[ 8.60829058,  1.38919769, -0.38912495],\n",
              "        [ 3.74188805, -3.01657043, -1.21991286],\n",
              "        [-0.22202592,  1.46974303,  0.74020831],\n",
              "        [-2.19992478, -2.11833719,  0.77958786],\n",
              "        [-0.34787206, -4.091293  , -2.03257946]],\n",
              "\n",
              "       [[ 3.87026224,  1.56076271,  0.94849226],\n",
              "        [-0.00391238,  2.07198349,  0.8659197 ],\n",
              "        [ 1.61905739, -0.93559074, -0.717741  ],\n",
              "        [-0.43246086, -0.89008449, -0.5122244 ],\n",
              "        [-2.15296262, -0.59885808, -0.17144772]],\n",
              "\n",
              "       ...,\n",
              "\n",
              "       [[ 8.91629887, -0.43032551, -0.70496467],\n",
              "        [ 8.16364221,  1.58783271,  2.8205228 ],\n",
              "        [ 1.05625294,  2.31714006, -0.75565513],\n",
              "        [ 4.10809178, -0.31386772, -0.1066092 ],\n",
              "        [ 2.09302801,  2.33871299,  0.57585518]],\n",
              "\n",
              "       [[-4.80566062, -3.82697921, -3.58756501],\n",
              "        [-2.63938593, -1.6112278 ,  1.07869938],\n",
              "        [-2.85107802,  4.25533615, -0.81425723],\n",
              "        [-1.60207762,  0.24867923,  2.228993  ],\n",
              "        [ 1.48338126, -2.25293713, -2.57188478]],\n",
              "\n",
              "       [[ 1.32693627,  1.10724688,  1.16116307],\n",
              "        [ 0.24872182,  0.13556559,  0.99424892],\n",
              "        [-0.22306107, -0.11184893,  1.46917539],\n",
              "        [ 1.12908125, -1.18299676, -2.18378294],\n",
              "        [-1.3059921 , -0.4965564 ,  0.72858445]]])"
            ]
          },
          "metadata": {},
          "execution_count": 16
        }
      ]
    },
    {
      "cell_type": "markdown",
      "source": [
        "Tomemos solo uno de los datos (el primero) para ejemplificar como avanzaría la red"
      ],
      "metadata": {
        "id": "Glqex5AG3Q-L"
      }
    },
    {
      "cell_type": "code",
      "source": [
        "seriesita = data_array[0]\n",
        "seriesita"
      ],
      "metadata": {
        "colab": {
          "base_uri": "https://localhost:8080/"
        },
        "id": "1n639CRh3O2F",
        "outputId": "9881276c-cbab-4496-cdc8-cbcf726216eb"
      },
      "execution_count": null,
      "outputs": [
        {
          "output_type": "execute_result",
          "data": {
            "text/plain": [
              "array([[ 4.17778324,  0.12330096,  0.08459858],\n",
              "       [ 2.74519725, -0.30387588,  1.09308833],\n",
              "       [-0.97219231, -1.57032042, -0.33696346],\n",
              "       [ 0.62035968, -0.47402934, -0.36409929],\n",
              "       [ 0.46002033,  2.3258649 ,  0.84782066]])"
            ]
          },
          "metadata": {},
          "execution_count": 17
        }
      ]
    },
    {
      "cell_type": "markdown",
      "source": [
        "# Veamos como se alimentaría la red para un solo valor (despues pueden ciclar o decidir si cambian el estilo de la multiplicación de matrices)."
      ],
      "metadata": {
        "id": "IzCPqFRT20TT"
      }
    },
    {
      "cell_type": "markdown",
      "source": [
        "La imagen muestra como es nuestro modelo muy generalmente\n",
        "<center> <img src='https://github.com/MaxMitre/Redes_Neuronales_Scratch/blob/main/semana5/images/red.png?raw=true' width=300> </center>"
      ],
      "metadata": {
        "id": "Za8aifqEA-PS"
      }
    },
    {
      "cell_type": "markdown",
      "source": [
        "Primero, en la imagen de abajo, veamos que debemos definir (estado oculto $H_0$, matrices de pesos y de sesgos que tendrá la neurona). La imagen muestra como sería la entrada del primer dato de la serie de tiempo y que saldría de la neurona."
      ],
      "metadata": {
        "id": "cK1gMQDs4wbI"
      }
    },
    {
      "cell_type": "markdown",
      "source": [
        "<center> <img src='https://github.com/MaxMitre/Redes_Neuronales_Scratch/blob/main/semana5/images/t_1.png?raw=true' width=500> </center>\n",
        "\n",
        "**NOTA:** El vector de sesgos es en realidad $B_h$, que afecta a los estados ocultos, ya que despues definiremos un $B$ con el cual no debe confundirse"
      ],
      "metadata": {
        "id": "IUREonobAwkq"
      }
    },
    {
      "cell_type": "code",
      "source": [
        "# Primer estado oculto \"H_0\", arriba dijimos que \"n\" sería igual a 6\n",
        "H_0 = np.random.randn(1,7)\n",
        "H_0"
      ],
      "metadata": {
        "colab": {
          "base_uri": "https://localhost:8080/"
        },
        "id": "Vc4Y_BRa1SUL",
        "outputId": "fb2312a7-14d6-4bbf-ed5c-bc814636476d"
      },
      "execution_count": null,
      "outputs": [
        {
          "output_type": "execute_result",
          "data": {
            "text/plain": [
              "array([[ 2.00080169,  0.25148641, -1.47785606, -1.30892261, -0.52856977,\n",
              "         1.46196243,  0.42961185]])"
            ]
          },
          "metadata": {},
          "execution_count": 18
        }
      ]
    },
    {
      "cell_type": "code",
      "source": [
        "# Pesos que hacen un producto punto con los datos de entrada de la serie de tiempo\n",
        "W_x = np.random.randn(3,7)\n",
        "W_x"
      ],
      "metadata": {
        "colab": {
          "base_uri": "https://localhost:8080/"
        },
        "id": "HGH75Ulc1SSN",
        "outputId": "33245572-1189-42d8-8ffb-031601b285f8"
      },
      "execution_count": null,
      "outputs": [
        {
          "output_type": "execute_result",
          "data": {
            "text/plain": [
              "array([[ 1.06066247,  1.72275996,  0.72074399, -0.33071617,  0.03798293,\n",
              "        -1.52952405,  1.59448278],\n",
              "       [ 1.7842374 ,  0.98211354, -1.10566884,  0.19595719,  2.21485583,\n",
              "         0.72285781, -0.28323368],\n",
              "       [-1.00889885, -0.9228497 ,  2.05059104, -1.03444399,  0.76469578,\n",
              "         0.15501751,  1.27261755]])"
            ]
          },
          "metadata": {},
          "execution_count": 19
        }
      ]
    },
    {
      "cell_type": "code",
      "source": [
        "# Pesos que multiplican el estado oculto anterior para generar una parte del nuevo estado oculto\n",
        "W_h = np.random.randn(7,7)\n",
        "W_h"
      ],
      "metadata": {
        "colab": {
          "base_uri": "https://localhost:8080/"
        },
        "id": "3FslH3_i1SP1",
        "outputId": "b3e4f7cd-054f-406c-c892-e5a864eb4848"
      },
      "execution_count": null,
      "outputs": [
        {
          "output_type": "execute_result",
          "data": {
            "text/plain": [
              "array([[ 0.93769511, -1.34384051,  0.32189843, -1.89521802, -0.94468624,\n",
              "        -1.44218519, -0.64230056],\n",
              "       [-0.52189844, -0.71020496, -0.79132225, -1.45813751, -0.06593407,\n",
              "        -0.93772038, -1.42063259],\n",
              "       [ 1.7771382 ,  0.08262092,  0.34452191,  0.62627867,  0.33400386,\n",
              "        -0.12069739, -0.60106045],\n",
              "       [ 1.00197004,  0.94835284,  0.1649459 ,  0.96108167,  0.73813376,\n",
              "         0.16172797,  0.11530825],\n",
              "       [ 0.98031069,  1.28680378,  0.25157899, -0.82350378,  0.02821466,\n",
              "         0.24293452, -1.0220836 ],\n",
              "       [-1.05619823, -0.06445143, -0.04242132, -0.77463845, -0.39817197,\n",
              "         0.50284577,  0.45470089],\n",
              "       [-0.0443153 , -1.22729398, -1.39644938,  0.09372488,  0.14245357,\n",
              "         1.8861764 , -1.34450456]])"
            ]
          },
          "metadata": {},
          "execution_count": 20
        }
      ]
    },
    {
      "cell_type": "code",
      "source": [
        "# Sesgo para generar una parte del estado oculto\n",
        "B_h = np.random.rand(1,7)\n",
        "B_h"
      ],
      "metadata": {
        "colab": {
          "base_uri": "https://localhost:8080/"
        },
        "id": "GeFMLoib1SNi",
        "outputId": "aa5cf4f2-69af-4b61-dfee-2db0a1c922fc"
      },
      "execution_count": null,
      "outputs": [
        {
          "output_type": "execute_result",
          "data": {
            "text/plain": [
              "array([[0.96312163, 0.8100341 , 0.03787259, 0.15918599, 0.63046225,\n",
              "        0.28560728, 0.44817915]])"
            ]
          },
          "metadata": {},
          "execution_count": 21
        }
      ]
    },
    {
      "cell_type": "markdown",
      "source": [
        "## Recuerden que $X$ es toda la serie, entonces $X_1$ con el que alimentaremos en el primer paso es el primer renglón de $X$ (variable llamada \"seriesita\" [de serie pequeña])"
      ],
      "metadata": {
        "id": "g57ZNQZYDcUu"
      }
    },
    {
      "cell_type": "code",
      "source": [
        "# ¿Con que secuencia de código obtendrían X_1?\n",
        "X_1 = seriesita[0]\n",
        "X_1"
      ],
      "metadata": {
        "colab": {
          "base_uri": "https://localhost:8080/"
        },
        "id": "xudpv4camzoy",
        "outputId": "a248357a-e8ad-4ac4-a5a6-33438f4ca81f"
      },
      "execution_count": null,
      "outputs": [
        {
          "output_type": "execute_result",
          "data": {
            "text/plain": [
              "array([4.17778324, 0.12330096, 0.08459858])"
            ]
          },
          "metadata": {},
          "execution_count": 22
        }
      ]
    },
    {
      "cell_type": "code",
      "source": [
        "# Según la imagen, la operación a realizar será la siguiente\n",
        "H_1 = sigmoid(np.dot(X_1,W_x) + H_0 @ W_h + B_h)\n",
        "H_1"
      ],
      "metadata": {
        "colab": {
          "base_uri": "https://localhost:8080/"
        },
        "id": "ugDDPw2JCR4G",
        "outputId": "5bf3c9fd-efc8-4fe3-c25b-f39e4566870a"
      },
      "execution_count": null,
      "outputs": [
        {
          "output_type": "execute_result",
          "data": {
            "text/plain": [
              "array([[0.77811224, 0.92538973, 0.88196781, 0.00025222, 0.0586695 ,\n",
              "        0.00043498, 0.99899791]])"
            ]
          },
          "metadata": {},
          "execution_count": 23
        }
      ]
    },
    {
      "cell_type": "markdown",
      "source": [
        "# EJERCICIOS:\n",
        "\n"
      ],
      "metadata": {
        "id": "phJ4ws2rEimm"
      }
    },
    {
      "cell_type": "markdown",
      "source": [
        "# 1. En base a la imagen de abajo, ¿como obtendria $H_2$? Realice los calculos"
      ],
      "metadata": {
        "id": "jqwRjwWuF2Tf"
      }
    },
    {
      "cell_type": "markdown",
      "source": [
        "<center> <img src='https://github.com/MaxMitre/Redes_Neuronales_Scratch/blob/main/semana5/images/t_2.png?raw=true' width=500> </center>"
      ],
      "metadata": {
        "id": "H9VRcsATEjo_"
      }
    },
    {
      "cell_type": "code",
      "source": [
        "# Espacio para solución de Ejercicio 1\n",
        "X_2 = seriesita[2]\n",
        "H_2 = sigmoid(np.dot(X_2,W_x) + H_1 @ W_h + B_h)"
      ],
      "metadata": {
        "id": "fvl6j2b-CR2Q"
      },
      "execution_count": null,
      "outputs": []
    },
    {
      "cell_type": "markdown",
      "source": [
        "# 2. Realice los pasos para obtener hasta $H_4$"
      ],
      "metadata": {
        "id": "LdB-vevVE-WZ"
      }
    },
    {
      "cell_type": "code",
      "source": [
        "# Espacio para solución de ejercicio 2\n",
        "X_3 = seriesita[2]\n",
        "H_3 = sigmoid(np.dot(X_3,W_x) + H_2 @ W_h + B_h)\n",
        "\n",
        "X_4 = seriesita[3]\n",
        "H_4 = sigmoid(np.dot(X_4,W_x) + H_3 @ W_h + B_h)"
      ],
      "metadata": {
        "id": "5EalSoBfCR0X"
      },
      "execution_count": null,
      "outputs": []
    },
    {
      "cell_type": "markdown",
      "source": [
        "## Forma general como iteramos en la capa (salvo la última etapa)"
      ],
      "metadata": {
        "id": "9ugRoJnCFdpN"
      }
    },
    {
      "cell_type": "markdown",
      "source": [
        "<center> <img src='https://github.com/MaxMitre/Redes_Neuronales_Scratch/blob/main/semana5/images/t_general.png?raw=true' width=500> </cemter>"
      ],
      "metadata": {
        "id": "YqpIlWa6FlRm"
      }
    },
    {
      "cell_type": "markdown",
      "source": [
        "# 3. Según la imagen posterior, vemos como obtendremos la imagen de salida, tras que el profesor la explique, tratar de implementar las operaciones para obtener su salida $\\hat{Y}$"
      ],
      "metadata": {
        "id": "gqHGbN83FFeJ"
      }
    },
    {
      "cell_type": "markdown",
      "source": [
        "<center> <img src='https://github.com/MaxMitre/Redes_Neuronales_Scratch/blob/main/semana5/images/ultima.png?raw=true' width=500> </center>"
      ],
      "metadata": {
        "id": "8wswjW_qFR8p"
      }
    },
    {
      "cell_type": "code",
      "source": [
        "def softmax(X):\n",
        "    X_exp = np.exp(X)\n",
        "    partition = X_exp.sum(1, keepdims=True)\n",
        "    return X_exp / partition"
      ],
      "metadata": {
        "id": "Vtg7mCMHoXt_"
      },
      "execution_count": null,
      "outputs": []
    },
    {
      "cell_type": "code",
      "source": [
        "# Espacio para ejercicio 3\n",
        "X_5 = seriesita[4]\n",
        "H_5 = sigmoid(np.dot(X_5,W_x) + H_4 @ W_h + B_h)\n",
        "\n",
        "W = np.random.rand(7,3)\n",
        "B = np.random.rand(1,3)"
      ],
      "metadata": {
        "id": "O8N6dTQvCRyG"
      },
      "execution_count": null,
      "outputs": []
    },
    {
      "cell_type": "code",
      "source": [
        "salida = softmax(H_5 @ W + B)\n",
        "salida"
      ],
      "metadata": {
        "colab": {
          "base_uri": "https://localhost:8080/"
        },
        "id": "eQWQQraFnRUO",
        "outputId": "fd514b88-d36f-41c1-9306-783f9ecd87b1"
      },
      "execution_count": null,
      "outputs": [
        {
          "output_type": "execute_result",
          "data": {
            "text/plain": [
              "array([[0.55006502, 0.17225529, 0.27767969]])"
            ]
          },
          "metadata": {},
          "execution_count": 30
        }
      ]
    },
    {
      "cell_type": "markdown",
      "source": [
        "1. ¿Cómo interpretamos la salida de esta red (es una red recurrente simple)?\n",
        "\n",
        "2. ¿Podriamos tratar de resolver este problema con otro algoritmo visto? ¿Que solución propondrían?\n",
        "\n"
      ],
      "metadata": {
        "id": "B-WJPxa2GhMf"
      }
    }
  ]
}